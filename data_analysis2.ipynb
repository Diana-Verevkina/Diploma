{
 "cells": [
  {
   "cell_type": "code",
   "execution_count": 51,
   "outputs": [
    {
     "name": "stderr",
     "output_type": "stream",
     "text": [
      "[nltk_data] Error loading stopwords: <urlopen error [SSL:\n",
      "[nltk_data]     CERTIFICATE_VERIFY_FAILED] certificate verify failed:\n",
      "[nltk_data]     unable to get local issuer certificate (_ssl.c:1091)>\n"
     ]
    }
   ],
   "source": [
    "import numpy as np\n",
    "import pandas as pd\n",
    "import seaborn as sns\n",
    "import matplotlib.pyplot as plt\n",
    "%matplotlib inline\n",
    "sns.set(style=\"ticks\")\n",
    "import re\n",
    "import nltk\n",
    "nltk.download('stopwords')\n",
    "from nltk.corpus import stopwords\n",
    "import pymorphy2\n",
    "import sys"
   ],
   "metadata": {
    "collapsed": false,
    "pycharm": {
     "name": "#%%\n"
    }
   }
  },
  {
   "cell_type": "code",
   "execution_count": 13,
   "outputs": [
    {
     "data": {
      "text/plain": "(1627, 10)"
     },
     "execution_count": 13,
     "metadata": {},
     "output_type": "execute_result"
    }
   ],
   "source": [
    "data = pd.read_csv('datanorepeat.csv')\n",
    "data.shape"
   ],
   "metadata": {
    "collapsed": false,
    "pycharm": {
     "name": "#%%\n"
    }
   }
  },
  {
   "cell_type": "code",
   "execution_count": 14,
   "outputs": [
    {
     "data": {
      "text/plain": "name            object\nauthor          object\nsection         object\npublish         object\nage             object\nyear           float64\npages          float64\nrating          object\ncove            object\ndescription     object\ndtype: object"
     },
     "execution_count": 14,
     "metadata": {},
     "output_type": "execute_result"
    }
   ],
   "source": [
    "data.dtypes"
   ],
   "metadata": {
    "collapsed": false,
    "pycharm": {
     "name": "#%%\n"
    }
   }
  },
  {
   "cell_type": "code",
   "execution_count": 15,
   "outputs": [
    {
     "data": {
      "text/plain": "name              1\nauthor         1215\nsection           0\npublish         316\nage             545\nyear             21\npages           120\nrating            0\ncove              0\ndescription       3\ndtype: int64"
     },
     "execution_count": 15,
     "metadata": {},
     "output_type": "execute_result"
    }
   ],
   "source": [
    "data.isnull().sum()"
   ],
   "metadata": {
    "collapsed": false,
    "pycharm": {
     "name": "#%%\n"
    }
   }
  },
  {
   "cell_type": "code",
   "execution_count": 18,
   "outputs": [
    {
     "data": {
      "text/plain": "name              0\nauthor         1214\nsection           0\npublish         314\nage             545\nyear             19\npages           118\nrating            0\ncove              0\ndescription       0\ndtype: int64"
     },
     "execution_count": 18,
     "metadata": {},
     "output_type": "execute_result"
    }
   ],
   "source": [
    "data7 = data\n",
    "data7 = data7.dropna(subset=['description', 'name'])\n",
    "data7.isnull().sum()"
   ],
   "metadata": {
    "collapsed": false,
    "pycharm": {
     "name": "#%%\n"
    }
   }
  },
  {
   "cell_type": "code",
   "execution_count": 19,
   "outputs": [
    {
     "data": {
      "text/plain": "(1623, 10)"
     },
     "execution_count": 19,
     "metadata": {},
     "output_type": "execute_result"
    }
   ],
   "source": [
    "data7.shape"
   ],
   "metadata": {
    "collapsed": false,
    "pycharm": {
     "name": "#%%\n"
    }
   }
  },
  {
   "cell_type": "code",
   "execution_count": 24,
   "outputs": [
    {
     "data": {
      "text/plain": "array(['Саморазвитие и личностный рост', 'Популярная психология',\n       'Копирайтинг', 'Популярная медицина', 'Психология личности',\n       'Кино', 'Классическая психология', 'Лидерство',\n       'Предпринимательство', 'Языкознание', 'Психология бизнеса',\n       'Русский язык'], dtype=object)"
     },
     "execution_count": 24,
     "metadata": {},
     "output_type": "execute_result"
    }
   ],
   "source": [
    "data7['section'].unique()"
   ],
   "metadata": {
    "collapsed": false,
    "pycharm": {
     "name": "#%%\n"
    }
   }
  },
  {
   "cell_type": "code",
   "execution_count": 28,
   "outputs": [
    {
     "data": {
      "text/plain": "name                                   источник внутренней силы \nauthor                                            Вания Маркович\nsection                           Саморазвитие и личностный рост\npublish                                                    Эксмо\nage                                                         16+ \nyear                                                      2022.0\npages                                                      240.0\nrating                                                        5 \ncove           https:https://cdn.book24.ru/v2/ITD000000001140...\ndescription    Вы наверняка встречали словосочетание «эмоцион...\nName: 31, dtype: object"
     },
     "execution_count": 28,
     "metadata": {},
     "output_type": "execute_result"
    }
   ],
   "source": [
    "data7.iloc[30]"
   ],
   "metadata": {
    "collapsed": false,
    "pycharm": {
     "name": "#%%\n"
    }
   }
  },
  {
   "cell_type": "code",
   "execution_count": 29,
   "outputs": [],
   "source": [
    "data.to_csv(r'/Users/dianaverevkina/Diplom_project/Diploma/dataclean.csv', index=False)"
   ],
   "metadata": {
    "collapsed": false,
    "pycharm": {
     "name": "#%%\n"
    }
   }
  },
  {
   "cell_type": "code",
   "execution_count": 30,
   "outputs": [
    {
     "data": {
      "text/plain": "(1627, 10)"
     },
     "execution_count": 30,
     "metadata": {},
     "output_type": "execute_result"
    }
   ],
   "source": [
    "data = pd.read_csv('dataclean.csv')\n",
    "data.shape"
   ],
   "metadata": {
    "collapsed": false,
    "pycharm": {
     "name": "#%%\n"
    }
   }
  },
  {
   "cell_type": "code",
   "execution_count": 32,
   "outputs": [
    {
     "data": {
      "text/plain": "<AxesSubplot:title={'center':'Word Count Distribution for book descriptions'}, ylabel='Frequency'>"
     },
     "execution_count": 32,
     "metadata": {},
     "output_type": "execute_result"
    },
    {
     "data": {
      "text/plain": "<Figure size 1500x1000 with 1 Axes>",
      "image/png": "[encoded data removed]"
     },
     "metadata": {},
     "output_type": "display_data"
    }
   ],
   "source": [
    "# анализ размера описаний\n",
    "data['word_count'] = data['description'].apply(lambda x: len(str(x).split()))# Plotting the word count\n",
    "data['word_count'].plot(\n",
    "    kind='hist',\n",
    "    bins = 100,\n",
    "    figsize = (15,10),title='Word Count Distribution for book descriptions')"
   ],
   "metadata": {
    "collapsed": false,
    "pycharm": {
     "name": "#%%\n"
    }
   }
  },
  {
   "cell_type": "code",
   "execution_count": 33,
   "outputs": [
    {
     "data": {
      "text/plain": "'Татьяна Мужицкая'"
     },
     "execution_count": 33,
     "metadata": {},
     "output_type": "execute_result"
    }
   ],
   "source": [
    "data.author[1]"
   ],
   "metadata": {
    "collapsed": false,
    "pycharm": {
     "name": "#%%\n"
    }
   }
  },
  {
   "cell_type": "code",
   "execution_count": 34,
   "outputs": [
    {
     "data": {
      "text/plain": "'ТатьянаМужицкая'"
     },
     "execution_count": 34,
     "metadata": {},
     "output_type": "execute_result"
    }
   ],
   "source": [
    "re.sub(\" \",\"\", data.author[1])"
   ],
   "metadata": {
    "collapsed": false,
    "pycharm": {
     "name": "#%%\n"
    }
   }
  },
  {
   "cell_type": "code",
   "execution_count": 39,
   "outputs": [],
   "source": [
    "author_new = []\n",
    "for i in data.index:\n",
    "    author_new.append(re.sub(\" \",\"\", str(data.author[i])))"
   ],
   "metadata": {
    "collapsed": false,
    "pycharm": {
     "name": "#%%\n"
    }
   }
  },
  {
   "cell_type": "code",
   "execution_count": 40,
   "outputs": [
    {
     "data": {
      "text/plain": "1627"
     },
     "execution_count": 40,
     "metadata": {},
     "output_type": "execute_result"
    }
   ],
   "source": [
    "len(author_new)"
   ],
   "metadata": {
    "collapsed": false,
    "pycharm": {
     "name": "#%%\n"
    }
   }
  },
  {
   "cell_type": "code",
   "execution_count": 42,
   "outputs": [],
   "source": [
    "description_new = []\n",
    "for i in data.index:\n",
    "    description_new.append(str(data.description[i]))\n",
    "for i in range(len(description_new)):\n",
    "    description_new[i] = re.sub(\"[^А-Яа-я, ё, \\n, -]\", \"\", description_new[i])\n",
    "    description_new[i] = description_new[i].lower()\n",
    "    description_new[i] = re.sub(\",\", \" \", description_new[i])\n",
    "    description_new[i] = re.sub(\"\\n\", \" \", description_new[i])\n",
    "    description_new[i] = re.sub(\"-\", \" \", description_new[i])"
   ],
   "metadata": {
    "collapsed": false,
    "pycharm": {
     "name": "#%%\n"
    }
   }
  },
  {
   "cell_type": "code",
   "execution_count": 45,
   "outputs": [
    {
     "data": {
      "text/plain": "'Новая книга популярного блогера, автора ярких стихов и психолога, Евгении Лисёнковой «С тобой всё так! 11 способов приручить своих тараканов и жить счастливо» будет полезна всем, кто хочет наладить отношения с собой, принять себя, разобраться с чувством вины и стать счастливым. В книге представлены самые актуальные психологические советы и техники, для усиления их эффективности автор воспользовалась «стихотерапией» — основные советы зарифмовала в виде запоминающихся психологических стихов, что делает чтение книги легче, а усвоение полезной информации проще.'"
     },
     "execution_count": 45,
     "metadata": {},
     "output_type": "execute_result"
    }
   ],
   "source": [
    "data.description[100]"
   ],
   "metadata": {
    "collapsed": false,
    "pycharm": {
     "name": "#%%\n"
    }
   }
  },
  {
   "cell_type": "code",
   "execution_count": 53,
   "outputs": [
    {
     "data": {
      "text/plain": "'новая книга популярного блогера  автора ярких стихов и психолога  евгении лисёнковой с тобой всё так  способов приручить своих тараканов и жить счастливо будет полезна всем  кто хочет наладить отношения с собой  принять себя  разобраться с чувством вины и стать счастливым в книге представлены самые актуальные психологические советы и техники  для усиления их эффективности автор воспользовалась стихотерапией  основные советы зарифмовала в виде запоминающихся психологических стихов  что делает чтение книги легче  а усвоение полезной информации проще'"
     },
     "execution_count": 53,
     "metadata": {},
     "output_type": "execute_result"
    }
   ],
   "source": [
    "description_new[100]"
   ],
   "metadata": {
    "collapsed": false,
    "pycharm": {
     "name": "#%%\n"
    }
   }
  },
  {
   "cell_type": "code",
   "execution_count": 55,
   "outputs": [],
   "source": [
    "stop_words = stopwords.words('russian')"
   ],
   "metadata": {
    "collapsed": false,
    "pycharm": {
     "name": "#%%\n"
    }
   }
  },
  {
   "cell_type": "code",
   "execution_count": 54,
   "outputs": [
    {
     "name": "stdout",
     "output_type": "stream",
     "text": [
      "showing info https://raw.githubusercontent.com/nltk/nltk_data/gh-pages/index.xml\n"
     ]
    },
    {
     "data": {
      "text/plain": "True"
     },
     "execution_count": 54,
     "metadata": {},
     "output_type": "execute_result"
    }
   ],
   "source": [
    "import nltk\n",
    "import ssl\n",
    "\n",
    "try:\n",
    "    _create_unverified_https_context = ssl._create_unverified_context\n",
    "except AttributeError:\n",
    "    pass\n",
    "else:\n",
    "    ssl._create_default_https_context = _create_unverified_https_context\n",
    "\n",
    "nltk.download()"
   ],
   "metadata": {
    "collapsed": false,
    "pycharm": {
     "name": "#%%\n"
    }
   }
  },
  {
   "cell_type": "code",
   "execution_count": 57,
   "outputs": [],
   "source": [
    "def stopslova(text):\n",
    "    y = []\n",
    "\n",
    "    for i in text.split():\n",
    "        if not i in stop_words:\n",
    "            y.append(i)\n",
    "\n",
    "    return \" \".join(y)"
   ],
   "metadata": {
    "collapsed": false,
    "pycharm": {
     "name": "#%%\n"
    }
   }
  },
  {
   "cell_type": "code",
   "execution_count": 60,
   "outputs": [
    {
     "data": {
      "text/plain": "'понравилась эта книга'"
     },
     "execution_count": 60,
     "metadata": {},
     "output_type": "execute_result"
    }
   ],
   "source": [
    "stopslova('мне конечно понравилась эта книга')"
   ],
   "metadata": {
    "collapsed": false,
    "pycharm": {
     "name": "#%%\n"
    }
   }
  },
  {
   "cell_type": "code",
   "execution_count": 73,
   "outputs": [
    {
     "data": {
      "text/plain": "                                                   0\n0  чувствовать себя полным силвставать каждое утр...\n1  когда ты себя любишь  ты точно знаешь  чего хо...\n2  эта книга полностью изменит вашу жизнь ведь ре...\n3  книга полна грубоватых и прикольных советов по...\n4  психотрюки  это простые приемы  которые помога...",
      "text/html": "<div>\n<style scoped>\n    .dataframe tbody tr th:only-of-type {\n        vertical-align: middle;\n    }\n\n    .dataframe tbody tr th {\n        vertical-align: top;\n    }\n\n    .dataframe thead th {\n        text-align: right;\n    }\n</style>\n<table border=\"1\" class=\"dataframe\">\n  <thead>\n    <tr style=\"text-align: right;\">\n      <th></th>\n      <th>0</th>\n    </tr>\n  </thead>\n  <tbody>\n    <tr>\n      <th>0</th>\n      <td>чувствовать себя полным силвставать каждое утр...</td>\n    </tr>\n    <tr>\n      <th>1</th>\n      <td>когда ты себя любишь  ты точно знаешь  чего хо...</td>\n    </tr>\n    <tr>\n      <th>2</th>\n      <td>эта книга полностью изменит вашу жизнь ведь ре...</td>\n    </tr>\n    <tr>\n      <th>3</th>\n      <td>книга полна грубоватых и прикольных советов по...</td>\n    </tr>\n    <tr>\n      <th>4</th>\n      <td>психотрюки  это простые приемы  которые помога...</td>\n    </tr>\n  </tbody>\n</table>\n</div>"
     },
     "execution_count": 73,
     "metadata": {},
     "output_type": "execute_result"
    }
   ],
   "source": [
    "data['tags'] = data.apply(lambda _: '', axis=1)\n",
    "description_new = pd.DataFrame(description_new)\n",
    "data['foo'] = data.apply(lambda _: ' ', axis=1)\n",
    "description_new.head()"
   ],
   "metadata": {
    "collapsed": false,
    "pycharm": {
     "name": "#%%\n"
    }
   }
  },
  {
   "cell_type": "code",
   "execution_count": 65,
   "outputs": [
    {
     "name": "stdout",
     "output_type": "stream",
     "text": [
      "CPU times: user 445 ms, sys: 14.6 ms, total: 460 ms\n",
      "Wall time: 459 ms\n"
     ]
    }
   ],
   "source": [
    "%%time\n",
    "abc = []\n",
    "for i in range(len(description_new[0])):\n",
    "    abc.append(stopslova(description_new[0][i]))"
   ],
   "metadata": {
    "collapsed": false,
    "pycharm": {
     "name": "#%%\n"
    }
   }
  },
  {
   "cell_type": "code",
   "execution_count": 66,
   "outputs": [
    {
     "data": {
      "text/plain": "'чувствовать полным силвставать каждое утро той ноги испытывать воодушевление приступая сложной задаче вроде ремонта квартиры поиска работы новая книга татьяны мужицкой это уникальная система практик которая поможет оставаться ресурсе эпидемии рвануть недельку тай посидеть ресторане друзьями татьяна объясняет черпать жизненные силы зависит внешних обстоятельств подход основан одноименном марафоне течение полугода прошли человек отзывы говорят сами брать давать наслаждаться это целая система отношений собой миром превращающая настоящий генератор вдохновения бодрости собой любить наслаждаться моментом часто слышим слова пытаемся соответствовать кажется именно нужно заменить нужно сделать это легко удовольствием татьяна мужицкая великий специалист счастью удовольствию доверьтесь вашей радости любви хватит близких весь мир татьяна лазарева актриса телеведущая общественный деятель'"
     },
     "execution_count": 66,
     "metadata": {},
     "output_type": "execute_result"
    }
   ],
   "source": [
    "abc[0]"
   ],
   "metadata": {
    "collapsed": false,
    "pycharm": {
     "name": "#%%\n"
    }
   }
  },
  {
   "cell_type": "code",
   "execution_count": 67,
   "outputs": [
    {
     "data": {
      "text/plain": "'когда ты себя любишь  ты точно знаешь  чего хочешь  и идешь к этому  но как избавиться от негативного шума в голове  принять себя  перестать сомневаться в будущем и излучать в мир счастье и позитив татьяна мужицкая  известный психолог и бизнес тренер  поделится техниками  как соединить в себе энергии иня и яна отдаться на волю обстоятельств и одновременно трансформировать мир  наполнив его собой эта книга научит вас принимать подарки от вселенной  получать удовольствие от жизни и любить себя в каждом своем проявлении  татьяна  мой надежный партнер по игре в жизнь это хранитель высочайшей категории  которому можно доверять на все сто ей удается хранить тайну  разбалтывая ее всем и каждому  максимально корректно и доходчиво после прочтения этой книги любви к себе появится столько  что любой из вас почувствует право делать самое главное в жизни  бесстрашно творить ее и себя в ней  вадим демчог  актер  режиссер  психолог  кандидат психологических наук'"
     },
     "execution_count": 67,
     "metadata": {},
     "output_type": "execute_result"
    }
   ],
   "source": [
    "description_new[0][1]"
   ],
   "metadata": {
    "collapsed": false,
    "pycharm": {
     "name": "#%%\n"
    }
   }
  },
  {
   "cell_type": "code",
   "execution_count": 74,
   "outputs": [],
   "source": [
    "descr = pd.DataFrame(abc)"
   ],
   "metadata": {
    "collapsed": false,
    "pycharm": {
     "name": "#%%\n"
    }
   }
  },
  {
   "cell_type": "code",
   "execution_count": 75,
   "outputs": [
    {
     "data": {
      "text/plain": "                                                      0\n0     чувствовать полным силвставать каждое утро той...\n1     любишь точно знаешь хочешь идешь этому избавит...\n2     эта книга полностью изменит вашу жизнь речь не...\n3     книга полна грубоватых прикольных советов рабо...\n4     психотрюки это простые приемы которые помогают...\n...                                                 ...\n1622  хронический стресс тревога приступы паники нав...\n1623  годы экономического спада стране подкосили мно...\n1624  высокочувствительные люди новые интроверты наз...\n1625  кинесика это молчаливый язык язык тела помощью...\n1626  жизнь кажется пресной безвкуснойвсе краски при...\n\n[1627 rows x 1 columns]",
      "text/html": "<div>\n<style scoped>\n    .dataframe tbody tr th:only-of-type {\n        vertical-align: middle;\n    }\n\n    .dataframe tbody tr th {\n        vertical-align: top;\n    }\n\n    .dataframe thead th {\n        text-align: right;\n    }\n</style>\n<table border=\"1\" class=\"dataframe\">\n  <thead>\n    <tr style=\"text-align: right;\">\n      <th></th>\n      <th>0</th>\n    </tr>\n  </thead>\n  <tbody>\n    <tr>\n      <th>0</th>\n      <td>чувствовать полным силвставать каждое утро той...</td>\n    </tr>\n    <tr>\n      <th>1</th>\n      <td>любишь точно знаешь хочешь идешь этому избавит...</td>\n    </tr>\n    <tr>\n      <th>2</th>\n      <td>эта книга полностью изменит вашу жизнь речь не...</td>\n    </tr>\n    <tr>\n      <th>3</th>\n      <td>книга полна грубоватых прикольных советов рабо...</td>\n    </tr>\n    <tr>\n      <th>4</th>\n      <td>психотрюки это простые приемы которые помогают...</td>\n    </tr>\n    <tr>\n      <th>...</th>\n      <td>...</td>\n    </tr>\n    <tr>\n      <th>1622</th>\n      <td>хронический стресс тревога приступы паники нав...</td>\n    </tr>\n    <tr>\n      <th>1623</th>\n      <td>годы экономического спада стране подкосили мно...</td>\n    </tr>\n    <tr>\n      <th>1624</th>\n      <td>высокочувствительные люди новые интроверты наз...</td>\n    </tr>\n    <tr>\n      <th>1625</th>\n      <td>кинесика это молчаливый язык язык тела помощью...</td>\n    </tr>\n    <tr>\n      <th>1626</th>\n      <td>жизнь кажется пресной безвкуснойвсе краски при...</td>\n    </tr>\n  </tbody>\n</table>\n<p>1627 rows × 1 columns</p>\n</div>"
     },
     "execution_count": 75,
     "metadata": {},
     "output_type": "execute_result"
    }
   ],
   "source": [
    "descr"
   ],
   "metadata": {
    "collapsed": false,
    "pycharm": {
     "name": "#%%\n"
    }
   }
  },
  {
   "cell_type": "code",
   "execution_count": 76,
   "outputs": [],
   "source": [
    "morph = pymorphy2.MorphAnalyzer()"
   ],
   "metadata": {
    "collapsed": false,
    "pycharm": {
     "name": "#%%\n"
    }
   }
  },
  {
   "cell_type": "code",
   "execution_count": 78,
   "outputs": [],
   "source": [
    "def parse(text):\n",
    "    y = []\n",
    "\n",
    "    for i in text.split():\n",
    "        y.append(morph.parse(i)[0].normal_form)\n",
    "\n",
    "    return \" \".join(y)"
   ],
   "metadata": {
    "collapsed": false,
    "pycharm": {
     "name": "#%%\n"
    }
   }
  },
  {
   "cell_type": "code",
   "execution_count": 79,
   "outputs": [
    {
     "data": {
      "text/plain": "'возвращаться'"
     },
     "execution_count": 79,
     "metadata": {},
     "output_type": "execute_result"
    }
   ],
   "source": [
    "morph.parse('возвращается')[0].normal_form"
   ],
   "metadata": {
    "collapsed": false,
    "pycharm": {
     "name": "#%%\n"
    }
   }
  },
  {
   "cell_type": "code",
   "execution_count": 80,
   "outputs": [
    {
     "data": {
      "text/plain": "'шестёрка воронов - следующий глава в история это мир судьба и будущее могущественный нация гриша внезапно оказываться в рука хладнокровный бандит каз бреккер и он команда'"
     },
     "execution_count": 80,
     "metadata": {},
     "output_type": "execute_result"
    }
   ],
   "source": [
    "parse('шестерка воронов - следующая глава в истории этого мира судьба  и будущее могущественной нации гришей внезапно оказывается в руках  хладнокровного бандита каза бреккера и его команды')"
   ],
   "metadata": {
    "collapsed": false,
    "pycharm": {
     "name": "#%%\n"
    }
   }
  },
  {
   "cell_type": "code",
   "execution_count": 82,
   "outputs": [
    {
     "name": "stdout",
     "output_type": "stream",
     "text": [
      "CPU times: user 53 s, sys: 594 ms, total: 53.6 s\n",
      "Wall time: 53.9 s\n"
     ]
    }
   ],
   "source": [
    "%%time\n",
    "abc = []\n",
    "for i in range(len(description_new[0])):\n",
    "    abc.append(parse(description_new[0][i]))"
   ],
   "metadata": {
    "collapsed": false,
    "pycharm": {
     "name": "#%%\n"
    }
   }
  },
  {
   "cell_type": "code",
   "execution_count": 89,
   "outputs": [
    {
     "data": {
      "text/plain": "'эмпатия  это ключ к успеху исследователи доказали  что более  информации мы передаем невербально и только   словами поэтому для эффективной коммуникации нужно использовать не только речь  но и жесты  мимику  тон голоса улучшив эти навыки  вы сможете устроить личную жизнь  находить друзей и даже продвигаться по карьерной лестницеэто некое шестое чувство  почти что чтение мыслей с помощью этой книги вы научитесь не только узнавать  что происходит в голове у другого  но и принять тот факт  что чужие убеждения могут отличаться от наших она даст вам  ключей  благодаря которым вы научитесь находить подход к каждому человеку  быть терпимее и не попадать в неловкие ситуации'"
     },
     "execution_count": 89,
     "metadata": {},
     "output_type": "execute_result"
    }
   ],
   "source": [
    "description_new[0][45]"
   ],
   "metadata": {
    "collapsed": false,
    "pycharm": {
     "name": "#%%\n"
    }
   }
  },
  {
   "cell_type": "code",
   "execution_count": 90,
   "outputs": [
    {
     "data": {
      "text/plain": "'эмпатия это ключ к успех исследователь доказать что более информация мы передавать невербальный и только слово поэтому для эффективный коммуникация нужно использовать не только речь но и жест мимика тон голос улучшить этот навык вы смочь устроить личный жизнь находить друг и даже продвигаться по карьерный лестницеэтый некий шестой чувство почти что чтение мысль с помощь этот книга вы научиться не только узнавать что происходить в голова у другой но и принять тот факт что чужой убеждение мочь отличаться от наш она дать вы ключ благодаря который вы научиться находить подход к каждый человек быть терпимый и не попадать в неловкий ситуация'"
     },
     "execution_count": 90,
     "metadata": {},
     "output_type": "execute_result"
    }
   ],
   "source": [
    "abc[45]"
   ],
   "metadata": {
    "collapsed": false,
    "pycharm": {
     "name": "#%%\n"
    }
   }
  },
  {
   "cell_type": "code",
   "execution_count": 91,
   "outputs": [],
   "source": [
    "for i in range(len(description_new[0])):\n",
    "    description_new[0][i] = abc[i]\n",
    "\n",
    "data['tags'] = description_new[0] + data['foo'] + data[\n",
    "    'section']"
   ],
   "metadata": {
    "collapsed": false,
    "pycharm": {
     "name": "#%%\n"
    }
   }
  },
  {
   "cell_type": "code",
   "execution_count": 93,
   "outputs": [
    {
     "data": {
      "text/plain": "                                                   name            author  \\\n0     Брать, давать и наслаждаться. Как оставаться в...  Татьяна Мужицкая   \n1     Роман с самим собой. Как уравновесить внутренн...  Татьяна Мужицкая   \n2                       Думай медленно... решай быстро    Даниэль Канеман   \n3     НИ СЫ. Будь уверен в своих силах и не позволяй...      Джен Синсеро   \n4     Психотрюки. 69 приемов в общении, которым не у...       Игорь Рызов   \n...                                                 ...               ...   \n1622    Счастливая жизнь без панических атак и страхов                NaN   \n1623                 Думай и богатей в годы безденежья                NaN   \n1624  Близко к сердцу. Как жить, если вы слишком чув...           Санд И.   \n1625  Занимательная кинесика, или Тайны жестов, поз,...               NaN   \n1626  Наслаждение от каждого дня. Доступная всем про...               NaN   \n\n                             section               publish    age    year  \\\n0     Саморазвитие и личностный рост                   NaN   16+   2022.0   \n1     Саморазвитие и личностный рост                   NaN   16+   2022.0   \n2              Популярная психология                   АСТ   16+   2022.0   \n3     Саморазвитие и личностный рост                   NaN   16+   2022.0   \n4     Саморазвитие и личностный рост                   NaN   12+   2022.0   \n...                              ...                   ...    ...     ...   \n1622  Саморазвитие и личностный рост  Издательские решения   16+   2016.0   \n1623  Саморазвитие и личностный рост                   NaN   16+   2018.0   \n1624  Саморазвитие и личностный рост               Альпина    NaN  2016.0   \n1625  Саморазвитие и личностный рост              Прометей    NaN  2022.0   \n1626  Саморазвитие и личностный рост                   NaN   16+   2022.0   \n\n      pages rating                                               cove  \\\n0     256.0     5   https://ndc.book24.ru/resize/410x590/iblock/3d...   \n1     304.0     5   https:https://cdn.book24.ru/v2/ITD000000001044...   \n2     656.0   4,6   https://ndc.book24.ru/resize/410x590/iblock/0a...   \n3     320.0   4,2   https://ndc.book24.ru/resize/410x590/iblock/54...   \n4     256.0     5   https://ndc.book24.ru/resize/410x590/iblock/74...   \n...     ...    ...                                                ...   \n1622  120.0   0,0   https://ndc.book24.ru/resize/410x590/iblock/28...   \n1623  192.0   0,0   https://ndc.book24.ru/resize/410x590/iblock/fe...   \n1624  158.0   0,0   https://ndc.book24.ru/resize/410x590/iblock/fe...   \n1625  480.0   0,0   https://ndc.book24.ru/resize/410x590/iblock/4c...   \n1626  240.0   0,0   https://ndc.book24.ru/resize/410x590/iblock/18...   \n\n                                            description  word_count  \\\n0     Чувствовать себя полным сил. Вставать каждое у...         184   \n1     Когда ты себя любишь, ты точно знаешь, чего хо...         149   \n2     Эта книга полностью изменит вашу жизнь: ведь р...          68   \n3     Книга полна грубоватых и прикольных советов по...         131   \n4     Психотрюки — это простые приемы, которые помог...         108   \n...                                                 ...         ...   \n1622  Хронический стресс, тревога, приступы паники, ...          74   \n1623  Годы экономического спада в стране \"подкосили\"...          64   \n1624  Высокочувствительные люди, или «новые интровер...         120   \n1625  Кинесика — это молчаливый язык, язык тела, с п...         196   \n1626  Жизнь кажется пресной и безвкусной?Все краски ...          34   \n\n                                                   tags foo  \n0     чувствовать себя полный силвставать каждый утр...      \n1     когда ты себя любить ты точно знать что хотеть...      \n2     этот книга полностью изменить ваш жизнь ведь р...      \n3     книга полный грубоватый и прикольный совет по ...      \n4     психотрюк это простой приём который помогать п...      \n...                                                 ...  ..  \n1622  хронический стресс тревога приступ паника навя...      \n1623  год экономический спад в страна подкосить мног...      \n1624  высокочувствительный человек или новый интрове...      \n1625  кинесика это молчаливый язык язык тело с помощ...      \n1626  жизнь казаться пресный и безвкуснойвсе краска ...      \n\n[1627 rows x 13 columns]",
      "text/html": "<div>\n<style scoped>\n    .dataframe tbody tr th:only-of-type {\n        vertical-align: middle;\n    }\n\n    .dataframe tbody tr th {\n        vertical-align: top;\n    }\n\n    .dataframe thead th {\n        text-align: right;\n    }\n</style>\n<table border=\"1\" class=\"dataframe\">\n  <thead>\n    <tr style=\"text-align: right;\">\n      <th></th>\n      <th>name</th>\n      <th>author</th>\n      <th>section</th>\n      <th>publish</th>\n      <th>age</th>\n      <th>year</th>\n      <th>pages</th>\n      <th>rating</th>\n      <th>cove</th>\n      <th>description</th>\n      <th>word_count</th>\n      <th>tags</th>\n      <th>foo</th>\n    </tr>\n  </thead>\n  <tbody>\n    <tr>\n      <th>0</th>\n      <td>Брать, давать и наслаждаться. Как оставаться в...</td>\n      <td>Татьяна Мужицкая</td>\n      <td>Саморазвитие и личностный рост</td>\n      <td>NaN</td>\n      <td>16+</td>\n      <td>2022.0</td>\n      <td>256.0</td>\n      <td>5</td>\n      <td>https://ndc.book24.ru/resize/410x590/iblock/3d...</td>\n      <td>Чувствовать себя полным сил. Вставать каждое у...</td>\n      <td>184</td>\n      <td>чувствовать себя полный силвставать каждый утр...</td>\n      <td></td>\n    </tr>\n    <tr>\n      <th>1</th>\n      <td>Роман с самим собой. Как уравновесить внутренн...</td>\n      <td>Татьяна Мужицкая</td>\n      <td>Саморазвитие и личностный рост</td>\n      <td>NaN</td>\n      <td>16+</td>\n      <td>2022.0</td>\n      <td>304.0</td>\n      <td>5</td>\n      <td>https:https://cdn.book24.ru/v2/ITD000000001044...</td>\n      <td>Когда ты себя любишь, ты точно знаешь, чего хо...</td>\n      <td>149</td>\n      <td>когда ты себя любить ты точно знать что хотеть...</td>\n      <td></td>\n    </tr>\n    <tr>\n      <th>2</th>\n      <td>Думай медленно... решай быстро</td>\n      <td>Даниэль Канеман</td>\n      <td>Популярная психология</td>\n      <td>АСТ</td>\n      <td>16+</td>\n      <td>2022.0</td>\n      <td>656.0</td>\n      <td>4,6</td>\n      <td>https://ndc.book24.ru/resize/410x590/iblock/0a...</td>\n      <td>Эта книга полностью изменит вашу жизнь: ведь р...</td>\n      <td>68</td>\n      <td>этот книга полностью изменить ваш жизнь ведь р...</td>\n      <td></td>\n    </tr>\n    <tr>\n      <th>3</th>\n      <td>НИ СЫ. Будь уверен в своих силах и не позволяй...</td>\n      <td>Джен Синсеро</td>\n      <td>Саморазвитие и личностный рост</td>\n      <td>NaN</td>\n      <td>16+</td>\n      <td>2022.0</td>\n      <td>320.0</td>\n      <td>4,2</td>\n      <td>https://ndc.book24.ru/resize/410x590/iblock/54...</td>\n      <td>Книга полна грубоватых и прикольных советов по...</td>\n      <td>131</td>\n      <td>книга полный грубоватый и прикольный совет по ...</td>\n      <td></td>\n    </tr>\n    <tr>\n      <th>4</th>\n      <td>Психотрюки. 69 приемов в общении, которым не у...</td>\n      <td>Игорь Рызов</td>\n      <td>Саморазвитие и личностный рост</td>\n      <td>NaN</td>\n      <td>12+</td>\n      <td>2022.0</td>\n      <td>256.0</td>\n      <td>5</td>\n      <td>https://ndc.book24.ru/resize/410x590/iblock/74...</td>\n      <td>Психотрюки — это простые приемы, которые помог...</td>\n      <td>108</td>\n      <td>психотрюк это простой приём который помогать п...</td>\n      <td></td>\n    </tr>\n    <tr>\n      <th>...</th>\n      <td>...</td>\n      <td>...</td>\n      <td>...</td>\n      <td>...</td>\n      <td>...</td>\n      <td>...</td>\n      <td>...</td>\n      <td>...</td>\n      <td>...</td>\n      <td>...</td>\n      <td>...</td>\n      <td>...</td>\n      <td>...</td>\n    </tr>\n    <tr>\n      <th>1622</th>\n      <td>Счастливая жизнь без панических атак и страхов</td>\n      <td>NaN</td>\n      <td>Саморазвитие и личностный рост</td>\n      <td>Издательские решения</td>\n      <td>16+</td>\n      <td>2016.0</td>\n      <td>120.0</td>\n      <td>0,0</td>\n      <td>https://ndc.book24.ru/resize/410x590/iblock/28...</td>\n      <td>Хронический стресс, тревога, приступы паники, ...</td>\n      <td>74</td>\n      <td>хронический стресс тревога приступ паника навя...</td>\n      <td></td>\n    </tr>\n    <tr>\n      <th>1623</th>\n      <td>Думай и богатей в годы безденежья</td>\n      <td>NaN</td>\n      <td>Саморазвитие и личностный рост</td>\n      <td>NaN</td>\n      <td>16+</td>\n      <td>2018.0</td>\n      <td>192.0</td>\n      <td>0,0</td>\n      <td>https://ndc.book24.ru/resize/410x590/iblock/fe...</td>\n      <td>Годы экономического спада в стране \"подкосили\"...</td>\n      <td>64</td>\n      <td>год экономический спад в страна подкосить мног...</td>\n      <td></td>\n    </tr>\n    <tr>\n      <th>1624</th>\n      <td>Близко к сердцу. Как жить, если вы слишком чув...</td>\n      <td>Санд И.</td>\n      <td>Саморазвитие и личностный рост</td>\n      <td>Альпина</td>\n      <td>NaN</td>\n      <td>2016.0</td>\n      <td>158.0</td>\n      <td>0,0</td>\n      <td>https://ndc.book24.ru/resize/410x590/iblock/fe...</td>\n      <td>Высокочувствительные люди, или «новые интровер...</td>\n      <td>120</td>\n      <td>высокочувствительный человек или новый интрове...</td>\n      <td></td>\n    </tr>\n    <tr>\n      <th>1625</th>\n      <td>Занимательная кинесика, или Тайны жестов, поз,...</td>\n      <td>NaN</td>\n      <td>Саморазвитие и личностный рост</td>\n      <td>Прометей</td>\n      <td>NaN</td>\n      <td>2022.0</td>\n      <td>480.0</td>\n      <td>0,0</td>\n      <td>https://ndc.book24.ru/resize/410x590/iblock/4c...</td>\n      <td>Кинесика — это молчаливый язык, язык тела, с п...</td>\n      <td>196</td>\n      <td>кинесика это молчаливый язык язык тело с помощ...</td>\n      <td></td>\n    </tr>\n    <tr>\n      <th>1626</th>\n      <td>Наслаждение от каждого дня. Доступная всем про...</td>\n      <td>NaN</td>\n      <td>Саморазвитие и личностный рост</td>\n      <td>NaN</td>\n      <td>16+</td>\n      <td>2022.0</td>\n      <td>240.0</td>\n      <td>0,0</td>\n      <td>https://ndc.book24.ru/resize/410x590/iblock/18...</td>\n      <td>Жизнь кажется пресной и безвкусной?Все краски ...</td>\n      <td>34</td>\n      <td>жизнь казаться пресный и безвкуснойвсе краска ...</td>\n      <td></td>\n    </tr>\n  </tbody>\n</table>\n<p>1627 rows × 13 columns</p>\n</div>"
     },
     "execution_count": 93,
     "metadata": {},
     "output_type": "execute_result"
    }
   ],
   "source": [
    "data"
   ],
   "metadata": {
    "collapsed": false,
    "pycharm": {
     "name": "#%%\n"
    }
   }
  },
  {
   "cell_type": "code",
   "execution_count": 94,
   "outputs": [
    {
     "data": {
      "text/plain": "'чувствовать себя полный силвставать каждый утро с тот нога испытывать воодушевление приступать к сложный задача вроде ремонт квартира или поиск работа новый книга татьяна мужицкий это уникальный система практика который помочь всегда оставаться в ресурс даже когда из за эпидемия нельзя рвануть на неделька в тая или посидеть в ресторан с друг татьяна объяснять как черпать жизненный сила из тот что не зависеть от внешний обстоятельство она подход основать на одноимённый марафон только в течение полгода он пройти более человек они отзыв говорить сам за себя брать давать и наслаждаться это целый система отношение с себя и мир превращать мы в настоящий генератор вдохновение и бодрость быть себя здесь и сейчас любить себя наслаждаться момент мы часто слышать этот слово и пытаться они соответствовать казаться что именно так и нужно а если заменить нужно на можно и сделать это легко и с удовольствие татьяна мужицкий великий специалист по счастие и удовольствие довериться она и тогда ваш радость и любовь хватить не только на себя и на близкий на весь мир татьяна лазарев актриса телеведущий и общественный деятель Саморазвитие и личностный рост'"
     },
     "execution_count": 94,
     "metadata": {},
     "output_type": "execute_result"
    }
   ],
   "source": [
    "data.tags[0]"
   ],
   "metadata": {
    "collapsed": false,
    "pycharm": {
     "name": "#%%\n"
    }
   }
  },
  {
   "cell_type": "code",
   "execution_count": 95,
   "outputs": [
    {
     "data": {
      "text/plain": "                                                   name  \\\n0     Брать, давать и наслаждаться. Как оставаться в...   \n1     Роман с самим собой. Как уравновесить внутренн...   \n2                       Думай медленно... решай быстро    \n3     НИ СЫ. Будь уверен в своих силах и не позволяй...   \n4     Психотрюки. 69 приемов в общении, которым не у...   \n...                                                 ...   \n1622    Счастливая жизнь без панических атак и страхов    \n1623                 Думай и богатей в годы безденежья    \n1624  Близко к сердцу. Как жить, если вы слишком чув...   \n1625  Занимательная кинесика, или Тайны жестов, поз,...   \n1626  Наслаждение от каждого дня. Доступная всем про...   \n\n                                                   tags  \n0     чувствовать себя полный силвставать каждый утр...  \n1     когда ты себя любить ты точно знать что хотеть...  \n2     этот книга полностью изменить ваш жизнь ведь р...  \n3     книга полный грубоватый и прикольный совет по ...  \n4     психотрюк это простой приём который помогать п...  \n...                                                 ...  \n1622  хронический стресс тревога приступ паника навя...  \n1623  год экономический спад в страна подкосить мног...  \n1624  высокочувствительный человек или новый интрове...  \n1625  кинесика это молчаливый язык язык тело с помощ...  \n1626  жизнь казаться пресный и безвкуснойвсе краска ...  \n\n[1627 rows x 2 columns]",
      "text/html": "<div>\n<style scoped>\n    .dataframe tbody tr th:only-of-type {\n        vertical-align: middle;\n    }\n\n    .dataframe tbody tr th {\n        vertical-align: top;\n    }\n\n    .dataframe thead th {\n        text-align: right;\n    }\n</style>\n<table border=\"1\" class=\"dataframe\">\n  <thead>\n    <tr style=\"text-align: right;\">\n      <th></th>\n      <th>name</th>\n      <th>tags</th>\n    </tr>\n  </thead>\n  <tbody>\n    <tr>\n      <th>0</th>\n      <td>Брать, давать и наслаждаться. Как оставаться в...</td>\n      <td>чувствовать себя полный силвставать каждый утр...</td>\n    </tr>\n    <tr>\n      <th>1</th>\n      <td>Роман с самим собой. Как уравновесить внутренн...</td>\n      <td>когда ты себя любить ты точно знать что хотеть...</td>\n    </tr>\n    <tr>\n      <th>2</th>\n      <td>Думай медленно... решай быстро</td>\n      <td>этот книга полностью изменить ваш жизнь ведь р...</td>\n    </tr>\n    <tr>\n      <th>3</th>\n      <td>НИ СЫ. Будь уверен в своих силах и не позволяй...</td>\n      <td>книга полный грубоватый и прикольный совет по ...</td>\n    </tr>\n    <tr>\n      <th>4</th>\n      <td>Психотрюки. 69 приемов в общении, которым не у...</td>\n      <td>психотрюк это простой приём который помогать п...</td>\n    </tr>\n    <tr>\n      <th>...</th>\n      <td>...</td>\n      <td>...</td>\n    </tr>\n    <tr>\n      <th>1622</th>\n      <td>Счастливая жизнь без панических атак и страхов</td>\n      <td>хронический стресс тревога приступ паника навя...</td>\n    </tr>\n    <tr>\n      <th>1623</th>\n      <td>Думай и богатей в годы безденежья</td>\n      <td>год экономический спад в страна подкосить мног...</td>\n    </tr>\n    <tr>\n      <th>1624</th>\n      <td>Близко к сердцу. Как жить, если вы слишком чув...</td>\n      <td>высокочувствительный человек или новый интрове...</td>\n    </tr>\n    <tr>\n      <th>1625</th>\n      <td>Занимательная кинесика, или Тайны жестов, поз,...</td>\n      <td>кинесика это молчаливый язык язык тело с помощ...</td>\n    </tr>\n    <tr>\n      <th>1626</th>\n      <td>Наслаждение от каждого дня. Доступная всем про...</td>\n      <td>жизнь казаться пресный и безвкуснойвсе краска ...</td>\n    </tr>\n  </tbody>\n</table>\n<p>1627 rows × 2 columns</p>\n</div>"
     },
     "execution_count": 95,
     "metadata": {},
     "output_type": "execute_result"
    }
   ],
   "source": [
    "new_df = data[['name', 'tags']]\n",
    "new_df"
   ],
   "metadata": {
    "collapsed": false,
    "pycharm": {
     "name": "#%%\n"
    }
   }
  },
  {
   "cell_type": "code",
   "execution_count": 96,
   "outputs": [],
   "source": [
    "new_df.to_csv(r'/Users/dianaverevkina/Diplom_project/Diploma/tags.csv', index=False)"
   ],
   "metadata": {
    "collapsed": false,
    "pycharm": {
     "name": "#%%\n"
    }
   }
  },
  {
   "cell_type": "code",
   "execution_count": 97,
   "outputs": [
    {
     "data": {
      "text/plain": "                                                   0\n0  чувствовать полным силвставать каждое утро той...\n1  любишь точно знаешь хочешь идешь этому избавит...\n2  эта книга полностью изменит вашу жизнь речь не...\n3  книга полна грубоватых прикольных советов рабо...\n4  психотрюки это простые приемы которые помогают...",
      "text/html": "<div>\n<style scoped>\n    .dataframe tbody tr th:only-of-type {\n        vertical-align: middle;\n    }\n\n    .dataframe tbody tr th {\n        vertical-align: top;\n    }\n\n    .dataframe thead th {\n        text-align: right;\n    }\n</style>\n<table border=\"1\" class=\"dataframe\">\n  <thead>\n    <tr style=\"text-align: right;\">\n      <th></th>\n      <th>0</th>\n    </tr>\n  </thead>\n  <tbody>\n    <tr>\n      <th>0</th>\n      <td>чувствовать полным силвставать каждое утро той...</td>\n    </tr>\n    <tr>\n      <th>1</th>\n      <td>любишь точно знаешь хочешь идешь этому избавит...</td>\n    </tr>\n    <tr>\n      <th>2</th>\n      <td>эта книга полностью изменит вашу жизнь речь не...</td>\n    </tr>\n    <tr>\n      <th>3</th>\n      <td>книга полна грубоватых прикольных советов рабо...</td>\n    </tr>\n    <tr>\n      <th>4</th>\n      <td>психотрюки это простые приемы которые помогают...</td>\n    </tr>\n  </tbody>\n</table>\n</div>"
     },
     "execution_count": 97,
     "metadata": {},
     "output_type": "execute_result"
    }
   ],
   "source": [
    "descr[:5]"
   ],
   "metadata": {
    "collapsed": false,
    "pycharm": {
     "name": "#%%\n"
    }
   }
  },
  {
   "cell_type": "code",
   "execution_count": 98,
   "outputs": [
    {
     "data": {
      "text/plain": "'любишь точно знаешь хочешь идешь этому избавиться негативного шума голове принять перестать сомневаться будущем излучать мир счастье позитив татьяна мужицкая известный психолог бизнес тренер поделится техниками соединить энергии иня яна отдаться волю обстоятельств одновременно трансформировать мир наполнив собой эта книга научит принимать подарки вселенной получать удовольствие жизни любить каждом своем проявлении татьяна надежный партнер игре жизнь это хранитель высочайшей категории которому доверять сто удается хранить тайну разбалтывая всем каждому максимально корректно доходчиво прочтения книги любви появится столько любой почувствует право делать самое главное жизни бесстрашно творить вадим демчог актер режиссер психолог кандидат психологических наук'"
     },
     "execution_count": 98,
     "metadata": {},
     "output_type": "execute_result"
    }
   ],
   "source": [
    "descr[0][1]"
   ],
   "metadata": {
    "collapsed": false,
    "pycharm": {
     "name": "#%%\n"
    }
   }
  },
  {
   "cell_type": "code",
   "execution_count": 104,
   "outputs": [],
   "source": [
    "import spacy\n",
    "nlp = spacy.load('ru_core_news_sm')"
   ],
   "metadata": {
    "collapsed": false,
    "pycharm": {
     "name": "#%%\n"
    }
   }
  },
  {
   "cell_type": "code",
   "execution_count": 105,
   "outputs": [],
   "source": [
    "def spacylem(text):\n",
    "   doc = nlp(text)\n",
    "   tokens = [token.lemma_ for token in doc]\n",
    "   return \" \".join(tokens)"
   ],
   "metadata": {
    "collapsed": false,
    "pycharm": {
     "name": "#%%\n"
    }
   }
  },
  {
   "cell_type": "code",
   "execution_count": 106,
   "outputs": [
    {
     "data": {
      "text/plain": "'птица лететь низко'"
     },
     "execution_count": 106,
     "metadata": {},
     "output_type": "execute_result"
    }
   ],
   "source": [
    "spacylem('птицы летели низко')"
   ],
   "metadata": {
    "collapsed": false,
    "pycharm": {
     "name": "#%%\n"
    }
   }
  },
  {
   "cell_type": "code",
   "execution_count": 107,
   "outputs": [
    {
     "name": "stdout",
     "output_type": "stream",
     "text": [
      "CPU times: user 58.5 s, sys: 1.6 s, total: 1min\n",
      "Wall time: 1min\n"
     ]
    }
   ],
   "source": [
    "%%time\n",
    "abc = []\n",
    "for i in range(len(descr[0])):\n",
    "    abc.append(spacylem(descr[0][i]))"
   ],
   "metadata": {
    "collapsed": false,
    "pycharm": {
     "name": "#%%\n"
    }
   }
  },
  {
   "cell_type": "code",
   "execution_count": 109,
   "outputs": [
    {
     "data": {
      "text/plain": "'чувствовать полный силвставать каждый утро тот нога испытывать воодушевление приступая сложный задаче вроде ремонт квартира поиск работа новый книга татьяна мужицкой это уникальный система практика которая помочь оставаться ресурсе эпидемия рвануть неделька тай посидеть ресторане друг татьяна объяснять черпать жизненный сила зависеть внешний обстоятельство подход основать одноимённый марафон течение полугода пройти человек отзыв говорить сами брать давать наслаждаться это целый система отношение себя мир превращать настоящий генератор вдохновение бодрость себя любить наслаждаться момент часто слышать слово пытаться соответствовать казаться именно нужный заменить нужный сделать это легко удовольствие татьяна мужицкий великий специалист счастью удовольствие доверьтесь ваш радость любовь хватить близкий весь мир татьяна лазарев актриса телеведущий общественный деятель'"
     },
     "execution_count": 109,
     "metadata": {},
     "output_type": "execute_result"
    }
   ],
   "source": [
    "abc[0]"
   ],
   "metadata": {
    "collapsed": false,
    "pycharm": {
     "name": "#%%\n"
    }
   }
  },
  {
   "cell_type": "code",
   "execution_count": 110,
   "outputs": [],
   "source": [
    "for i in range(len(descr[0])):\n",
    "    descr[0][i] = abc[i]"
   ],
   "metadata": {
    "collapsed": false,
    "pycharm": {
     "name": "#%%\n"
    }
   }
  },
  {
   "cell_type": "code",
   "execution_count": 111,
   "outputs": [],
   "source": [
    "data['tags'] = descr[0]"
   ],
   "metadata": {
    "collapsed": false,
    "pycharm": {
     "name": "#%%\n"
    }
   }
  },
  {
   "cell_type": "code",
   "execution_count": 112,
   "outputs": [
    {
     "data": {
      "text/plain": "                                                   name  \\\n0     Брать, давать и наслаждаться. Как оставаться в...   \n1     Роман с самим собой. Как уравновесить внутренн...   \n2                       Думай медленно... решай быстро    \n3     НИ СЫ. Будь уверен в своих силах и не позволяй...   \n4     Психотрюки. 69 приемов в общении, которым не у...   \n...                                                 ...   \n1622    Счастливая жизнь без панических атак и страхов    \n1623                 Думай и богатей в годы безденежья    \n1624  Близко к сердцу. Как жить, если вы слишком чув...   \n1625  Занимательная кинесика, или Тайны жестов, поз,...   \n1626  Наслаждение от каждого дня. Доступная всем про...   \n\n                                                   tags  \n0     чувствовать полный силвставать каждый утро тот...  \n1     любить точно знать хотеть идти это избавиться ...  \n2     этот книга полностью изменить ваш жизнь речь н...  \n3     книга полна грубоватый прикольный совет работа...  \n4     психотрюки это простой приём которые помогать ...  \n...                                                 ...  \n1622  хронический стресс тревога приступы паника нав...  \n1623  год экономический спад страна подкосить многих...  \n1624  высокочувствительный человек новый интроверт н...  \n1625  кинесика это молчаливый язык язык тело помощью...  \n1626  жизнь казаться пресной безвкуснойвсе краска пр...  \n\n[1627 rows x 2 columns]",
      "text/html": "<div>\n<style scoped>\n    .dataframe tbody tr th:only-of-type {\n        vertical-align: middle;\n    }\n\n    .dataframe tbody tr th {\n        vertical-align: top;\n    }\n\n    .dataframe thead th {\n        text-align: right;\n    }\n</style>\n<table border=\"1\" class=\"dataframe\">\n  <thead>\n    <tr style=\"text-align: right;\">\n      <th></th>\n      <th>name</th>\n      <th>tags</th>\n    </tr>\n  </thead>\n  <tbody>\n    <tr>\n      <th>0</th>\n      <td>Брать, давать и наслаждаться. Как оставаться в...</td>\n      <td>чувствовать полный силвставать каждый утро тот...</td>\n    </tr>\n    <tr>\n      <th>1</th>\n      <td>Роман с самим собой. Как уравновесить внутренн...</td>\n      <td>любить точно знать хотеть идти это избавиться ...</td>\n    </tr>\n    <tr>\n      <th>2</th>\n      <td>Думай медленно... решай быстро</td>\n      <td>этот книга полностью изменить ваш жизнь речь н...</td>\n    </tr>\n    <tr>\n      <th>3</th>\n      <td>НИ СЫ. Будь уверен в своих силах и не позволяй...</td>\n      <td>книга полна грубоватый прикольный совет работа...</td>\n    </tr>\n    <tr>\n      <th>4</th>\n      <td>Психотрюки. 69 приемов в общении, которым не у...</td>\n      <td>психотрюки это простой приём которые помогать ...</td>\n    </tr>\n    <tr>\n      <th>...</th>\n      <td>...</td>\n      <td>...</td>\n    </tr>\n    <tr>\n      <th>1622</th>\n      <td>Счастливая жизнь без панических атак и страхов</td>\n      <td>хронический стресс тревога приступы паника нав...</td>\n    </tr>\n    <tr>\n      <th>1623</th>\n      <td>Думай и богатей в годы безденежья</td>\n      <td>год экономический спад страна подкосить многих...</td>\n    </tr>\n    <tr>\n      <th>1624</th>\n      <td>Близко к сердцу. Как жить, если вы слишком чув...</td>\n      <td>высокочувствительный человек новый интроверт н...</td>\n    </tr>\n    <tr>\n      <th>1625</th>\n      <td>Занимательная кинесика, или Тайны жестов, поз,...</td>\n      <td>кинесика это молчаливый язык язык тело помощью...</td>\n    </tr>\n    <tr>\n      <th>1626</th>\n      <td>Наслаждение от каждого дня. Доступная всем про...</td>\n      <td>жизнь казаться пресной безвкуснойвсе краска пр...</td>\n    </tr>\n  </tbody>\n</table>\n<p>1627 rows × 2 columns</p>\n</div>"
     },
     "execution_count": 112,
     "metadata": {},
     "output_type": "execute_result"
    }
   ],
   "source": [
    "new_dfspacy = data[['name', 'tags']]\n",
    "new_dfspacy"
   ],
   "metadata": {
    "collapsed": false,
    "pycharm": {
     "name": "#%%\n"
    }
   }
  },
  {
   "cell_type": "code",
   "execution_count": 113,
   "outputs": [],
   "source": [
    "new_dfspacy.to_csv(r'/Users/dianaverevkina/Diplom_project/Diploma/spacylem.csv', index=False)"
   ],
   "metadata": {
    "collapsed": false,
    "pycharm": {
     "name": "#%%\n"
    }
   }
  },
  {
   "cell_type": "code",
   "execution_count": 114,
   "outputs": [],
   "source": [
    "import nltk\n",
    "from nltk.stem.snowball import SnowballStemmer\n",
    "\n",
    "stemmer = SnowballStemmer(language='russian')\n",
    "tokenizer = nltk.tokenize.WhitespaceTokenizer()\n",
    "\n",
    "def stemming(text):\n",
    "   tokens = [stemmer.stem(w) for w in tokenizer.tokenize(text)]\n",
    "   return \" \".join(tokens)"
   ],
   "metadata": {
    "collapsed": false,
    "pycharm": {
     "name": "#%%\n"
    }
   }
  },
  {
   "cell_type": "code",
   "execution_count": 115,
   "outputs": [
    {
     "data": {
      "text/plain": "'неожида пошел дожд'"
     },
     "execution_count": 115,
     "metadata": {},
     "output_type": "execute_result"
    }
   ],
   "source": [
    "stemming('неожиданно пошёл дождь')"
   ],
   "metadata": {
    "collapsed": false,
    "pycharm": {
     "name": "#%%\n"
    }
   }
  },
  {
   "cell_type": "code",
   "execution_count": 116,
   "outputs": [
    {
     "name": "stdout",
     "output_type": "stream",
     "text": [
      "CPU times: user 7.65 s, sys: 63.6 ms, total: 7.71 s\n",
      "Wall time: 7.85 s\n"
     ]
    }
   ],
   "source": [
    "%%time\n",
    "cba = []\n",
    "for i in range(len(new_dfspacy['tags'])):\n",
    "    cba.append(stemming(new_dfspacy['tags'][i]))"
   ],
   "metadata": {
    "collapsed": false,
    "pycharm": {
     "name": "#%%\n"
    }
   }
  },
  {
   "cell_type": "code",
   "execution_count": 117,
   "outputs": [
    {
     "data": {
      "text/plain": "'чувствова полн силвстава кажд утр тот ног испытыва воодушевлен приступ сложн задач врод ремонт квартир поиск работ нов книг татья мужицк эт уникальн систем практик котор помоч остава ресурс эпидем рванут недельк та посидет ресторан друг татья объясня черпа жизнен сил зависет внешн обстоятельств подход основа одноимен марафон течен полугод пройт человек отз говор сам брат дава наслажда эт цел систем отношен себ мир превраща настоя генератор вдохновен бодрост себ люб наслажда момент част слыша слов пыта соответствова каза имен нужн замен нужн сдела эт легк удовольств татья мужицк велик специалист счаст удовольств доверьт ваш радост любов хват близк ве мир татья лазар актрис телеведущ обществен деятел'"
     },
     "execution_count": 117,
     "metadata": {},
     "output_type": "execute_result"
    }
   ],
   "source": [
    "cba[0]"
   ],
   "metadata": {
    "collapsed": false,
    "pycharm": {
     "name": "#%%\n"
    }
   }
  },
  {
   "cell_type": "code",
   "execution_count": 118,
   "outputs": [],
   "source": [
    "descr = pd.DataFrame(descr)"
   ],
   "metadata": {
    "collapsed": false,
    "pycharm": {
     "name": "#%%\n"
    }
   }
  },
  {
   "cell_type": "code",
   "execution_count": 119,
   "outputs": [
    {
     "data": {
      "text/plain": "                                                      0\n0     чувствовать полный силвставать каждый утро тот...\n1     любить точно знать хотеть идти это избавиться ...\n2     этот книга полностью изменить ваш жизнь речь н...\n3     книга полна грубоватый прикольный совет работа...\n4     психотрюки это простой приём которые помогать ...\n...                                                 ...\n1622  хронический стресс тревога приступы паника нав...\n1623  год экономический спад страна подкосить многих...\n1624  высокочувствительный человек новый интроверт н...\n1625  кинесика это молчаливый язык язык тело помощью...\n1626  жизнь казаться пресной безвкуснойвсе краска пр...\n\n[1627 rows x 1 columns]",
      "text/html": "<div>\n<style scoped>\n    .dataframe tbody tr th:only-of-type {\n        vertical-align: middle;\n    }\n\n    .dataframe tbody tr th {\n        vertical-align: top;\n    }\n\n    .dataframe thead th {\n        text-align: right;\n    }\n</style>\n<table border=\"1\" class=\"dataframe\">\n  <thead>\n    <tr style=\"text-align: right;\">\n      <th></th>\n      <th>0</th>\n    </tr>\n  </thead>\n  <tbody>\n    <tr>\n      <th>0</th>\n      <td>чувствовать полный силвставать каждый утро тот...</td>\n    </tr>\n    <tr>\n      <th>1</th>\n      <td>любить точно знать хотеть идти это избавиться ...</td>\n    </tr>\n    <tr>\n      <th>2</th>\n      <td>этот книга полностью изменить ваш жизнь речь н...</td>\n    </tr>\n    <tr>\n      <th>3</th>\n      <td>книга полна грубоватый прикольный совет работа...</td>\n    </tr>\n    <tr>\n      <th>4</th>\n      <td>психотрюки это простой приём которые помогать ...</td>\n    </tr>\n    <tr>\n      <th>...</th>\n      <td>...</td>\n    </tr>\n    <tr>\n      <th>1622</th>\n      <td>хронический стресс тревога приступы паника нав...</td>\n    </tr>\n    <tr>\n      <th>1623</th>\n      <td>год экономический спад страна подкосить многих...</td>\n    </tr>\n    <tr>\n      <th>1624</th>\n      <td>высокочувствительный человек новый интроверт н...</td>\n    </tr>\n    <tr>\n      <th>1625</th>\n      <td>кинесика это молчаливый язык язык тело помощью...</td>\n    </tr>\n    <tr>\n      <th>1626</th>\n      <td>жизнь казаться пресной безвкуснойвсе краска пр...</td>\n    </tr>\n  </tbody>\n</table>\n<p>1627 rows × 1 columns</p>\n</div>"
     },
     "execution_count": 119,
     "metadata": {},
     "output_type": "execute_result"
    }
   ],
   "source": [
    "descr"
   ],
   "metadata": {
    "collapsed": false,
    "pycharm": {
     "name": "#%%\n"
    }
   }
  },
  {
   "cell_type": "code",
   "execution_count": 120,
   "outputs": [],
   "source": [
    "for i in range(len(new_dfspacy['tags'])):\n",
    "    descr[0][i] = cba[i]"
   ],
   "metadata": {
    "collapsed": false,
    "pycharm": {
     "name": "#%%\n"
    }
   }
  },
  {
   "cell_type": "code",
   "execution_count": 121,
   "outputs": [],
   "source": [
    "data['tags'] = descr[0] + data['foo'] + data['section']"
   ],
   "metadata": {
    "collapsed": false,
    "pycharm": {
     "name": "#%%\n"
    }
   }
  },
  {
   "cell_type": "code",
   "execution_count": 122,
   "outputs": [
    {
     "data": {
      "text/plain": "                                                   name  \\\n0     Брать, давать и наслаждаться. Как оставаться в...   \n1     Роман с самим собой. Как уравновесить внутренн...   \n2                       Думай медленно... решай быстро    \n3     НИ СЫ. Будь уверен в своих силах и не позволяй...   \n4     Психотрюки. 69 приемов в общении, которым не у...   \n...                                                 ...   \n1622    Счастливая жизнь без панических атак и страхов    \n1623                 Думай и богатей в годы безденежья    \n1624  Близко к сердцу. Как жить, если вы слишком чув...   \n1625  Занимательная кинесика, или Тайны жестов, поз,...   \n1626  Наслаждение от каждого дня. Доступная всем про...   \n\n                                                   tags  \n0     чувствова полн силвстава кажд утр тот ног испы...  \n1     люб точн знат хотет идт эт избав негативн шум ...  \n2     этот книг полност измен ваш жизн реч нерациона...  \n3     книг полн грубоват прикольн совет работ сво об...  \n4     психотрюк эт прост при котор помога постав хам...  \n...                                                 ...  \n1622  хроническ стресс тревог приступ паник навязчив...  \n1623  год экономическ спад стран подкос мног человек...  \n1624  высокочувствительн человек нов интроверт назыв...  \n1625  кинесик эт молчалив язык язык тел помощ котор ...  \n1626  жизн каза пресн безвкуснойвс краск притуш звук...  \n\n[1627 rows x 2 columns]",
      "text/html": "<div>\n<style scoped>\n    .dataframe tbody tr th:only-of-type {\n        vertical-align: middle;\n    }\n\n    .dataframe tbody tr th {\n        vertical-align: top;\n    }\n\n    .dataframe thead th {\n        text-align: right;\n    }\n</style>\n<table border=\"1\" class=\"dataframe\">\n  <thead>\n    <tr style=\"text-align: right;\">\n      <th></th>\n      <th>name</th>\n      <th>tags</th>\n    </tr>\n  </thead>\n  <tbody>\n    <tr>\n      <th>0</th>\n      <td>Брать, давать и наслаждаться. Как оставаться в...</td>\n      <td>чувствова полн силвстава кажд утр тот ног испы...</td>\n    </tr>\n    <tr>\n      <th>1</th>\n      <td>Роман с самим собой. Как уравновесить внутренн...</td>\n      <td>люб точн знат хотет идт эт избав негативн шум ...</td>\n    </tr>\n    <tr>\n      <th>2</th>\n      <td>Думай медленно... решай быстро</td>\n      <td>этот книг полност измен ваш жизн реч нерациона...</td>\n    </tr>\n    <tr>\n      <th>3</th>\n      <td>НИ СЫ. Будь уверен в своих силах и не позволяй...</td>\n      <td>книг полн грубоват прикольн совет работ сво об...</td>\n    </tr>\n    <tr>\n      <th>4</th>\n      <td>Психотрюки. 69 приемов в общении, которым не у...</td>\n      <td>психотрюк эт прост при котор помога постав хам...</td>\n    </tr>\n    <tr>\n      <th>...</th>\n      <td>...</td>\n      <td>...</td>\n    </tr>\n    <tr>\n      <th>1622</th>\n      <td>Счастливая жизнь без панических атак и страхов</td>\n      <td>хроническ стресс тревог приступ паник навязчив...</td>\n    </tr>\n    <tr>\n      <th>1623</th>\n      <td>Думай и богатей в годы безденежья</td>\n      <td>год экономическ спад стран подкос мног человек...</td>\n    </tr>\n    <tr>\n      <th>1624</th>\n      <td>Близко к сердцу. Как жить, если вы слишком чув...</td>\n      <td>высокочувствительн человек нов интроверт назыв...</td>\n    </tr>\n    <tr>\n      <th>1625</th>\n      <td>Занимательная кинесика, или Тайны жестов, поз,...</td>\n      <td>кинесик эт молчалив язык язык тел помощ котор ...</td>\n    </tr>\n    <tr>\n      <th>1626</th>\n      <td>Наслаждение от каждого дня. Доступная всем про...</td>\n      <td>жизн каза пресн безвкуснойвс краск притуш звук...</td>\n    </tr>\n  </tbody>\n</table>\n<p>1627 rows × 2 columns</p>\n</div>"
     },
     "execution_count": 122,
     "metadata": {},
     "output_type": "execute_result"
    }
   ],
   "source": [
    "new_dfspacy = data[['name', 'tags']]\n",
    "new_dfspacy"
   ],
   "metadata": {
    "collapsed": false,
    "pycharm": {
     "name": "#%%\n"
    }
   }
  },
  {
   "cell_type": "code",
   "execution_count": 123,
   "outputs": [
    {
     "data": {
      "text/plain": "'чувствова полн силвстава кажд утр тот ног испытыва воодушевлен приступ сложн задач врод ремонт квартир поиск работ нов книг татья мужицк эт уникальн систем практик котор помоч остава ресурс эпидем рванут недельк та посидет ресторан друг татья объясня черпа жизнен сил зависет внешн обстоятельств подход основа одноимен марафон течен полугод пройт человек отз говор сам брат дава наслажда эт цел систем отношен себ мир превраща настоя генератор вдохновен бодрост себ люб наслажда момент част слыша слов пыта соответствова каза имен нужн замен нужн сдела эт легк удовольств татья мужицк велик специалист счаст удовольств доверьт ваш радост любов хват близк ве мир татья лазар актрис телеведущ обществен деятел Саморазвитие и личностный рост'"
     },
     "execution_count": 123,
     "metadata": {},
     "output_type": "execute_result"
    }
   ],
   "source": [
    "new_dfspacy['tags'][0]"
   ],
   "metadata": {
    "collapsed": false,
    "pycharm": {
     "name": "#%%\n"
    }
   }
  },
  {
   "cell_type": "code",
   "execution_count": 124,
   "outputs": [],
   "source": [
    "new_dfspacy.to_csv(r'/Users/dianaverevkina/Diplom_project/Diploma/spacylem.csv', index=False)"
   ],
   "metadata": {
    "collapsed": false,
    "pycharm": {
     "name": "#%%\n"
    }
   }
  },
  {
   "cell_type": "code",
   "execution_count": 125,
   "outputs": [],
   "source": [
    "new_dfspacy = pd.read_csv('spacylem.csv')"
   ],
   "metadata": {
    "collapsed": false,
    "pycharm": {
     "name": "#%%\n"
    }
   }
  },
  {
   "cell_type": "code",
   "execution_count": 126,
   "outputs": [
    {
     "data": {
      "text/plain": "                                                name  \\\n0  Брать, давать и наслаждаться. Как оставаться в...   \n1  Роман с самим собой. Как уравновесить внутренн...   \n2                    Думай медленно... решай быстро    \n3  НИ СЫ. Будь уверен в своих силах и не позволяй...   \n4  Психотрюки. 69 приемов в общении, которым не у...   \n\n                                                tags  \n0  чувствова полн силвстава кажд утр тот ног испы...  \n1  люб точн знат хотет идт эт избав негативн шум ...  \n2  этот книг полност измен ваш жизн реч нерациона...  \n3  книг полн грубоват прикольн совет работ сво об...  \n4  психотрюк эт прост при котор помога постав хам...  ",
      "text/html": "<div>\n<style scoped>\n    .dataframe tbody tr th:only-of-type {\n        vertical-align: middle;\n    }\n\n    .dataframe tbody tr th {\n        vertical-align: top;\n    }\n\n    .dataframe thead th {\n        text-align: right;\n    }\n</style>\n<table border=\"1\" class=\"dataframe\">\n  <thead>\n    <tr style=\"text-align: right;\">\n      <th></th>\n      <th>name</th>\n      <th>tags</th>\n    </tr>\n  </thead>\n  <tbody>\n    <tr>\n      <th>0</th>\n      <td>Брать, давать и наслаждаться. Как оставаться в...</td>\n      <td>чувствова полн силвстава кажд утр тот ног испы...</td>\n    </tr>\n    <tr>\n      <th>1</th>\n      <td>Роман с самим собой. Как уравновесить внутренн...</td>\n      <td>люб точн знат хотет идт эт избав негативн шум ...</td>\n    </tr>\n    <tr>\n      <th>2</th>\n      <td>Думай медленно... решай быстро</td>\n      <td>этот книг полност измен ваш жизн реч нерациона...</td>\n    </tr>\n    <tr>\n      <th>3</th>\n      <td>НИ СЫ. Будь уверен в своих силах и не позволяй...</td>\n      <td>книг полн грубоват прикольн совет работ сво об...</td>\n    </tr>\n    <tr>\n      <th>4</th>\n      <td>Психотрюки. 69 приемов в общении, которым не у...</td>\n      <td>психотрюк эт прост при котор помога постав хам...</td>\n    </tr>\n  </tbody>\n</table>\n</div>"
     },
     "execution_count": 126,
     "metadata": {},
     "output_type": "execute_result"
    }
   ],
   "source": [
    "new_dfspacy[:5]"
   ],
   "metadata": {
    "collapsed": false,
    "pycharm": {
     "name": "#%%\n"
    }
   }
  },
  {
   "cell_type": "code",
   "execution_count": 127,
   "outputs": [
    {
     "data": {
      "text/plain": "1627"
     },
     "execution_count": 127,
     "metadata": {},
     "output_type": "execute_result"
    }
   ],
   "source": [
    "len(abc)"
   ],
   "metadata": {
    "collapsed": false,
    "pycharm": {
     "name": "#%%\n"
    }
   }
  },
  {
   "cell_type": "code",
   "execution_count": 129,
   "outputs": [
    {
     "name": "stdout",
     "output_type": "stream",
     "text": [
      "CPU times: user 7.57 s, sys: 56.2 ms, total: 7.63 s\n",
      "Wall time: 7.71 s\n"
     ]
    }
   ],
   "source": [
    "%%time\n",
    "cba = []\n",
    "for i in range(1627):\n",
    "    cba.append(stemming(abc[i]))"
   ],
   "metadata": {
    "collapsed": false,
    "pycharm": {
     "name": "#%%\n"
    }
   }
  },
  {
   "cell_type": "code",
   "execution_count": 132,
   "outputs": [],
   "source": [
    "prover = []\n",
    "for i in range(1627):\n",
    "    if new_dfspacy['tags'][i] != cba[i]:\n",
    "        prover.append(i)"
   ],
   "metadata": {
    "collapsed": false,
    "pycharm": {
     "name": "#%%\n"
    }
   }
  },
  {
   "cell_type": "code",
   "execution_count": 133,
   "outputs": [
    {
     "data": {
      "text/plain": "1627"
     },
     "execution_count": 133,
     "metadata": {},
     "output_type": "execute_result"
    }
   ],
   "source": [
    "len(prover)"
   ],
   "metadata": {
    "collapsed": false,
    "pycharm": {
     "name": "#%%\n"
    }
   }
  },
  {
   "cell_type": "code",
   "execution_count": 134,
   "outputs": [
    {
     "name": "stdout",
     "output_type": "stream",
     "text": [
      "CPU times: user 12.3 s, sys: 114 ms, total: 12.4 s\n",
      "Wall time: 12.7 s\n"
     ]
    }
   ],
   "source": [
    "%%time\n",
    "cba = []\n",
    "for i in range(len(new_df['tags'])):\n",
    "    cba.append(stemming(new_df['tags'][i]))"
   ],
   "metadata": {
    "collapsed": false,
    "pycharm": {
     "name": "#%%\n"
    }
   }
  },
  {
   "cell_type": "code",
   "execution_count": 135,
   "outputs": [],
   "source": [
    "descr = pd.DataFrame(descr)"
   ],
   "metadata": {
    "collapsed": false,
    "pycharm": {
     "name": "#%%\n"
    }
   }
  },
  {
   "cell_type": "code",
   "execution_count": 136,
   "outputs": [],
   "source": [
    "for i in range(len(new_df['tags'])):\n",
    "    descr[0][i] = cba[i]"
   ],
   "metadata": {
    "collapsed": false,
    "pycharm": {
     "name": "#%%\n"
    }
   }
  },
  {
   "cell_type": "code",
   "execution_count": 137,
   "outputs": [],
   "source": [
    "data['tags'] = descr[0] + data['foo'] + data['section']"
   ],
   "metadata": {
    "collapsed": false,
    "pycharm": {
     "name": "#%%\n"
    }
   }
  },
  {
   "cell_type": "code",
   "execution_count": 138,
   "outputs": [
    {
     "data": {
      "text/plain": "                                                   name  \\\n0     Брать, давать и наслаждаться. Как оставаться в...   \n1     Роман с самим собой. Как уравновесить внутренн...   \n2                       Думай медленно... решай быстро    \n3     НИ СЫ. Будь уверен в своих силах и не позволяй...   \n4     Психотрюки. 69 приемов в общении, которым не у...   \n...                                                 ...   \n1622    Счастливая жизнь без панических атак и страхов    \n1623                 Думай и богатей в годы безденежья    \n1624  Близко к сердцу. Как жить, если вы слишком чув...   \n1625  Занимательная кинесика, или Тайны жестов, поз,...   \n1626  Наслаждение от каждого дня. Доступная всем про...   \n\n                                                   tags  \n0     чувствова себ полн силвстава кажд утр с тот но...  \n1     когд ты себ люб ты точн знат что хотет и идт к...  \n2     этот книг полност измен ваш жизн вед реч в он ...  \n3     книг полн грубоват и прикольн совет по работ н...  \n4     психотрюк эт прост при котор помога постав хам...  \n...                                                 ...  \n1622  хроническ стресс тревог приступ паник навязчив...  \n1623  год экономическ спад в стран подкос мног челов...  \n1624  высокочувствительн человек ил нов интроверт та...  \n1625  кинесик эт молчалив язык язык тел с помощ кото...  \n1626  жизн каза пресн и безвкуснойвс краск притуш а ...  \n\n[1627 rows x 2 columns]",
      "text/html": "<div>\n<style scoped>\n    .dataframe tbody tr th:only-of-type {\n        vertical-align: middle;\n    }\n\n    .dataframe tbody tr th {\n        vertical-align: top;\n    }\n\n    .dataframe thead th {\n        text-align: right;\n    }\n</style>\n<table border=\"1\" class=\"dataframe\">\n  <thead>\n    <tr style=\"text-align: right;\">\n      <th></th>\n      <th>name</th>\n      <th>tags</th>\n    </tr>\n  </thead>\n  <tbody>\n    <tr>\n      <th>0</th>\n      <td>Брать, давать и наслаждаться. Как оставаться в...</td>\n      <td>чувствова себ полн силвстава кажд утр с тот но...</td>\n    </tr>\n    <tr>\n      <th>1</th>\n      <td>Роман с самим собой. Как уравновесить внутренн...</td>\n      <td>когд ты себ люб ты точн знат что хотет и идт к...</td>\n    </tr>\n    <tr>\n      <th>2</th>\n      <td>Думай медленно... решай быстро</td>\n      <td>этот книг полност измен ваш жизн вед реч в он ...</td>\n    </tr>\n    <tr>\n      <th>3</th>\n      <td>НИ СЫ. Будь уверен в своих силах и не позволяй...</td>\n      <td>книг полн грубоват и прикольн совет по работ н...</td>\n    </tr>\n    <tr>\n      <th>4</th>\n      <td>Психотрюки. 69 приемов в общении, которым не у...</td>\n      <td>психотрюк эт прост при котор помога постав хам...</td>\n    </tr>\n    <tr>\n      <th>...</th>\n      <td>...</td>\n      <td>...</td>\n    </tr>\n    <tr>\n      <th>1622</th>\n      <td>Счастливая жизнь без панических атак и страхов</td>\n      <td>хроническ стресс тревог приступ паник навязчив...</td>\n    </tr>\n    <tr>\n      <th>1623</th>\n      <td>Думай и богатей в годы безденежья</td>\n      <td>год экономическ спад в стран подкос мног челов...</td>\n    </tr>\n    <tr>\n      <th>1624</th>\n      <td>Близко к сердцу. Как жить, если вы слишком чув...</td>\n      <td>высокочувствительн человек ил нов интроверт та...</td>\n    </tr>\n    <tr>\n      <th>1625</th>\n      <td>Занимательная кинесика, или Тайны жестов, поз,...</td>\n      <td>кинесик эт молчалив язык язык тел с помощ кото...</td>\n    </tr>\n    <tr>\n      <th>1626</th>\n      <td>Наслаждение от каждого дня. Доступная всем про...</td>\n      <td>жизн каза пресн и безвкуснойвс краск притуш а ...</td>\n    </tr>\n  </tbody>\n</table>\n<p>1627 rows × 2 columns</p>\n</div>"
     },
     "execution_count": 138,
     "metadata": {},
     "output_type": "execute_result"
    }
   ],
   "source": [
    "new_df = data[['name', 'tags']]\n",
    "new_df"
   ],
   "metadata": {
    "collapsed": false,
    "pycharm": {
     "name": "#%%\n"
    }
   }
  },
  {
   "cell_type": "code",
   "execution_count": 139,
   "outputs": [],
   "source": [
    "new_df.to_csv(r'/Users/dianaverevkina/Diplom_project/Diploma/tags2.csv', index=False)"
   ],
   "metadata": {
    "collapsed": false,
    "pycharm": {
     "name": "#%%\n"
    }
   }
  },
  {
   "cell_type": "code",
   "execution_count": 141,
   "outputs": [
    {
     "data": {
      "text/plain": "'чувствова себ полн силвстава кажд утр с тот ног испытыва воодушевлен приступа к сложн задач врод ремонт квартир ил поиск работ нов книг татья мужицк эт уникальн систем практик котор помоч всегд остава в ресурс даж когд из за эпидем нельз рванут на недельк в та ил посидет в рестора с друг татья объясня как черпа жизнен сил из тот что не зависет от внешн обстоятельств он подход основа на одноимен марафон тольк в течен полгод он пройт бол человек он отз говор сам за себ брат дава и наслажда эт цел систем отношен с себ и мир превраща мы в настоя генератор вдохновен и бодрост быт себ зде и сейчас люб себ наслажда момент мы част слыша этот слов и пыта он соответствова каза что имен так и нужн а есл замен нужн на можн и сдела эт легк и с удовольств татья мужицк велик специалист по счаст и удовольств довер он и тогд ваш радост и любов хват не тольк на себ и на близк на ве мир татья лазар актрис телеведущ и обществен деятел саморазвит и личностн рост Саморазвитие и личностный рост'"
     },
     "execution_count": 141,
     "metadata": {},
     "output_type": "execute_result"
    }
   ],
   "source": [
    "new_df = pd.read_csv('tags2.csv')\n",
    "new_df['tags'][0]"
   ],
   "metadata": {
    "collapsed": false,
    "pycharm": {
     "name": "#%%\n"
    }
   }
  },
  {
   "cell_type": "code",
   "execution_count": null,
   "outputs": [],
   "source": [],
   "metadata": {
    "collapsed": false,
    "pycharm": {
     "name": "#%%\n"
    }
   }
  }
 ],
 "metadata": {
  "kernelspec": {
   "display_name": "Python 3",
   "language": "python",
   "name": "python3"
  },
  "language_info": {
   "codemirror_mode": {
    "name": "ipython",
    "version": 2
   },
   "file_extension": ".py",
   "mimetype": "text/x-python",
   "name": "python",
   "nbconvert_exporter": "python",
   "pygments_lexer": "ipython2",
   "version": "2.7.6"
  }
 },
 "nbformat": 4,
 "nbformat_minor": 0
}