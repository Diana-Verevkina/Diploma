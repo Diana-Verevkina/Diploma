{
 "cells": [
  {
   "cell_type": "code",
   "execution_count": 1,
   "outputs": [],
   "source": [
    "import pandas as pd\n",
    "import sys"
   ],
   "metadata": {
    "collapsed": false,
    "pycharm": {
     "name": "#%%\n"
    }
   }
  },
  {
   "cell_type": "code",
   "execution_count": 2,
   "outputs": [
    {
     "data": {
      "text/plain": "                                                   name            author  \\\n0     Брать, давать и наслаждаться. Как оставаться в...  Татьяна Мужицкая   \n1     Роман с самим собой. Как уравновесить внутренн...  Татьяна Мужицкая   \n2                       Думай медленно... решай быстро    Даниэль Канеман   \n3     НИ СЫ. Будь уверен в своих силах и не позволяй...      Джен Синсеро   \n4     Психотрюки. 69 приемов в общении, которым не у...       Игорь Рызов   \n...                                                 ...               ...   \n1736    Счастливая жизнь без панических атак и страхов                NaN   \n1737                 Думай и богатей в годы безденежья                NaN   \n1738  Близко к сердцу. Как жить, если вы слишком чув...           Санд И.   \n1739  Занимательная кинесика, или Тайны жестов, поз,...               NaN   \n1740  Наслаждение от каждого дня. Доступная всем про...               NaN   \n\n                             section               publish    age    year  \\\n0     Саморазвитие и личностный рост                   NaN   16+   2022.0   \n1     Саморазвитие и личностный рост                   NaN   16+   2022.0   \n2              Популярная психология                   АСТ   16+   2022.0   \n3     Саморазвитие и личностный рост                   NaN   16+   2022.0   \n4     Саморазвитие и личностный рост                   NaN   12+   2022.0   \n...                              ...                   ...    ...     ...   \n1736  Саморазвитие и личностный рост  Издательские решения   16+   2016.0   \n1737  Саморазвитие и личностный рост                   NaN   16+   2018.0   \n1738  Саморазвитие и личностный рост               Альпина    NaN  2016.0   \n1739  Саморазвитие и личностный рост              Прометей    NaN  2022.0   \n1740  Саморазвитие и личностный рост                   NaN   16+   2022.0   \n\n      pages rating                                               cove  \\\n0     256.0     5   https://ndc.book24.ru/resize/410x590/iblock/3d...   \n1     304.0     5   https:https://cdn.book24.ru/v2/ITD000000001044...   \n2     656.0   4,6   https://ndc.book24.ru/resize/410x590/iblock/0a...   \n3     320.0   4,2   https://ndc.book24.ru/resize/410x590/iblock/54...   \n4     256.0     5   https://ndc.book24.ru/resize/410x590/iblock/74...   \n...     ...    ...                                                ...   \n1736  120.0   0,0   https://ndc.book24.ru/resize/410x590/iblock/28...   \n1737  192.0   0,0   https://ndc.book24.ru/resize/410x590/iblock/fe...   \n1738  158.0   0,0   https://ndc.book24.ru/resize/410x590/iblock/fe...   \n1739  480.0   0,0   https://ndc.book24.ru/resize/410x590/iblock/4c...   \n1740  240.0   0,0   https://ndc.book24.ru/resize/410x590/iblock/18...   \n\n                                            description  \n0     Чувствовать себя полным сил. Вставать каждое у...  \n1     Когда ты себя любишь, ты точно знаешь, чего хо...  \n2     Эта книга полностью изменит вашу жизнь: ведь р...  \n3     Книга полна грубоватых и прикольных советов по...  \n4     Психотрюки — это простые приемы, которые помог...  \n...                                                 ...  \n1736  Хронический стресс, тревога, приступы паники, ...  \n1737  Годы экономического спада в стране \"подкосили\"...  \n1738  Высокочувствительные люди, или «новые интровер...  \n1739  Кинесика — это молчаливый язык, язык тела, с п...  \n1740  Жизнь кажется пресной и безвкусной?Все краски ...  \n\n[1741 rows x 10 columns]",
      "text/html": "<div>\n<style scoped>\n    .dataframe tbody tr th:only-of-type {\n        vertical-align: middle;\n    }\n\n    .dataframe tbody tr th {\n        vertical-align: top;\n    }\n\n    .dataframe thead th {\n        text-align: right;\n    }\n</style>\n<table border=\"1\" class=\"dataframe\">\n  <thead>\n    <tr style=\"text-align: right;\">\n      <th></th>\n      <th>name</th>\n      <th>author</th>\n      <th>section</th>\n      <th>publish</th>\n      <th>age</th>\n      <th>year</th>\n      <th>pages</th>\n      <th>rating</th>\n      <th>cove</th>\n      <th>description</th>\n    </tr>\n  </thead>\n  <tbody>\n    <tr>\n      <th>0</th>\n      <td>Брать, давать и наслаждаться. Как оставаться в...</td>\n      <td>Татьяна Мужицкая</td>\n      <td>Саморазвитие и личностный рост</td>\n      <td>NaN</td>\n      <td>16+</td>\n      <td>2022.0</td>\n      <td>256.0</td>\n      <td>5</td>\n      <td>https://ndc.book24.ru/resize/410x590/iblock/3d...</td>\n      <td>Чувствовать себя полным сил. Вставать каждое у...</td>\n    </tr>\n    <tr>\n      <th>1</th>\n      <td>Роман с самим собой. Как уравновесить внутренн...</td>\n      <td>Татьяна Мужицкая</td>\n      <td>Саморазвитие и личностный рост</td>\n      <td>NaN</td>\n      <td>16+</td>\n      <td>2022.0</td>\n      <td>304.0</td>\n      <td>5</td>\n      <td>https:https://cdn.book24.ru/v2/ITD000000001044...</td>\n      <td>Когда ты себя любишь, ты точно знаешь, чего хо...</td>\n    </tr>\n    <tr>\n      <th>2</th>\n      <td>Думай медленно... решай быстро</td>\n      <td>Даниэль Канеман</td>\n      <td>Популярная психология</td>\n      <td>АСТ</td>\n      <td>16+</td>\n      <td>2022.0</td>\n      <td>656.0</td>\n      <td>4,6</td>\n      <td>https://ndc.book24.ru/resize/410x590/iblock/0a...</td>\n      <td>Эта книга полностью изменит вашу жизнь: ведь р...</td>\n    </tr>\n    <tr>\n      <th>3</th>\n      <td>НИ СЫ. Будь уверен в своих силах и не позволяй...</td>\n      <td>Джен Синсеро</td>\n      <td>Саморазвитие и личностный рост</td>\n      <td>NaN</td>\n      <td>16+</td>\n      <td>2022.0</td>\n      <td>320.0</td>\n      <td>4,2</td>\n      <td>https://ndc.book24.ru/resize/410x590/iblock/54...</td>\n      <td>Книга полна грубоватых и прикольных советов по...</td>\n    </tr>\n    <tr>\n      <th>4</th>\n      <td>Психотрюки. 69 приемов в общении, которым не у...</td>\n      <td>Игорь Рызов</td>\n      <td>Саморазвитие и личностный рост</td>\n      <td>NaN</td>\n      <td>12+</td>\n      <td>2022.0</td>\n      <td>256.0</td>\n      <td>5</td>\n      <td>https://ndc.book24.ru/resize/410x590/iblock/74...</td>\n      <td>Психотрюки — это простые приемы, которые помог...</td>\n    </tr>\n    <tr>\n      <th>...</th>\n      <td>...</td>\n      <td>...</td>\n      <td>...</td>\n      <td>...</td>\n      <td>...</td>\n      <td>...</td>\n      <td>...</td>\n      <td>...</td>\n      <td>...</td>\n      <td>...</td>\n    </tr>\n    <tr>\n      <th>1736</th>\n      <td>Счастливая жизнь без панических атак и страхов</td>\n      <td>NaN</td>\n      <td>Саморазвитие и личностный рост</td>\n      <td>Издательские решения</td>\n      <td>16+</td>\n      <td>2016.0</td>\n      <td>120.0</td>\n      <td>0,0</td>\n      <td>https://ndc.book24.ru/resize/410x590/iblock/28...</td>\n      <td>Хронический стресс, тревога, приступы паники, ...</td>\n    </tr>\n    <tr>\n      <th>1737</th>\n      <td>Думай и богатей в годы безденежья</td>\n      <td>NaN</td>\n      <td>Саморазвитие и личностный рост</td>\n      <td>NaN</td>\n      <td>16+</td>\n      <td>2018.0</td>\n      <td>192.0</td>\n      <td>0,0</td>\n      <td>https://ndc.book24.ru/resize/410x590/iblock/fe...</td>\n      <td>Годы экономического спада в стране \"подкосили\"...</td>\n    </tr>\n    <tr>\n      <th>1738</th>\n      <td>Близко к сердцу. Как жить, если вы слишком чув...</td>\n      <td>Санд И.</td>\n      <td>Саморазвитие и личностный рост</td>\n      <td>Альпина</td>\n      <td>NaN</td>\n      <td>2016.0</td>\n      <td>158.0</td>\n      <td>0,0</td>\n      <td>https://ndc.book24.ru/resize/410x590/iblock/fe...</td>\n      <td>Высокочувствительные люди, или «новые интровер...</td>\n    </tr>\n    <tr>\n      <th>1739</th>\n      <td>Занимательная кинесика, или Тайны жестов, поз,...</td>\n      <td>NaN</td>\n      <td>Саморазвитие и личностный рост</td>\n      <td>Прометей</td>\n      <td>NaN</td>\n      <td>2022.0</td>\n      <td>480.0</td>\n      <td>0,0</td>\n      <td>https://ndc.book24.ru/resize/410x590/iblock/4c...</td>\n      <td>Кинесика — это молчаливый язык, язык тела, с п...</td>\n    </tr>\n    <tr>\n      <th>1740</th>\n      <td>Наслаждение от каждого дня. Доступная всем про...</td>\n      <td>NaN</td>\n      <td>Саморазвитие и личностный рост</td>\n      <td>NaN</td>\n      <td>16+</td>\n      <td>2022.0</td>\n      <td>240.0</td>\n      <td>0,0</td>\n      <td>https://ndc.book24.ru/resize/410x590/iblock/18...</td>\n      <td>Жизнь кажется пресной и безвкусной?Все краски ...</td>\n    </tr>\n  </tbody>\n</table>\n<p>1741 rows × 10 columns</p>\n</div>"
     },
     "execution_count": 2,
     "metadata": {},
     "output_type": "execute_result"
    }
   ],
   "source": [
    "data = pd.read_json('project_book.json')\n",
    "data"
   ],
   "metadata": {
    "collapsed": false,
    "pycharm": {
     "name": "#%%\n"
    }
   }
  },
  {
   "cell_type": "code",
   "execution_count": 3,
   "outputs": [
    {
     "data": {
      "text/plain": "(1741, 10)"
     },
     "execution_count": 3,
     "metadata": {},
     "output_type": "execute_result"
    }
   ],
   "source": [
    "data.shape"
   ],
   "metadata": {
    "collapsed": false,
    "pycharm": {
     "name": "#%%\n"
    }
   }
  },
  {
   "cell_type": "code",
   "execution_count": 4,
   "outputs": [],
   "source": [
    "authors = data['author']"
   ],
   "metadata": {
    "collapsed": false,
    "pycharm": {
     "name": "#%%\n"
    }
   }
  },
  {
   "cell_type": "code",
   "execution_count": 5,
   "outputs": [
    {
     "data": {
      "text/plain": "0       Татьяна Мужицкая\n1       Татьяна Мужицкая\n2        Даниэль Канеман\n3           Джен Синсеро\n4            Игорь Рызов\n              ...       \n1736                 NaN\n1737                 NaN\n1738             Санд И.\n1739                 NaN\n1740                 NaN\nName: author, Length: 1741, dtype: object"
     },
     "execution_count": 5,
     "metadata": {},
     "output_type": "execute_result"
    }
   ],
   "source": [
    "authors"
   ],
   "metadata": {
    "collapsed": false,
    "pycharm": {
     "name": "#%%\n"
    }
   }
  },
  {
   "cell_type": "code",
   "execution_count": 13,
   "outputs": [
    {
     "data": {
      "text/plain": "0       Татьяна Мужицкая\n1       Татьяна Мужицкая\n2        Даниэль Канеман\n3           Джен Синсеро\n4            Игорь Рызов\n              ...       \n1736                 NaN\n1737                 NaN\n1738             Санд И.\n1739                 NaN\n1740                 NaN\nName: author, Length: 1741, dtype: object"
     },
     "execution_count": 13,
     "metadata": {},
     "output_type": "execute_result"
    }
   ],
   "source": [
    "authors.dropna ()"
   ],
   "metadata": {
    "collapsed": false,
    "pycharm": {
     "name": "#%%\n"
    }
   }
  },
  {
   "cell_type": "code",
   "execution_count": 25,
   "outputs": [
    {
     "data": {
      "text/plain": "                                                   name            author  \\\n0     Брать, давать и наслаждаться. Как оставаться в...  Татьяна Мужицкая   \n1     Роман с самим собой. Как уравновесить внутренн...  Татьяна Мужицкая   \n2                       Думай медленно... решай быстро    Даниэль Канеман   \n3     НИ СЫ. Будь уверен в своих силах и не позволяй...      Джен Синсеро   \n4     Психотрюки. 69 приемов в общении, которым не у...       Игорь Рызов   \n...                                                 ...               ...   \n1736    Счастливая жизнь без панических атак и страхов                NaN   \n1737                 Думай и богатей в годы безденежья                NaN   \n1738  Близко к сердцу. Как жить, если вы слишком чув...           Санд И.   \n1739  Занимательная кинесика, или Тайны жестов, поз,...               NaN   \n1740  Наслаждение от каждого дня. Доступная всем про...               NaN   \n\n                             section               publish    age    year  \\\n0     Саморазвитие и личностный рост                   NaN   16+   2022.0   \n1     Саморазвитие и личностный рост                   NaN   16+   2022.0   \n2              Популярная психология                   АСТ   16+   2022.0   \n3     Саморазвитие и личностный рост                   NaN   16+   2022.0   \n4     Саморазвитие и личностный рост                   NaN   12+   2022.0   \n...                              ...                   ...    ...     ...   \n1736  Саморазвитие и личностный рост  Издательские решения   16+   2016.0   \n1737  Саморазвитие и личностный рост                   NaN   16+   2018.0   \n1738  Саморазвитие и личностный рост               Альпина    NaN  2016.0   \n1739  Саморазвитие и личностный рост              Прометей    NaN  2022.0   \n1740  Саморазвитие и личностный рост                   NaN   16+   2022.0   \n\n      pages rating                                               cove  \\\n0     256.0     5   https://ndc.book24.ru/resize/410x590/iblock/3d...   \n1     304.0     5   https:https://cdn.book24.ru/v2/ITD000000001044...   \n2     656.0   4,6   https://ndc.book24.ru/resize/410x590/iblock/0a...   \n3     320.0   4,2   https://ndc.book24.ru/resize/410x590/iblock/54...   \n4     256.0     5   https://ndc.book24.ru/resize/410x590/iblock/74...   \n...     ...    ...                                                ...   \n1736  120.0   0,0   https://ndc.book24.ru/resize/410x590/iblock/28...   \n1737  192.0   0,0   https://ndc.book24.ru/resize/410x590/iblock/fe...   \n1738  158.0   0,0   https://ndc.book24.ru/resize/410x590/iblock/fe...   \n1739  480.0   0,0   https://ndc.book24.ru/resize/410x590/iblock/4c...   \n1740  240.0   0,0   https://ndc.book24.ru/resize/410x590/iblock/18...   \n\n                                            description  \n0     Чувствовать себя полным сил. Вставать каждое у...  \n1     Когда ты себя любишь, ты точно знаешь, чего хо...  \n2     Эта книга полностью изменит вашу жизнь: ведь р...  \n3     Книга полна грубоватых и прикольных советов по...  \n4     Психотрюки — это простые приемы, которые помог...  \n...                                                 ...  \n1736  Хронический стресс, тревога, приступы паники, ...  \n1737  Годы экономического спада в стране \"подкосили\"...  \n1738  Высокочувствительные люди, или «новые интровер...  \n1739  Кинесика — это молчаливый язык, язык тела, с п...  \n1740  Жизнь кажется пресной и безвкусной?Все краски ...  \n\n[1741 rows x 10 columns]",
      "text/html": "<div>\n<style scoped>\n    .dataframe tbody tr th:only-of-type {\n        vertical-align: middle;\n    }\n\n    .dataframe tbody tr th {\n        vertical-align: top;\n    }\n\n    .dataframe thead th {\n        text-align: right;\n    }\n</style>\n<table border=\"1\" class=\"dataframe\">\n  <thead>\n    <tr style=\"text-align: right;\">\n      <th></th>\n      <th>name</th>\n      <th>author</th>\n      <th>section</th>\n      <th>publish</th>\n      <th>age</th>\n      <th>year</th>\n      <th>pages</th>\n      <th>rating</th>\n      <th>cove</th>\n      <th>description</th>\n    </tr>\n  </thead>\n  <tbody>\n    <tr>\n      <th>0</th>\n      <td>Брать, давать и наслаждаться. Как оставаться в...</td>\n      <td>Татьяна Мужицкая</td>\n      <td>Саморазвитие и личностный рост</td>\n      <td>NaN</td>\n      <td>16+</td>\n      <td>2022.0</td>\n      <td>256.0</td>\n      <td>5</td>\n      <td>https://ndc.book24.ru/resize/410x590/iblock/3d...</td>\n      <td>Чувствовать себя полным сил. Вставать каждое у...</td>\n    </tr>\n    <tr>\n      <th>1</th>\n      <td>Роман с самим собой. Как уравновесить внутренн...</td>\n      <td>Татьяна Мужицкая</td>\n      <td>Саморазвитие и личностный рост</td>\n      <td>NaN</td>\n      <td>16+</td>\n      <td>2022.0</td>\n      <td>304.0</td>\n      <td>5</td>\n      <td>https:https://cdn.book24.ru/v2/ITD000000001044...</td>\n      <td>Когда ты себя любишь, ты точно знаешь, чего хо...</td>\n    </tr>\n    <tr>\n      <th>2</th>\n      <td>Думай медленно... решай быстро</td>\n      <td>Даниэль Канеман</td>\n      <td>Популярная психология</td>\n      <td>АСТ</td>\n      <td>16+</td>\n      <td>2022.0</td>\n      <td>656.0</td>\n      <td>4,6</td>\n      <td>https://ndc.book24.ru/resize/410x590/iblock/0a...</td>\n      <td>Эта книга полностью изменит вашу жизнь: ведь р...</td>\n    </tr>\n    <tr>\n      <th>3</th>\n      <td>НИ СЫ. Будь уверен в своих силах и не позволяй...</td>\n      <td>Джен Синсеро</td>\n      <td>Саморазвитие и личностный рост</td>\n      <td>NaN</td>\n      <td>16+</td>\n      <td>2022.0</td>\n      <td>320.0</td>\n      <td>4,2</td>\n      <td>https://ndc.book24.ru/resize/410x590/iblock/54...</td>\n      <td>Книга полна грубоватых и прикольных советов по...</td>\n    </tr>\n    <tr>\n      <th>4</th>\n      <td>Психотрюки. 69 приемов в общении, которым не у...</td>\n      <td>Игорь Рызов</td>\n      <td>Саморазвитие и личностный рост</td>\n      <td>NaN</td>\n      <td>12+</td>\n      <td>2022.0</td>\n      <td>256.0</td>\n      <td>5</td>\n      <td>https://ndc.book24.ru/resize/410x590/iblock/74...</td>\n      <td>Психотрюки — это простые приемы, которые помог...</td>\n    </tr>\n    <tr>\n      <th>...</th>\n      <td>...</td>\n      <td>...</td>\n      <td>...</td>\n      <td>...</td>\n      <td>...</td>\n      <td>...</td>\n      <td>...</td>\n      <td>...</td>\n      <td>...</td>\n      <td>...</td>\n    </tr>\n    <tr>\n      <th>1736</th>\n      <td>Счастливая жизнь без панических атак и страхов</td>\n      <td>NaN</td>\n      <td>Саморазвитие и личностный рост</td>\n      <td>Издательские решения</td>\n      <td>16+</td>\n      <td>2016.0</td>\n      <td>120.0</td>\n      <td>0,0</td>\n      <td>https://ndc.book24.ru/resize/410x590/iblock/28...</td>\n      <td>Хронический стресс, тревога, приступы паники, ...</td>\n    </tr>\n    <tr>\n      <th>1737</th>\n      <td>Думай и богатей в годы безденежья</td>\n      <td>NaN</td>\n      <td>Саморазвитие и личностный рост</td>\n      <td>NaN</td>\n      <td>16+</td>\n      <td>2018.0</td>\n      <td>192.0</td>\n      <td>0,0</td>\n      <td>https://ndc.book24.ru/resize/410x590/iblock/fe...</td>\n      <td>Годы экономического спада в стране \"подкосили\"...</td>\n    </tr>\n    <tr>\n      <th>1738</th>\n      <td>Близко к сердцу. Как жить, если вы слишком чув...</td>\n      <td>Санд И.</td>\n      <td>Саморазвитие и личностный рост</td>\n      <td>Альпина</td>\n      <td>NaN</td>\n      <td>2016.0</td>\n      <td>158.0</td>\n      <td>0,0</td>\n      <td>https://ndc.book24.ru/resize/410x590/iblock/fe...</td>\n      <td>Высокочувствительные люди, или «новые интровер...</td>\n    </tr>\n    <tr>\n      <th>1739</th>\n      <td>Занимательная кинесика, или Тайны жестов, поз,...</td>\n      <td>NaN</td>\n      <td>Саморазвитие и личностный рост</td>\n      <td>Прометей</td>\n      <td>NaN</td>\n      <td>2022.0</td>\n      <td>480.0</td>\n      <td>0,0</td>\n      <td>https://ndc.book24.ru/resize/410x590/iblock/4c...</td>\n      <td>Кинесика — это молчаливый язык, язык тела, с п...</td>\n    </tr>\n    <tr>\n      <th>1740</th>\n      <td>Наслаждение от каждого дня. Доступная всем про...</td>\n      <td>NaN</td>\n      <td>Саморазвитие и личностный рост</td>\n      <td>NaN</td>\n      <td>16+</td>\n      <td>2022.0</td>\n      <td>240.0</td>\n      <td>0,0</td>\n      <td>https://ndc.book24.ru/resize/410x590/iblock/18...</td>\n      <td>Жизнь кажется пресной и безвкусной?Все краски ...</td>\n    </tr>\n  </tbody>\n</table>\n<p>1741 rows × 10 columns</p>\n</div>"
     },
     "execution_count": 25,
     "metadata": {},
     "output_type": "execute_result"
    }
   ],
   "source": [
    "df_authors = data\n",
    "df_authors"
   ],
   "metadata": {
    "collapsed": false,
    "pycharm": {
     "name": "#%%\n"
    }
   }
  },
  {
   "cell_type": "code",
   "execution_count": 16,
   "outputs": [
    {
     "data": {
      "text/plain": "                                                   name            author  \\\n0     Брать, давать и наслаждаться. Как оставаться в...  Татьяна Мужицкая   \n1     Роман с самим собой. Как уравновесить внутренн...  Татьяна Мужицкая   \n2                       Думай медленно... решай быстро    Даниэль Канеман   \n3     НИ СЫ. Будь уверен в своих силах и не позволяй...      Джен Синсеро   \n4     Психотрюки. 69 приемов в общении, которым не у...       Игорь Рызов   \n...                                                 ...               ...   \n1736    Счастливая жизнь без панических атак и страхов                NaN   \n1737                 Думай и богатей в годы безденежья                NaN   \n1738  Близко к сердцу. Как жить, если вы слишком чув...           Санд И.   \n1739  Занимательная кинесика, или Тайны жестов, поз,...               NaN   \n1740  Наслаждение от каждого дня. Доступная всем про...               NaN   \n\n                             section               publish    age    year  \\\n0     Саморазвитие и личностный рост                   NaN   16+   2022.0   \n1     Саморазвитие и личностный рост                   NaN   16+   2022.0   \n2              Популярная психология                   АСТ   16+   2022.0   \n3     Саморазвитие и личностный рост                   NaN   16+   2022.0   \n4     Саморазвитие и личностный рост                   NaN   12+   2022.0   \n...                              ...                   ...    ...     ...   \n1736  Саморазвитие и личностный рост  Издательские решения   16+   2016.0   \n1737  Саморазвитие и личностный рост                   NaN   16+   2018.0   \n1738  Саморазвитие и личностный рост               Альпина    NaN  2016.0   \n1739  Саморазвитие и личностный рост              Прометей    NaN  2022.0   \n1740  Саморазвитие и личностный рост                   NaN   16+   2022.0   \n\n      pages rating                                               cove  \\\n0     256.0     5   https://ndc.book24.ru/resize/410x590/iblock/3d...   \n1     304.0     5   https:https://cdn.book24.ru/v2/ITD000000001044...   \n2     656.0   4,6   https://ndc.book24.ru/resize/410x590/iblock/0a...   \n3     320.0   4,2   https://ndc.book24.ru/resize/410x590/iblock/54...   \n4     256.0     5   https://ndc.book24.ru/resize/410x590/iblock/74...   \n...     ...    ...                                                ...   \n1736  120.0   0,0   https://ndc.book24.ru/resize/410x590/iblock/28...   \n1737  192.0   0,0   https://ndc.book24.ru/resize/410x590/iblock/fe...   \n1738  158.0   0,0   https://ndc.book24.ru/resize/410x590/iblock/fe...   \n1739  480.0   0,0   https://ndc.book24.ru/resize/410x590/iblock/4c...   \n1740  240.0   0,0   https://ndc.book24.ru/resize/410x590/iblock/18...   \n\n                                            description  \n0     Чувствовать себя полным сил. Вставать каждое у...  \n1     Когда ты себя любишь, ты точно знаешь, чего хо...  \n2     Эта книга полностью изменит вашу жизнь: ведь р...  \n3     Книга полна грубоватых и прикольных советов по...  \n4     Психотрюки — это простые приемы, которые помог...  \n...                                                 ...  \n1736  Хронический стресс, тревога, приступы паники, ...  \n1737  Годы экономического спада в стране \"подкосили\"...  \n1738  Высокочувствительные люди, или «новые интровер...  \n1739  Кинесика — это молчаливый язык, язык тела, с п...  \n1740  Жизнь кажется пресной и безвкусной?Все краски ...  \n\n[1741 rows x 10 columns]",
      "text/html": "<div>\n<style scoped>\n    .dataframe tbody tr th:only-of-type {\n        vertical-align: middle;\n    }\n\n    .dataframe tbody tr th {\n        vertical-align: top;\n    }\n\n    .dataframe thead th {\n        text-align: right;\n    }\n</style>\n<table border=\"1\" class=\"dataframe\">\n  <thead>\n    <tr style=\"text-align: right;\">\n      <th></th>\n      <th>name</th>\n      <th>author</th>\n      <th>section</th>\n      <th>publish</th>\n      <th>age</th>\n      <th>year</th>\n      <th>pages</th>\n      <th>rating</th>\n      <th>cove</th>\n      <th>description</th>\n    </tr>\n  </thead>\n  <tbody>\n    <tr>\n      <th>0</th>\n      <td>Брать, давать и наслаждаться. Как оставаться в...</td>\n      <td>Татьяна Мужицкая</td>\n      <td>Саморазвитие и личностный рост</td>\n      <td>NaN</td>\n      <td>16+</td>\n      <td>2022.0</td>\n      <td>256.0</td>\n      <td>5</td>\n      <td>https://ndc.book24.ru/resize/410x590/iblock/3d...</td>\n      <td>Чувствовать себя полным сил. Вставать каждое у...</td>\n    </tr>\n    <tr>\n      <th>1</th>\n      <td>Роман с самим собой. Как уравновесить внутренн...</td>\n      <td>Татьяна Мужицкая</td>\n      <td>Саморазвитие и личностный рост</td>\n      <td>NaN</td>\n      <td>16+</td>\n      <td>2022.0</td>\n      <td>304.0</td>\n      <td>5</td>\n      <td>https:https://cdn.book24.ru/v2/ITD000000001044...</td>\n      <td>Когда ты себя любишь, ты точно знаешь, чего хо...</td>\n    </tr>\n    <tr>\n      <th>2</th>\n      <td>Думай медленно... решай быстро</td>\n      <td>Даниэль Канеман</td>\n      <td>Популярная психология</td>\n      <td>АСТ</td>\n      <td>16+</td>\n      <td>2022.0</td>\n      <td>656.0</td>\n      <td>4,6</td>\n      <td>https://ndc.book24.ru/resize/410x590/iblock/0a...</td>\n      <td>Эта книга полностью изменит вашу жизнь: ведь р...</td>\n    </tr>\n    <tr>\n      <th>3</th>\n      <td>НИ СЫ. Будь уверен в своих силах и не позволяй...</td>\n      <td>Джен Синсеро</td>\n      <td>Саморазвитие и личностный рост</td>\n      <td>NaN</td>\n      <td>16+</td>\n      <td>2022.0</td>\n      <td>320.0</td>\n      <td>4,2</td>\n      <td>https://ndc.book24.ru/resize/410x590/iblock/54...</td>\n      <td>Книга полна грубоватых и прикольных советов по...</td>\n    </tr>\n    <tr>\n      <th>4</th>\n      <td>Психотрюки. 69 приемов в общении, которым не у...</td>\n      <td>Игорь Рызов</td>\n      <td>Саморазвитие и личностный рост</td>\n      <td>NaN</td>\n      <td>12+</td>\n      <td>2022.0</td>\n      <td>256.0</td>\n      <td>5</td>\n      <td>https://ndc.book24.ru/resize/410x590/iblock/74...</td>\n      <td>Психотрюки — это простые приемы, которые помог...</td>\n    </tr>\n    <tr>\n      <th>...</th>\n      <td>...</td>\n      <td>...</td>\n      <td>...</td>\n      <td>...</td>\n      <td>...</td>\n      <td>...</td>\n      <td>...</td>\n      <td>...</td>\n      <td>...</td>\n      <td>...</td>\n    </tr>\n    <tr>\n      <th>1736</th>\n      <td>Счастливая жизнь без панических атак и страхов</td>\n      <td>NaN</td>\n      <td>Саморазвитие и личностный рост</td>\n      <td>Издательские решения</td>\n      <td>16+</td>\n      <td>2016.0</td>\n      <td>120.0</td>\n      <td>0,0</td>\n      <td>https://ndc.book24.ru/resize/410x590/iblock/28...</td>\n      <td>Хронический стресс, тревога, приступы паники, ...</td>\n    </tr>\n    <tr>\n      <th>1737</th>\n      <td>Думай и богатей в годы безденежья</td>\n      <td>NaN</td>\n      <td>Саморазвитие и личностный рост</td>\n      <td>NaN</td>\n      <td>16+</td>\n      <td>2018.0</td>\n      <td>192.0</td>\n      <td>0,0</td>\n      <td>https://ndc.book24.ru/resize/410x590/iblock/fe...</td>\n      <td>Годы экономического спада в стране \"подкосили\"...</td>\n    </tr>\n    <tr>\n      <th>1738</th>\n      <td>Близко к сердцу. Как жить, если вы слишком чув...</td>\n      <td>Санд И.</td>\n      <td>Саморазвитие и личностный рост</td>\n      <td>Альпина</td>\n      <td>NaN</td>\n      <td>2016.0</td>\n      <td>158.0</td>\n      <td>0,0</td>\n      <td>https://ndc.book24.ru/resize/410x590/iblock/fe...</td>\n      <td>Высокочувствительные люди, или «новые интровер...</td>\n    </tr>\n    <tr>\n      <th>1739</th>\n      <td>Занимательная кинесика, или Тайны жестов, поз,...</td>\n      <td>NaN</td>\n      <td>Саморазвитие и личностный рост</td>\n      <td>Прометей</td>\n      <td>NaN</td>\n      <td>2022.0</td>\n      <td>480.0</td>\n      <td>0,0</td>\n      <td>https://ndc.book24.ru/resize/410x590/iblock/4c...</td>\n      <td>Кинесика — это молчаливый язык, язык тела, с п...</td>\n    </tr>\n    <tr>\n      <th>1740</th>\n      <td>Наслаждение от каждого дня. Доступная всем про...</td>\n      <td>NaN</td>\n      <td>Саморазвитие и личностный рост</td>\n      <td>NaN</td>\n      <td>16+</td>\n      <td>2022.0</td>\n      <td>240.0</td>\n      <td>0,0</td>\n      <td>https://ndc.book24.ru/resize/410x590/iblock/18...</td>\n      <td>Жизнь кажется пресной и безвкусной?Все краски ...</td>\n    </tr>\n  </tbody>\n</table>\n<p>1741 rows × 10 columns</p>\n</div>"
     },
     "execution_count": 16,
     "metadata": {},
     "output_type": "execute_result"
    }
   ],
   "source": [
    "df_authors.dropna (subset=['author'])"
   ],
   "metadata": {
    "collapsed": false,
    "pycharm": {
     "name": "#%%\n"
    }
   }
  },
  {
   "cell_type": "code",
   "execution_count": 26,
   "outputs": [],
   "source": [
    "df_authors = df_authors[df_authors['author'] != 'NaN']"
   ],
   "metadata": {
    "collapsed": false,
    "pycharm": {
     "name": "#%%\n"
    }
   }
  },
  {
   "cell_type": "code",
   "execution_count": 27,
   "outputs": [
    {
     "data": {
      "text/plain": "                                                   name  \\\n0     Брать, давать и наслаждаться. Как оставаться в...   \n1     Роман с самим собой. Как уравновесить внутренн...   \n2                       Думай медленно... решай быстро    \n3     НИ СЫ. Будь уверен в своих силах и не позволяй...   \n4     Психотрюки. 69 приемов в общении, которым не у...   \n...                                                 ...   \n1636                                                NaN   \n1671                                                NaN   \n1707                         Искусство быть счастливой    \n1716  Властелин времени. Технология разумной жизни. ...   \n1738  Близко к сердцу. Как жить, если вы слишком чув...   \n\n                              author                         section  \\\n0                   Татьяна Мужицкая  Саморазвитие и личностный рост   \n1                   Татьяна Мужицкая  Саморазвитие и личностный рост   \n2                    Даниэль Канеман           Популярная психология   \n3                       Джен Синсеро  Саморазвитие и личностный рост   \n4                        Игорь Рызов  Саморазвитие и личностный рост   \n...                              ...                             ...   \n1636  Саморазвитие и личностный рост  Саморазвитие и личностный рост   \n1671  Саморазвитие и личностный рост  Саморазвитие и личностный рост   \n1707                      Вайс Майкл  Саморазвитие и личностный рост   \n1716                  Зорина Надежда  Саморазвитие и личностный рост   \n1738                         Санд И.  Саморазвитие и личностный рост   \n\n                   publish    age    year  pages rating  \\\n0                      NaN   16+   2022.0  256.0     5    \n1                      NaN   16+   2022.0  304.0     5    \n2                      АСТ   16+   2022.0  656.0   4,6    \n3                      NaN   16+   2022.0  320.0   4,2    \n4                      NaN   12+   2022.0  256.0     5    \n...                    ...    ...     ...    ...    ...   \n1636                  Весь    NaN  2016.0    NaN   0,0    \n1671  Издательские решения   12+   2019.0   98.0   0,0    \n1707                  Диля   16+   2015.0  368.0   0,0    \n1716                Феникс    NaN  2006.0  254.0   0,0    \n1738               Альпина    NaN  2016.0  158.0   0,0    \n\n                                                   cove  \\\n0     https://ndc.book24.ru/resize/410x590/iblock/3d...   \n1     https:https://cdn.book24.ru/v2/ITD000000001044...   \n2     https://ndc.book24.ru/resize/410x590/iblock/0a...   \n3     https://ndc.book24.ru/resize/410x590/iblock/54...   \n4     https://ndc.book24.ru/resize/410x590/iblock/74...   \n...                                                 ...   \n1636  https://ndc.book24.ru/resize/410x590/iblock/d9...   \n1671  https://ndc.book24.ru/resize/410x590/iblock/9b...   \n1707  https://ndc.book24.ru/resize/410x590/iblock/6d...   \n1716  https://ndc.book24.ru/resize/410x590/iblock/cd...   \n1738  https://ndc.book24.ru/resize/410x590/iblock/fe...   \n\n                                            description  \n0     Чувствовать себя полным сил. Вставать каждое у...  \n1     Когда ты себя любишь, ты точно знаешь, чего хо...  \n2     Эта книга полностью изменит вашу жизнь: ведь р...  \n3     Книга полна грубоватых и прикольных советов по...  \n4     Психотрюки — это простые приемы, которые помог...  \n...                                                 ...  \n1636  Вашему вниманию предлагается комплект из 2 кни...  \n1671  «1001 вопрос коучинга» — самый полный на сегод...  \n1707  Каждая из нас постоянно думает о том, как оста...  \n1716  Книга создана как сборник статей и очерков по ...  \n1738  Высокочувствительные люди, или «новые интровер...  \n\n[477 rows x 10 columns]",
      "text/html": "<div>\n<style scoped>\n    .dataframe tbody tr th:only-of-type {\n        vertical-align: middle;\n    }\n\n    .dataframe tbody tr th {\n        vertical-align: top;\n    }\n\n    .dataframe thead th {\n        text-align: right;\n    }\n</style>\n<table border=\"1\" class=\"dataframe\">\n  <thead>\n    <tr style=\"text-align: right;\">\n      <th></th>\n      <th>name</th>\n      <th>author</th>\n      <th>section</th>\n      <th>publish</th>\n      <th>age</th>\n      <th>year</th>\n      <th>pages</th>\n      <th>rating</th>\n      <th>cove</th>\n      <th>description</th>\n    </tr>\n  </thead>\n  <tbody>\n    <tr>\n      <th>0</th>\n      <td>Брать, давать и наслаждаться. Как оставаться в...</td>\n      <td>Татьяна Мужицкая</td>\n      <td>Саморазвитие и личностный рост</td>\n      <td>NaN</td>\n      <td>16+</td>\n      <td>2022.0</td>\n      <td>256.0</td>\n      <td>5</td>\n      <td>https://ndc.book24.ru/resize/410x590/iblock/3d...</td>\n      <td>Чувствовать себя полным сил. Вставать каждое у...</td>\n    </tr>\n    <tr>\n      <th>1</th>\n      <td>Роман с самим собой. Как уравновесить внутренн...</td>\n      <td>Татьяна Мужицкая</td>\n      <td>Саморазвитие и личностный рост</td>\n      <td>NaN</td>\n      <td>16+</td>\n      <td>2022.0</td>\n      <td>304.0</td>\n      <td>5</td>\n      <td>https:https://cdn.book24.ru/v2/ITD000000001044...</td>\n      <td>Когда ты себя любишь, ты точно знаешь, чего хо...</td>\n    </tr>\n    <tr>\n      <th>2</th>\n      <td>Думай медленно... решай быстро</td>\n      <td>Даниэль Канеман</td>\n      <td>Популярная психология</td>\n      <td>АСТ</td>\n      <td>16+</td>\n      <td>2022.0</td>\n      <td>656.0</td>\n      <td>4,6</td>\n      <td>https://ndc.book24.ru/resize/410x590/iblock/0a...</td>\n      <td>Эта книга полностью изменит вашу жизнь: ведь р...</td>\n    </tr>\n    <tr>\n      <th>3</th>\n      <td>НИ СЫ. Будь уверен в своих силах и не позволяй...</td>\n      <td>Джен Синсеро</td>\n      <td>Саморазвитие и личностный рост</td>\n      <td>NaN</td>\n      <td>16+</td>\n      <td>2022.0</td>\n      <td>320.0</td>\n      <td>4,2</td>\n      <td>https://ndc.book24.ru/resize/410x590/iblock/54...</td>\n      <td>Книга полна грубоватых и прикольных советов по...</td>\n    </tr>\n    <tr>\n      <th>4</th>\n      <td>Психотрюки. 69 приемов в общении, которым не у...</td>\n      <td>Игорь Рызов</td>\n      <td>Саморазвитие и личностный рост</td>\n      <td>NaN</td>\n      <td>12+</td>\n      <td>2022.0</td>\n      <td>256.0</td>\n      <td>5</td>\n      <td>https://ndc.book24.ru/resize/410x590/iblock/74...</td>\n      <td>Психотрюки — это простые приемы, которые помог...</td>\n    </tr>\n    <tr>\n      <th>...</th>\n      <td>...</td>\n      <td>...</td>\n      <td>...</td>\n      <td>...</td>\n      <td>...</td>\n      <td>...</td>\n      <td>...</td>\n      <td>...</td>\n      <td>...</td>\n      <td>...</td>\n    </tr>\n    <tr>\n      <th>1636</th>\n      <td>NaN</td>\n      <td>Саморазвитие и личностный рост</td>\n      <td>Саморазвитие и личностный рост</td>\n      <td>Весь</td>\n      <td>NaN</td>\n      <td>2016.0</td>\n      <td>NaN</td>\n      <td>0,0</td>\n      <td>https://ndc.book24.ru/resize/410x590/iblock/d9...</td>\n      <td>Вашему вниманию предлагается комплект из 2 кни...</td>\n    </tr>\n    <tr>\n      <th>1671</th>\n      <td>NaN</td>\n      <td>Саморазвитие и личностный рост</td>\n      <td>Саморазвитие и личностный рост</td>\n      <td>Издательские решения</td>\n      <td>12+</td>\n      <td>2019.0</td>\n      <td>98.0</td>\n      <td>0,0</td>\n      <td>https://ndc.book24.ru/resize/410x590/iblock/9b...</td>\n      <td>«1001 вопрос коучинга» — самый полный на сегод...</td>\n    </tr>\n    <tr>\n      <th>1707</th>\n      <td>Искусство быть счастливой</td>\n      <td>Вайс Майкл</td>\n      <td>Саморазвитие и личностный рост</td>\n      <td>Диля</td>\n      <td>16+</td>\n      <td>2015.0</td>\n      <td>368.0</td>\n      <td>0,0</td>\n      <td>https://ndc.book24.ru/resize/410x590/iblock/6d...</td>\n      <td>Каждая из нас постоянно думает о том, как оста...</td>\n    </tr>\n    <tr>\n      <th>1716</th>\n      <td>Властелин времени. Технология разумной жизни. ...</td>\n      <td>Зорина Надежда</td>\n      <td>Саморазвитие и личностный рост</td>\n      <td>Феникс</td>\n      <td>NaN</td>\n      <td>2006.0</td>\n      <td>254.0</td>\n      <td>0,0</td>\n      <td>https://ndc.book24.ru/resize/410x590/iblock/cd...</td>\n      <td>Книга создана как сборник статей и очерков по ...</td>\n    </tr>\n    <tr>\n      <th>1738</th>\n      <td>Близко к сердцу. Как жить, если вы слишком чув...</td>\n      <td>Санд И.</td>\n      <td>Саморазвитие и личностный рост</td>\n      <td>Альпина</td>\n      <td>NaN</td>\n      <td>2016.0</td>\n      <td>158.0</td>\n      <td>0,0</td>\n      <td>https://ndc.book24.ru/resize/410x590/iblock/fe...</td>\n      <td>Высокочувствительные люди, или «новые интровер...</td>\n    </tr>\n  </tbody>\n</table>\n<p>477 rows × 10 columns</p>\n</div>"
     },
     "execution_count": 27,
     "metadata": {},
     "output_type": "execute_result"
    }
   ],
   "source": [
    "df_authors"
   ],
   "metadata": {
    "collapsed": false,
    "pycharm": {
     "name": "#%%\n"
    }
   }
  },
  {
   "cell_type": "code",
   "execution_count": 35,
   "outputs": [
    {
     "data": {
      "text/plain": "                                                   name            author  \\\n0     Брать, давать и наслаждаться. Как оставаться в...  Татьяна Мужицкая   \n2                       Думай медленно... решай быстро    Даниэль Канеман   \n3     НИ СЫ. Будь уверен в своих силах и не позволяй...      Джен Синсеро   \n4     Психотрюки. 69 приемов в общении, которым не у...       Игорь Рызов   \n5                 Парадоксальный способ жить счастливо        Марк Мэнсон   \n...                                                 ...               ...   \n1487                                Деньги, успех и вы           Кехо Дж.   \n1488  Глупости, которые делают разумные люди, чтобы ...       Кукла Андре   \n1707                         Искусство быть счастливой         Вайс Майкл   \n1716  Властелин времени. Технология разумной жизни. ...    Зорина Надежда   \n1738  Близко к сердцу. Как жить, если вы слишком чув...           Санд И.   \n\n                             section  publish    age    year  pages rating  \\\n0     Саморазвитие и личностный рост      NaN   16+   2022.0  256.0     5    \n2              Популярная психология      АСТ   16+   2022.0  656.0   4,6    \n3     Саморазвитие и личностный рост      NaN   16+   2022.0  320.0   4,2    \n4     Саморазвитие и личностный рост      NaN   12+   2022.0  256.0     5    \n5              Популярная психология  Альпина   16+   2018.0  191.0   4,7    \n...                              ...      ...    ...     ...    ...    ...   \n1487  Саморазвитие и личностный рост      NaN   16+   2021.0  240.0   0,0    \n1488  Саморазвитие и личностный рост  Альпина   12+   2021.0  152.0   0,0    \n1707  Саморазвитие и личностный рост     Диля   16+   2015.0  368.0   0,0    \n1716  Саморазвитие и личностный рост   Феникс    NaN  2006.0  254.0   0,0    \n1738  Саморазвитие и личностный рост  Альпина    NaN  2016.0  158.0   0,0    \n\n                                                   cove  \\\n0     https://ndc.book24.ru/resize/410x590/iblock/3d...   \n2     https://ndc.book24.ru/resize/410x590/iblock/0a...   \n3     https://ndc.book24.ru/resize/410x590/iblock/54...   \n4     https://ndc.book24.ru/resize/410x590/iblock/74...   \n5     https://ndc.book24.ru/resize/410x590/iblock/ca...   \n...                                                 ...   \n1487  https://ndc.book24.ru/resize/410x590/iblock/4e...   \n1488  https://ndc.book24.ru/resize/410x590/iblock/39...   \n1707  https://ndc.book24.ru/resize/410x590/iblock/6d...   \n1716  https://ndc.book24.ru/resize/410x590/iblock/cd...   \n1738  https://ndc.book24.ru/resize/410x590/iblock/fe...   \n\n                                            description  \n0     Чувствовать себя полным сил. Вставать каждое у...  \n2     Эта книга полностью изменит вашу жизнь: ведь р...  \n3     Книга полна грубоватых и прикольных советов по...  \n4     Психотрюки — это простые приемы, которые помог...  \n5     Современное общество пропагандирует культ успе...  \n...                                                 ...  \n1487  Книга посвящена психологическим аспектам дости...  \n1488  Всему свое время. Эту библейскую заповедь мы н...  \n1707  Каждая из нас постоянно думает о том, как оста...  \n1716  Книга создана как сборник статей и очерков по ...  \n1738  Высокочувствительные люди, или «новые интровер...  \n\n[339 rows x 10 columns]",
      "text/html": "<div>\n<style scoped>\n    .dataframe tbody tr th:only-of-type {\n        vertical-align: middle;\n    }\n\n    .dataframe tbody tr th {\n        vertical-align: top;\n    }\n\n    .dataframe thead th {\n        text-align: right;\n    }\n</style>\n<table border=\"1\" class=\"dataframe\">\n  <thead>\n    <tr style=\"text-align: right;\">\n      <th></th>\n      <th>name</th>\n      <th>author</th>\n      <th>section</th>\n      <th>publish</th>\n      <th>age</th>\n      <th>year</th>\n      <th>pages</th>\n      <th>rating</th>\n      <th>cove</th>\n      <th>description</th>\n    </tr>\n  </thead>\n  <tbody>\n    <tr>\n      <th>0</th>\n      <td>Брать, давать и наслаждаться. Как оставаться в...</td>\n      <td>Татьяна Мужицкая</td>\n      <td>Саморазвитие и личностный рост</td>\n      <td>NaN</td>\n      <td>16+</td>\n      <td>2022.0</td>\n      <td>256.0</td>\n      <td>5</td>\n      <td>https://ndc.book24.ru/resize/410x590/iblock/3d...</td>\n      <td>Чувствовать себя полным сил. Вставать каждое у...</td>\n    </tr>\n    <tr>\n      <th>2</th>\n      <td>Думай медленно... решай быстро</td>\n      <td>Даниэль Канеман</td>\n      <td>Популярная психология</td>\n      <td>АСТ</td>\n      <td>16+</td>\n      <td>2022.0</td>\n      <td>656.0</td>\n      <td>4,6</td>\n      <td>https://ndc.book24.ru/resize/410x590/iblock/0a...</td>\n      <td>Эта книга полностью изменит вашу жизнь: ведь р...</td>\n    </tr>\n    <tr>\n      <th>3</th>\n      <td>НИ СЫ. Будь уверен в своих силах и не позволяй...</td>\n      <td>Джен Синсеро</td>\n      <td>Саморазвитие и личностный рост</td>\n      <td>NaN</td>\n      <td>16+</td>\n      <td>2022.0</td>\n      <td>320.0</td>\n      <td>4,2</td>\n      <td>https://ndc.book24.ru/resize/410x590/iblock/54...</td>\n      <td>Книга полна грубоватых и прикольных советов по...</td>\n    </tr>\n    <tr>\n      <th>4</th>\n      <td>Психотрюки. 69 приемов в общении, которым не у...</td>\n      <td>Игорь Рызов</td>\n      <td>Саморазвитие и личностный рост</td>\n      <td>NaN</td>\n      <td>12+</td>\n      <td>2022.0</td>\n      <td>256.0</td>\n      <td>5</td>\n      <td>https://ndc.book24.ru/resize/410x590/iblock/74...</td>\n      <td>Психотрюки — это простые приемы, которые помог...</td>\n    </tr>\n    <tr>\n      <th>5</th>\n      <td>Парадоксальный способ жить счастливо</td>\n      <td>Марк Мэнсон</td>\n      <td>Популярная психология</td>\n      <td>Альпина</td>\n      <td>16+</td>\n      <td>2018.0</td>\n      <td>191.0</td>\n      <td>4,7</td>\n      <td>https://ndc.book24.ru/resize/410x590/iblock/ca...</td>\n      <td>Современное общество пропагандирует культ успе...</td>\n    </tr>\n    <tr>\n      <th>...</th>\n      <td>...</td>\n      <td>...</td>\n      <td>...</td>\n      <td>...</td>\n      <td>...</td>\n      <td>...</td>\n      <td>...</td>\n      <td>...</td>\n      <td>...</td>\n      <td>...</td>\n    </tr>\n    <tr>\n      <th>1487</th>\n      <td>Деньги, успех и вы</td>\n      <td>Кехо Дж.</td>\n      <td>Саморазвитие и личностный рост</td>\n      <td>NaN</td>\n      <td>16+</td>\n      <td>2021.0</td>\n      <td>240.0</td>\n      <td>0,0</td>\n      <td>https://ndc.book24.ru/resize/410x590/iblock/4e...</td>\n      <td>Книга посвящена психологическим аспектам дости...</td>\n    </tr>\n    <tr>\n      <th>1488</th>\n      <td>Глупости, которые делают разумные люди, чтобы ...</td>\n      <td>Кукла Андре</td>\n      <td>Саморазвитие и личностный рост</td>\n      <td>Альпина</td>\n      <td>12+</td>\n      <td>2021.0</td>\n      <td>152.0</td>\n      <td>0,0</td>\n      <td>https://ndc.book24.ru/resize/410x590/iblock/39...</td>\n      <td>Всему свое время. Эту библейскую заповедь мы н...</td>\n    </tr>\n    <tr>\n      <th>1707</th>\n      <td>Искусство быть счастливой</td>\n      <td>Вайс Майкл</td>\n      <td>Саморазвитие и личностный рост</td>\n      <td>Диля</td>\n      <td>16+</td>\n      <td>2015.0</td>\n      <td>368.0</td>\n      <td>0,0</td>\n      <td>https://ndc.book24.ru/resize/410x590/iblock/6d...</td>\n      <td>Каждая из нас постоянно думает о том, как оста...</td>\n    </tr>\n    <tr>\n      <th>1716</th>\n      <td>Властелин времени. Технология разумной жизни. ...</td>\n      <td>Зорина Надежда</td>\n      <td>Саморазвитие и личностный рост</td>\n      <td>Феникс</td>\n      <td>NaN</td>\n      <td>2006.0</td>\n      <td>254.0</td>\n      <td>0,0</td>\n      <td>https://ndc.book24.ru/resize/410x590/iblock/cd...</td>\n      <td>Книга создана как сборник статей и очерков по ...</td>\n    </tr>\n    <tr>\n      <th>1738</th>\n      <td>Близко к сердцу. Как жить, если вы слишком чув...</td>\n      <td>Санд И.</td>\n      <td>Саморазвитие и личностный рост</td>\n      <td>Альпина</td>\n      <td>NaN</td>\n      <td>2016.0</td>\n      <td>158.0</td>\n      <td>0,0</td>\n      <td>https://ndc.book24.ru/resize/410x590/iblock/fe...</td>\n      <td>Высокочувствительные люди, или «новые интровер...</td>\n    </tr>\n  </tbody>\n</table>\n<p>339 rows × 10 columns</p>\n</div>"
     },
     "execution_count": 35,
     "metadata": {},
     "output_type": "execute_result"
    }
   ],
   "source": [
    "df_authors.drop_duplicates (['author'])"
   ],
   "metadata": {
    "collapsed": false,
    "pycharm": {
     "name": "#%%\n"
    }
   }
  },
  {
   "cell_type": "code",
   "execution_count": 30,
   "outputs": [],
   "source": [
    "authors = df_authors['author']"
   ],
   "metadata": {
    "collapsed": false,
    "pycharm": {
     "name": "#%%\n"
    }
   }
  },
  {
   "cell_type": "code",
   "execution_count": 31,
   "outputs": [
    {
     "data": {
      "text/plain": "0                     Татьяна Мужицкая\n1                     Татьяна Мужицкая\n2                      Даниэль Канеман\n3                         Джен Синсеро\n4                          Игорь Рызов\n                     ...              \n1636    Саморазвитие и личностный рост\n1671    Саморазвитие и личностный рост\n1707                        Вайс Майкл\n1716                    Зорина Надежда\n1738                           Санд И.\nName: author, Length: 477, dtype: object"
     },
     "execution_count": 31,
     "metadata": {},
     "output_type": "execute_result"
    }
   ],
   "source": [
    "authors"
   ],
   "metadata": {
    "collapsed": false,
    "pycharm": {
     "name": "#%%\n"
    }
   }
  },
  {
   "cell_type": "code",
   "execution_count": 32,
   "outputs": [
    {
     "data": {
      "text/plain": "0       Татьяна Мужицкая\n2        Даниэль Канеман\n3           Джен Синсеро\n4            Игорь Рызов\n5            Марк Мэнсон\n              ...       \n1487            Кехо Дж.\n1488         Кукла Андре\n1707          Вайс Майкл\n1716      Зорина Надежда\n1738             Санд И.\nName: author, Length: 339, dtype: object"
     },
     "execution_count": 32,
     "metadata": {},
     "output_type": "execute_result"
    }
   ],
   "source": [
    "authors.drop_duplicates()"
   ],
   "metadata": {
    "collapsed": false,
    "pycharm": {
     "name": "#%%\n"
    }
   }
  },
  {
   "cell_type": "code",
   "execution_count": 33,
   "outputs": [
    {
     "data": {
      "text/plain": "131     Workbook. Рабочие тетради для прокачки новой ж...\n12                                          Ёсия Хасэгава\n814                                          Аверкиева В.\n739                                          Аверкиева В.\n1378                                      Аглая Датешидзе\n                              ...                        \n171                                         Юлия Пирумова\n154                                              Юни Хонг\n357                                            Юрий Вагин\n102                                           Юрий Окунев\n99                                          ван Дейк Шери\nName: author, Length: 477, dtype: object"
     },
     "execution_count": 33,
     "metadata": {},
     "output_type": "execute_result"
    }
   ],
   "source": [
    "authors.sort_values()"
   ],
   "metadata": {
    "collapsed": false,
    "pycharm": {
     "name": "#%%\n"
    }
   }
  },
  {
   "cell_type": "code",
   "execution_count": 38,
   "outputs": [
    {
     "data": {
      "text/plain": "0       Татьяна Мужицкая\n2        Даниэль Канеман\n3           Джен Синсеро\n4            Игорь Рызов\n5            Марк Мэнсон\n              ...       \n1487            Кехо Дж.\n1488         Кукла Андре\n1707          Вайс Майкл\n1716      Зорина Надежда\n1738             Санд И.\nName: author, Length: 339, dtype: object"
     },
     "execution_count": 38,
     "metadata": {},
     "output_type": "execute_result"
    }
   ],
   "source": [
    "authors.drop_duplicates()"
   ],
   "metadata": {
    "collapsed": false,
    "pycharm": {
     "name": "#%%\n"
    }
   }
  },
  {
   "cell_type": "code",
   "execution_count": 39,
   "outputs": [],
   "source": [],
   "metadata": {
    "collapsed": false,
    "pycharm": {
     "name": "#%%\n"
    }
   }
  },
  {
   "cell_type": "code",
   "execution_count": 41,
   "outputs": [],
   "source": [
    "authors = authors.drop_duplicates()"
   ],
   "metadata": {
    "collapsed": false,
    "pycharm": {
     "name": "#%%\n"
    }
   }
  },
  {
   "cell_type": "code",
   "execution_count": 42,
   "outputs": [
    {
     "data": {
      "text/plain": "0       Татьяна Мужицкая\n2        Даниэль Канеман\n3           Джен Синсеро\n4            Игорь Рызов\n5            Марк Мэнсон\n              ...       \n1487            Кехо Дж.\n1488         Кукла Андре\n1707          Вайс Майкл\n1716      Зорина Надежда\n1738             Санд И.\nName: author, Length: 339, dtype: object"
     },
     "execution_count": 42,
     "metadata": {},
     "output_type": "execute_result"
    }
   ],
   "source": [
    "authors"
   ],
   "metadata": {
    "collapsed": false,
    "pycharm": {
     "name": "#%%\n"
    }
   }
  },
  {
   "cell_type": "code",
   "execution_count": 43,
   "outputs": [],
   "source": [
    "authors_sort = authors.sort_values()"
   ],
   "metadata": {
    "collapsed": false,
    "pycharm": {
     "name": "#%%\n"
    }
   }
  },
  {
   "cell_type": "code",
   "execution_count": 44,
   "outputs": [
    {
     "data": {
      "text/plain": "131     Workbook. Рабочие тетради для прокачки новой ж...\n12                                          Ёсия Хасэгава\n739                                          Аверкиева В.\n1378                                      Аглая Датешидзе\n372                                        Алан Аксельрод\n                              ...                        \n171                                         Юлия Пирумова\n154                                              Юни Хонг\n357                                            Юрий Вагин\n102                                           Юрий Окунев\n99                                          ван Дейк Шери\nName: author, Length: 339, dtype: object"
     },
     "execution_count": 44,
     "metadata": {},
     "output_type": "execute_result"
    }
   ],
   "source": [
    "authors_sort"
   ],
   "metadata": {
    "collapsed": false,
    "pycharm": {
     "name": "#%%\n"
    }
   }
  },
  {
   "cell_type": "code",
   "execution_count": 47,
   "outputs": [],
   "source": [
    "authors.to_csv(r'/Users/dianaverevkina/Diplom_project/Diploma/authors_new.csv', index=False)"
   ],
   "metadata": {
    "collapsed": false,
    "pycharm": {
     "name": "#%%\n"
    }
   }
  },
  {
   "cell_type": "code",
   "execution_count": 46,
   "outputs": [
    {
     "data": {
      "text/plain": "0       Татьяна Мужицкая\n2        Даниэль Канеман\n3           Джен Синсеро\n4            Игорь Рызов\n5            Марк Мэнсон\n              ...       \n1487            Кехо Дж.\n1488         Кукла Андре\n1707          Вайс Майкл\n1716      Зорина Надежда\n1738             Санд И.\nName: author, Length: 339, dtype: object"
     },
     "execution_count": 46,
     "metadata": {},
     "output_type": "execute_result"
    }
   ],
   "source": [],
   "metadata": {
    "collapsed": false,
    "pycharm": {
     "name": "#%%\n"
    }
   }
  },
  {
   "cell_type": "code",
   "execution_count": null,
   "outputs": [],
   "source": [],
   "metadata": {
    "collapsed": false,
    "pycharm": {
     "name": "#%%\n"
    }
   }
  }
 ],
 "metadata": {
  "kernelspec": {
   "display_name": "Python 3",
   "language": "python",
   "name": "python3"
  },
  "language_info": {
   "codemirror_mode": {
    "name": "ipython",
    "version": 2
   },
   "file_extension": ".py",
   "mimetype": "text/x-python",
   "name": "python",
   "nbconvert_exporter": "python",
   "pygments_lexer": "ipython2",
   "version": "2.7.6"
  }
 },
 "nbformat": 4,
 "nbformat_minor": 0
}