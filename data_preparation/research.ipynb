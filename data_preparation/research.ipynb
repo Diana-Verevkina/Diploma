{
 "cells": [
  {
   "cell_type": "code",
   "execution_count": 1,
   "outputs": [],
   "source": [
    "import pandas as pd\n",
    "import seaborn as sns\n",
    "%matplotlib inline\n",
    "sns.set(style=\"ticks\")"
   ],
   "metadata": {
    "collapsed": false,
    "pycharm": {
     "name": "#%%\n"
    }
   }
  },
  {
   "cell_type": "markdown",
   "source": [
    "Использование класса CountVectorizer"
   ],
   "metadata": {
    "collapsed": false,
    "pycharm": {
     "name": "#%% md\n"
    }
   }
  },
  {
   "cell_type": "code",
   "execution_count": 2,
   "outputs": [],
   "source": [
    "from sklearn.feature_extraction.text import CountVectorizer\n",
    "count_vectorizer = CountVectorizer(encoding='utf-8')"
   ],
   "metadata": {
    "collapsed": false,
    "pycharm": {
     "name": "#%%\n"
    }
   }
  },
  {
   "cell_type": "markdown",
   "source": [
    "## Векторизация текста на основе модели \"мешка слов\""
   ],
   "metadata": {
    "collapsed": false,
    "pycharm": {
     "name": "#%% md\n"
    }
   }
  },
  {
   "cell_type": "code",
   "execution_count": 3,
   "outputs": [
    {
     "data": {
      "text/plain": "                                                name  \\\n0  Брать, давать и наслаждаться. Как оставаться в...   \n1  Роман с самим собой. Как уравновесить внутренн...   \n2                    Думай медленно... решай быстро    \n3  НИ СЫ. Будь уверен в своих силах и не позволяй...   \n4  Психотрюки. 69 приемов в общении, которым не у...   \n\n                                                tags  \n0  чувствова себ полн силвстава кажд утр с тот но...  \n1  когд ты себ люб ты точн знат что хотет и идт к...  \n2  этот книг полност измен ваш жизн вед реч в он ...  \n3  книг полн грубоват и прикольн совет по работ н...  \n4  психотрюк эт прост при котор помога постав хам...  ",
      "text/html": "<div>\n<style scoped>\n    .dataframe tbody tr th:only-of-type {\n        vertical-align: middle;\n    }\n\n    .dataframe tbody tr th {\n        vertical-align: top;\n    }\n\n    .dataframe thead th {\n        text-align: right;\n    }\n</style>\n<table border=\"1\" class=\"dataframe\">\n  <thead>\n    <tr style=\"text-align: right;\">\n      <th></th>\n      <th>name</th>\n      <th>tags</th>\n    </tr>\n  </thead>\n  <tbody>\n    <tr>\n      <th>0</th>\n      <td>Брать, давать и наслаждаться. Как оставаться в...</td>\n      <td>чувствова себ полн силвстава кажд утр с тот но...</td>\n    </tr>\n    <tr>\n      <th>1</th>\n      <td>Роман с самим собой. Как уравновесить внутренн...</td>\n      <td>когд ты себ люб ты точн знат что хотет и идт к...</td>\n    </tr>\n    <tr>\n      <th>2</th>\n      <td>Думай медленно... решай быстро</td>\n      <td>этот книг полност измен ваш жизн вед реч в он ...</td>\n    </tr>\n    <tr>\n      <th>3</th>\n      <td>НИ СЫ. Будь уверен в своих силах и не позволяй...</td>\n      <td>книг полн грубоват и прикольн совет по работ н...</td>\n    </tr>\n    <tr>\n      <th>4</th>\n      <td>Психотрюки. 69 приемов в общении, которым не у...</td>\n      <td>психотрюк эт прост при котор помога постав хам...</td>\n    </tr>\n  </tbody>\n</table>\n</div>"
     },
     "execution_count": 3,
     "metadata": {},
     "output_type": "execute_result"
    }
   ],
   "source": [
    "data = pd.read_csv('tags2.csv')\n",
    "data.head()"
   ],
   "metadata": {
    "collapsed": false,
    "pycharm": {
     "name": "#%%\n"
    }
   }
  },
  {
   "cell_type": "markdown",
   "source": [
    "Подсчет количество слов словаря, входящих в текст\n"
   ],
   "metadata": {
    "collapsed": false,
    "pycharm": {
     "name": "#%% md\n"
    }
   }
  },
  {
   "cell_type": "code",
   "execution_count": 4,
   "outputs": [
    {
     "name": "stdout",
     "output_type": "stream",
     "text": [
      "Количество сформированных признаков - 11908\n"
     ]
    }
   ],
   "source": [
    "count_vectorizer.fit(data['tags'])\n",
    "corpusVocab = count_vectorizer.vocabulary_\n",
    "print('Количество сформированных признаков - {}'.format(len(corpusVocab)))"
   ],
   "metadata": {
    "collapsed": false,
    "pycharm": {
     "name": "#%%\n"
    }
   }
  },
  {
   "cell_type": "code",
   "execution_count": 5,
   "outputs": [
    {
     "name": "stdout",
     "output_type": "stream",
     "text": [
      "себ=9152\n",
      "полн=7154\n",
      "силвстава=9266\n",
      "кажд=3440\n",
      "утр=10947\n",
      "тот=10435\n",
      "ног=5669\n",
      "испытыва=3370\n",
      "воодушевлен=1229\n"
     ]
    }
   ],
   "source": [
    "for i in list(corpusVocab)[1:10]:\n",
    "    print('{}={}'.format(i, corpusVocab[i]))"
   ],
   "metadata": {
    "collapsed": false,
    "pycharm": {
     "name": "#%%\n"
    }
   }
  },
  {
   "cell_type": "code",
   "execution_count": 6,
   "outputs": [],
   "source": [
    "vectors = count_vectorizer.fit_transform(data['tags'].values.astype('U'))"
   ],
   "metadata": {
    "collapsed": false,
    "pycharm": {
     "name": "#%%\n"
    }
   }
  },
  {
   "cell_type": "code",
   "execution_count": 7,
   "outputs": [
    {
     "data": {
      "text/plain": "<1618x11908 sparse matrix of type '<class 'numpy.int64'>'\n\twith 136419 stored elements in Compressed Sparse Row format>"
     },
     "execution_count": 7,
     "metadata": {},
     "output_type": "execute_result"
    }
   ],
   "source": [
    "vectors"
   ],
   "metadata": {
    "collapsed": false,
    "pycharm": {
     "name": "#%%\n"
    }
   }
  },
  {
   "cell_type": "code",
   "execution_count": 8,
   "outputs": [
    {
     "data": {
      "text/plain": "(1618, 11908)"
     },
     "execution_count": 8,
     "metadata": {},
     "output_type": "execute_result"
    }
   ],
   "source": [
    "vectors.shape"
   ],
   "metadata": {
    "collapsed": false,
    "pycharm": {
     "name": "#%%\n"
    }
   }
  },
  {
   "cell_type": "code",
   "execution_count": 9,
   "outputs": [
    {
     "data": {
      "text/plain": "matrix([[0, 0, 0, ..., 0, 0, 0],\n        [0, 0, 0, ..., 0, 0, 0],\n        [0, 0, 0, ..., 0, 0, 0],\n        ...,\n        [0, 0, 0, ..., 0, 0, 0],\n        [0, 0, 0, ..., 0, 0, 0],\n        [0, 0, 0, ..., 0, 0, 0]])"
     },
     "execution_count": 9,
     "metadata": {},
     "output_type": "execute_result"
    }
   ],
   "source": [
    "vectors.todense()"
   ],
   "metadata": {
    "collapsed": false,
    "pycharm": {
     "name": "#%%\n"
    }
   }
  },
  {
   "cell_type": "code",
   "execution_count": 10,
   "outputs": [
    {
     "data": {
      "text/plain": "[1, 1, 1, 1, 1, 1, 1, 1, 1, 1]"
     },
     "execution_count": 10,
     "metadata": {},
     "output_type": "execute_result"
    }
   ],
   "source": [
    "# Непустые значения нулевой строки\n",
    "[i for i in vectors.todense()[0].getA1() if i>0][0:10]"
   ],
   "metadata": {
    "collapsed": false,
    "pycharm": {
     "name": "#%%\n"
    }
   }
  },
  {
   "cell_type": "code",
   "execution_count": 11,
   "outputs": [
    {
     "data": {
      "text/plain": "array(['находилисьмарин', 'находк', 'находчив', 'нахожден', 'нац',\n       'нацел', 'нацелива', 'наценк', 'национальн', 'нацистск', 'нача',\n       'началосаморазвит', 'начальн', 'начальник', 'начальникомбо',\n       'начальств', 'начальстваденегпогодысупругаправительств',\n       'начатьсаморазвит', 'начин', 'начина'], dtype=object)"
     },
     "execution_count": 11,
     "metadata": {},
     "output_type": "execute_result"
    }
   ],
   "source": [
    "count_vectorizer.get_feature_names_out()[5167:5187]"
   ],
   "metadata": {
    "collapsed": false,
    "pycharm": {
     "name": "#%%\n"
    }
   }
  },
  {
   "cell_type": "markdown",
   "source": [
    "### CountVectorizer - spacy"
   ],
   "metadata": {
    "collapsed": false,
    "pycharm": {
     "name": "#%% md\n"
    }
   }
  },
  {
   "cell_type": "code",
   "execution_count": 12,
   "outputs": [
    {
     "data": {
      "text/plain": "                                                name  \\\n0  Брать, давать и наслаждаться. Как оставаться в...   \n1  Роман с самим собой. Как уравновесить внутренн...   \n2                    Думай медленно... решай быстро    \n3  НИ СЫ. Будь уверен в своих силах и не позволяй...   \n4  Психотрюки. 69 приемов в общении, которым не у...   \n\n                                                tags  \n0  чувствова полн силвстава кажд утр тот ног испы...  \n1  люб точн знат хотет идт эт избав негативн шум ...  \n2  этот книг полност измен ваш жизн реч нерациона...  \n3  книг полн грубоват прикольн совет работ сво об...  \n4  психотрюк эт прост при котор помога постав хам...  ",
      "text/html": "<div>\n<style scoped>\n    .dataframe tbody tr th:only-of-type {\n        vertical-align: middle;\n    }\n\n    .dataframe tbody tr th {\n        vertical-align: top;\n    }\n\n    .dataframe thead th {\n        text-align: right;\n    }\n</style>\n<table border=\"1\" class=\"dataframe\">\n  <thead>\n    <tr style=\"text-align: right;\">\n      <th></th>\n      <th>name</th>\n      <th>tags</th>\n    </tr>\n  </thead>\n  <tbody>\n    <tr>\n      <th>0</th>\n      <td>Брать, давать и наслаждаться. Как оставаться в...</td>\n      <td>чувствова полн силвстава кажд утр тот ног испы...</td>\n    </tr>\n    <tr>\n      <th>1</th>\n      <td>Роман с самим собой. Как уравновесить внутренн...</td>\n      <td>люб точн знат хотет идт эт избав негативн шум ...</td>\n    </tr>\n    <tr>\n      <th>2</th>\n      <td>Думай медленно... решай быстро</td>\n      <td>этот книг полност измен ваш жизн реч нерациона...</td>\n    </tr>\n    <tr>\n      <th>3</th>\n      <td>НИ СЫ. Будь уверен в своих силах и не позволяй...</td>\n      <td>книг полн грубоват прикольн совет работ сво об...</td>\n    </tr>\n    <tr>\n      <th>4</th>\n      <td>Психотрюки. 69 приемов в общении, которым не у...</td>\n      <td>психотрюк эт прост при котор помога постав хам...</td>\n    </tr>\n  </tbody>\n</table>\n</div>"
     },
     "execution_count": 12,
     "metadata": {},
     "output_type": "execute_result"
    }
   ],
   "source": [
    "data = pd.read_csv('spacylem.csv')\n",
    "data.head()"
   ],
   "metadata": {
    "collapsed": false,
    "pycharm": {
     "name": "#%%\n"
    }
   }
  },
  {
   "cell_type": "code",
   "execution_count": 13,
   "outputs": [
    {
     "name": "stdout",
     "output_type": "stream",
     "text": [
      "Количество сформированных признаков - 12321\n"
     ]
    }
   ],
   "source": [
    "count_vectorizer.fit(data['tags'])\n",
    "corpusVocab = count_vectorizer.vocabulary_\n",
    "print('Количество сформированных признаков - {}'.format(len(corpusVocab)))"
   ],
   "metadata": {
    "collapsed": false,
    "pycharm": {
     "name": "#%%\n"
    }
   }
  },
  {
   "cell_type": "code",
   "execution_count": 14,
   "outputs": [
    {
     "name": "stdout",
     "output_type": "stream",
     "text": [
      "полн=7378\n",
      "силвстава=9600\n",
      "кажд=3550\n",
      "утр=11349\n",
      "тот=10811\n",
      "ног=5836\n",
      "испытыва=3479\n",
      "воодушевлен=1255\n",
      "приступ=8078\n"
     ]
    }
   ],
   "source": [
    "for i in list(corpusVocab)[1:10]:\n",
    "    print('{}={}'.format(i, corpusVocab[i]))"
   ],
   "metadata": {
    "collapsed": false,
    "pycharm": {
     "name": "#%%\n"
    }
   }
  },
  {
   "cell_type": "code",
   "execution_count": 15,
   "outputs": [],
   "source": [
    "vectors = count_vectorizer.fit_transform(data['tags'].values.astype('U'))"
   ],
   "metadata": {
    "collapsed": false,
    "pycharm": {
     "name": "#%%\n"
    }
   }
  },
  {
   "cell_type": "code",
   "execution_count": 16,
   "outputs": [
    {
     "data": {
      "text/plain": "<1618x12321 sparse matrix of type '<class 'numpy.int64'>'\n\twith 113027 stored elements in Compressed Sparse Row format>"
     },
     "execution_count": 16,
     "metadata": {},
     "output_type": "execute_result"
    }
   ],
   "source": [
    "vectors"
   ],
   "metadata": {
    "collapsed": false,
    "pycharm": {
     "name": "#%%\n"
    }
   }
  },
  {
   "cell_type": "code",
   "execution_count": 17,
   "outputs": [
    {
     "data": {
      "text/plain": "[1, 1, 1, 1, 1, 1, 1, 1, 1, 1]"
     },
     "execution_count": 17,
     "metadata": {},
     "output_type": "execute_result"
    }
   ],
   "source": [
    "vectors = count_vectorizer.fit_transform(data['tags'].values.astype('U'))\n",
    "# Непустые значения нулевой строки\n",
    "[i for i in vectors.todense()[0].getA1() if i>0][0:10]"
   ],
   "metadata": {
    "collapsed": false,
    "pycharm": {
     "name": "#%%\n"
    }
   }
  },
  {
   "cell_type": "code",
   "execution_count": 18,
   "outputs": [
    {
     "data": {
      "text/plain": "array([[0, 0, 0, ..., 0, 0, 0],\n       [0, 0, 0, ..., 0, 0, 0],\n       [0, 0, 0, ..., 0, 0, 0],\n       ...,\n       [0, 0, 0, ..., 0, 0, 0],\n       [0, 0, 0, ..., 0, 0, 0],\n       [0, 0, 0, ..., 0, 0, 0]])"
     },
     "execution_count": 18,
     "metadata": {},
     "output_type": "execute_result"
    }
   ],
   "source": [
    "vectors.toarray()"
   ],
   "metadata": {
    "collapsed": false,
    "pycharm": {
     "name": "#%%\n"
    }
   }
  },
  {
   "cell_type": "code",
   "execution_count": 19,
   "outputs": [
    {
     "data": {
      "text/plain": "(1618, 12321)"
     },
     "execution_count": 19,
     "metadata": {},
     "output_type": "execute_result"
    }
   ],
   "source": [
    "vectors.shape"
   ],
   "metadata": {
    "collapsed": false,
    "pycharm": {
     "name": "#%%\n"
    }
   }
  },
  {
   "cell_type": "code",
   "execution_count": 20,
   "outputs": [
    {
     "name": "stderr",
     "output_type": "stream",
     "text": [
      "/Library/Frameworks/Python.framework/Versions/3.7/lib/python3.7/site-packages/sklearn/utils/deprecation.py:87: FutureWarning: Function get_feature_names is deprecated; get_feature_names is deprecated in 1.0 and will be removed in 1.2. Please use get_feature_names_out instead.\n",
      "  warnings.warn(msg, category=FutureWarning)\n"
     ]
    },
    {
     "data": {
      "text/plain": "['намерен',\n 'намеренсаморазвитие',\n 'намест',\n 'намет',\n 'намечен',\n 'намн',\n 'намсаморазвитие',\n 'нанаш',\n 'нанесен',\n 'наниза',\n 'нанос',\n 'наносн',\n 'наоборот',\n 'наоборотсаморазвитие',\n 'наобум',\n 'наодин',\n 'наом',\n 'нападен',\n 'наперегонк',\n 'наперед']"
     },
     "execution_count": 20,
     "metadata": {},
     "output_type": "execute_result"
    }
   ],
   "source": [
    "count_vectorizer.get_feature_names()[5167:5187]"
   ],
   "metadata": {
    "collapsed": false,
    "pycharm": {
     "name": "#%%\n"
    }
   }
  },
  {
   "cell_type": "code",
   "execution_count": 21,
   "outputs": [],
   "source": [
    "from sklearn.metrics.pairwise import cosine_similarity"
   ],
   "metadata": {
    "collapsed": false,
    "pycharm": {
     "name": "#%%\n"
    }
   }
  },
  {
   "cell_type": "code",
   "execution_count": 22,
   "outputs": [
    {
     "name": "stdout",
     "output_type": "stream",
     "text": [
      "CPU times: user 211 ms, sys: 50.5 ms, total: 261 ms\n",
      "Wall time: 270 ms\n"
     ]
    }
   ],
   "source": [
    "%%time\n",
    "similarity = cosine_similarity(vectors)"
   ],
   "metadata": {
    "collapsed": false,
    "pycharm": {
     "name": "#%%\n"
    }
   }
  },
  {
   "cell_type": "code",
   "execution_count": 23,
   "outputs": [
    {
     "data": {
      "text/plain": "array([[1.        , 0.29982264, 0.06634798, ..., 0.18062146, 0.08154101,\n        0.12632279],\n       [0.29982264, 1.        , 0.13185241, ..., 0.15322618, 0.15320647,\n        0.25864676],\n       [0.06634798, 0.13185241, 1.        , ..., 0.03673316, 0.06780635,\n        0.10942203],\n       ...,\n       [0.18062146, 0.15322618, 0.03673316, ..., 1.        , 0.09028939,\n        0.12433397],\n       [0.08154101, 0.15320647, 0.06780635, ..., 0.09028939, 1.        ,\n        0.12909944],\n       [0.12632279, 0.25864676, 0.10942203, ..., 0.12433397, 0.12909944,\n        1.        ]])"
     },
     "execution_count": 23,
     "metadata": {},
     "output_type": "execute_result"
    }
   ],
   "source": [
    "similarity"
   ],
   "metadata": {
    "collapsed": false,
    "pycharm": {
     "name": "#%%\n"
    }
   }
  },
  {
   "cell_type": "code",
   "execution_count": 24,
   "outputs": [
    {
     "data": {
      "text/plain": "(1618, 1618)"
     },
     "execution_count": 24,
     "metadata": {},
     "output_type": "execute_result"
    }
   ],
   "source": [
    "similarity.shape"
   ],
   "metadata": {
    "collapsed": false,
    "pycharm": {
     "name": "#%%\n"
    }
   }
  },
  {
   "cell_type": "code",
   "execution_count": 25,
   "outputs": [
    {
     "data": {
      "text/plain": "numpy.ndarray"
     },
     "execution_count": 25,
     "metadata": {},
     "output_type": "execute_result"
    }
   ],
   "source": [
    "type(similarity)"
   ],
   "metadata": {
    "collapsed": false,
    "pycharm": {
     "name": "#%%\n"
    }
   }
  },
  {
   "cell_type": "code",
   "execution_count": 26,
   "outputs": [
    {
     "data": {
      "text/plain": "[(0, 1.0000000000000009),\n (1, 0.2998226426093877),\n (2, 0.06634797880872434),\n (3, 0.10301081696649858),\n (4, 0.09134420089491038),\n (5, 0.10772843571098123),\n (6, 0.10840110520942302),\n (7, 0.05052911526399114),\n (8, 0.14467423695414222),\n (9, 0.15631647522104605)]"
     },
     "execution_count": 26,
     "metadata": {},
     "output_type": "execute_result"
    }
   ],
   "source": [
    "list(enumerate(similarity[0]))[:10]"
   ],
   "metadata": {
    "collapsed": false,
    "pycharm": {
     "name": "#%%\n"
    }
   }
  },
  {
   "cell_type": "code",
   "execution_count": 27,
   "outputs": [
    {
     "data": {
      "text/plain": "[1.0000000000000009,\n 0.2998226426093877,\n 0.2964330420312403,\n 0.26994113627652894,\n 0.2609973475016989,\n 0.2592088920543522,\n 0.2583514444959201,\n 0.25812327876704005,\n 0.2502800993230099,\n 0.249822632116729]"
     },
     "execution_count": 27,
     "metadata": {},
     "output_type": "execute_result"
    }
   ],
   "source": [
    "sorted(similarity[0],reverse=True)[:10]"
   ],
   "metadata": {
    "collapsed": false,
    "pycharm": {
     "name": "#%%\n"
    }
   }
  },
  {
   "cell_type": "markdown",
   "source": [
    "## Рекомендации"
   ],
   "metadata": {
    "collapsed": false,
    "pycharm": {
     "name": "#%% md\n"
    }
   }
  },
  {
   "cell_type": "code",
   "execution_count": 28,
   "outputs": [],
   "source": [
    "def recommend(book):\n",
    "    book_index = data[data['name'] == book].index[0]\n",
    "    distances = similarity[book_index]\n",
    "    book_list = sorted(list(enumerate(distances)),reverse=True,key=lambda x:x[1])[1:11]\n",
    "\n",
    "    for i in book_list:\n",
    "       print(data.name[data.iloc[i[0]].name])"
   ],
   "metadata": {
    "collapsed": false,
    "pycharm": {
     "name": "#%%\n"
    }
   }
  },
  {
   "cell_type": "code",
   "execution_count": 29,
   "outputs": [
    {
     "name": "stdout",
     "output_type": "stream",
     "text": [
      "Go-Giver. Отдавай, чтобы получать \n",
      "Я - победитель! \n",
      "Счастье без ошибок \n",
      "Думай и богатей по-русски \n",
      "Счастье для чайников \n",
      "99+1 способ быть счастливее каждый день + Ты счастливчик! Вдохновляющий план личностного роста + Записки экономиста о счастье, успехе, процветании (комплект из 3-х книг в упаковке) \n",
      "Как завоевывать друзей и оказывать влияние на людей в эпоху цифровых технологий \n",
      "Хватит думать! Действуй!. Энтони Р. \n",
      "Как стать законченным неудачником в жизни, работе и во всем остальном. 44 1/2 шага к стойкой неполноценности / (2 изд). Макдермотт С. (Олимп-Бизнес) \n",
      "Мышление наоборот. Каждый - гениален \n"
     ]
    }
   ],
   "source": [
    "recommend('Подсознание может все! ')"
   ],
   "metadata": {
    "collapsed": false,
    "pycharm": {
     "name": "#%%\n"
    }
   }
  },
  {
   "cell_type": "code",
   "execution_count": 30,
   "outputs": [
    {
     "name": "stdout",
     "output_type": "stream",
     "text": [
      "Бизнес-ведьмы. О внутренней силе, мудрости и смелости выбирать свою тропу \n",
      "Жизнь в плюсе. Принципы построения счастливой жизни. Почему нет? (комплект из 3 книг) \n",
      "Жизнь - игра. Правила победителей + Жизнь, полная любви. Часть 1. Посланник. Часть 2. Постыдная тайна + Жизнь. Любовь. Смех. Превращая жизнь в праздник (комплект из 3-х книг в упаковке) \n",
      "Без фильтров. Истории, которые делают нас живыми \n",
      "Просто счастье. Метафорические карты \n",
      "Почему нет? Вдохновение для жизни без \"если\" и \"но\" \n",
      "Глазами любви. Как запустить свой новый счастливый сценарий. Дневник-тренинг \n",
      "Слушай свое тело. Снова и снова \n",
      "Я отключился от Интернета. Как выжить без Интернета после передозировки \n",
      "Жизнь просто Бизнес \n"
     ]
    }
   ],
   "source": [
    "recommend('ЛЮБИ СЕБЯ. Словно от этого зависит твоя жизнь ')"
   ],
   "metadata": {
    "collapsed": false,
    "pycharm": {
     "name": "#%%\n"
    }
   }
  },
  {
   "cell_type": "code",
   "execution_count": 31,
   "outputs": [
    {
     "name": "stdout",
     "output_type": "stream",
     "text": [
      "Прививка от стресса. Как стать хозяином своей жизни \n",
      "дневник диалектической поведенческой терапии \n",
      "Сила намерения. Как реализовать свои мечты и желания \n",
      "Возлюби болезнь свою. Как стать здоровым, познав радость жизни \n",
      "Практический курс доктора Синельникова. Как научиться любить себя \n",
      "Просто делай! Делай просто! Видеокнига + Делай! Ежедневник №1 (комплект) \n",
      "Эмоциональное мышление как инструмент достижения успеха \n",
      "Нарушение сна. Депрессия. Неврастения. Материальная основа, причины и исцеление \n",
      "Боремся со стрессом. Сборник простых и действенных упражнений \n",
      "Учимся мыслить позитивно. Сборник простых и действенных упражнений \n"
     ]
    }
   ],
   "source": [
    "recommend('Депрессия и выгорание. Как понять истинные причины плохого настроения и избавиться от них ')"
   ],
   "metadata": {
    "collapsed": false,
    "pycharm": {
     "name": "#%%\n"
    }
   }
  },
  {
   "cell_type": "code",
   "execution_count": 32,
   "outputs": [
    {
     "data": {
      "text/plain": "                                                   name            author  \\\n0     Брать, давать и наслаждаться. Как оставаться в...  Татьяна Мужицкая   \n1     Роман с самим собой. Как уравновесить внутренн...  Татьяна Мужицкая   \n2                       Думай медленно... решай быстро    Даниэль Канеман   \n3     НИ СЫ. Будь уверен в своих силах и не позволяй...      Джен Синсеро   \n4     Психотрюки. 69 приемов в общении, которым не у...       Игорь Рызов   \n...                                                 ...               ...   \n1613    Счастливая жизнь без панических атак и страхов                NaN   \n1614                 Думай и богатей в годы безденежья                NaN   \n1615  Близко к сердцу. Как жить, если вы слишком чув...           Санд И.   \n1616  Занимательная кинесика, или Тайны жестов, поз,...               NaN   \n1617  Наслаждение от каждого дня. Доступная всем про...               NaN   \n\n                             section               publish    age    year  \\\n0     Саморазвитие и личностный рост                   NaN   16+   2022.0   \n1     Саморазвитие и личностный рост                   NaN   16+   2022.0   \n2              Популярная психология                   АСТ   16+   2022.0   \n3     Саморазвитие и личностный рост                   NaN   16+   2022.0   \n4     Саморазвитие и личностный рост                   NaN   12+   2022.0   \n...                              ...                   ...    ...     ...   \n1613  Саморазвитие и личностный рост  Издательские решения   16+   2016.0   \n1614  Саморазвитие и личностный рост                   NaN   16+   2018.0   \n1615  Саморазвитие и личностный рост               Альпина    NaN  2016.0   \n1616  Саморазвитие и личностный рост              Прометей    NaN  2022.0   \n1617  Саморазвитие и личностный рост                   NaN   16+   2022.0   \n\n      pages rating                                               cove  \\\n0     256.0     5   https://ndc.book24.ru/resize/410x590/iblock/3d...   \n1     304.0     5   https:https://cdn.book24.ru/v2/ITD000000001044...   \n2     656.0   4,6   https://ndc.book24.ru/resize/410x590/iblock/0a...   \n3     320.0   4,2   https://ndc.book24.ru/resize/410x590/iblock/54...   \n4     256.0     5   https://ndc.book24.ru/resize/410x590/iblock/74...   \n...     ...    ...                                                ...   \n1613  120.0   0,0   https://ndc.book24.ru/resize/410x590/iblock/28...   \n1614  192.0   0,0   https://ndc.book24.ru/resize/410x590/iblock/fe...   \n1615  158.0   0,0   https://ndc.book24.ru/resize/410x590/iblock/fe...   \n1616  480.0   0,0   https://ndc.book24.ru/resize/410x590/iblock/4c...   \n1617  240.0   0,0   https://ndc.book24.ru/resize/410x590/iblock/18...   \n\n                                            description  \n0     Чувствовать себя полным сил. Вставать каждое у...  \n1     Когда ты себя любишь, ты точно знаешь, чего хо...  \n2     Эта книга полностью изменит вашу жизнь: ведь р...  \n3     Книга полна грубоватых и прикольных советов по...  \n4     Психотрюки — это простые приемы, которые помог...  \n...                                                 ...  \n1613  Хронический стресс, тревога, приступы паники, ...  \n1614  Годы экономического спада в стране \"подкосили\"...  \n1615  Высокочувствительные люди, или «новые интровер...  \n1616  Кинесика — это молчаливый язык, язык тела, с п...  \n1617  Жизнь кажется пресной и безвкусной?Все краски ...  \n\n[1618 rows x 10 columns]",
      "text/html": "<div>\n<style scoped>\n    .dataframe tbody tr th:only-of-type {\n        vertical-align: middle;\n    }\n\n    .dataframe tbody tr th {\n        vertical-align: top;\n    }\n\n    .dataframe thead th {\n        text-align: right;\n    }\n</style>\n<table border=\"1\" class=\"dataframe\">\n  <thead>\n    <tr style=\"text-align: right;\">\n      <th></th>\n      <th>name</th>\n      <th>author</th>\n      <th>section</th>\n      <th>publish</th>\n      <th>age</th>\n      <th>year</th>\n      <th>pages</th>\n      <th>rating</th>\n      <th>cove</th>\n      <th>description</th>\n    </tr>\n  </thead>\n  <tbody>\n    <tr>\n      <th>0</th>\n      <td>Брать, давать и наслаждаться. Как оставаться в...</td>\n      <td>Татьяна Мужицкая</td>\n      <td>Саморазвитие и личностный рост</td>\n      <td>NaN</td>\n      <td>16+</td>\n      <td>2022.0</td>\n      <td>256.0</td>\n      <td>5</td>\n      <td>https://ndc.book24.ru/resize/410x590/iblock/3d...</td>\n      <td>Чувствовать себя полным сил. Вставать каждое у...</td>\n    </tr>\n    <tr>\n      <th>1</th>\n      <td>Роман с самим собой. Как уравновесить внутренн...</td>\n      <td>Татьяна Мужицкая</td>\n      <td>Саморазвитие и личностный рост</td>\n      <td>NaN</td>\n      <td>16+</td>\n      <td>2022.0</td>\n      <td>304.0</td>\n      <td>5</td>\n      <td>https:https://cdn.book24.ru/v2/ITD000000001044...</td>\n      <td>Когда ты себя любишь, ты точно знаешь, чего хо...</td>\n    </tr>\n    <tr>\n      <th>2</th>\n      <td>Думай медленно... решай быстро</td>\n      <td>Даниэль Канеман</td>\n      <td>Популярная психология</td>\n      <td>АСТ</td>\n      <td>16+</td>\n      <td>2022.0</td>\n      <td>656.0</td>\n      <td>4,6</td>\n      <td>https://ndc.book24.ru/resize/410x590/iblock/0a...</td>\n      <td>Эта книга полностью изменит вашу жизнь: ведь р...</td>\n    </tr>\n    <tr>\n      <th>3</th>\n      <td>НИ СЫ. Будь уверен в своих силах и не позволяй...</td>\n      <td>Джен Синсеро</td>\n      <td>Саморазвитие и личностный рост</td>\n      <td>NaN</td>\n      <td>16+</td>\n      <td>2022.0</td>\n      <td>320.0</td>\n      <td>4,2</td>\n      <td>https://ndc.book24.ru/resize/410x590/iblock/54...</td>\n      <td>Книга полна грубоватых и прикольных советов по...</td>\n    </tr>\n    <tr>\n      <th>4</th>\n      <td>Психотрюки. 69 приемов в общении, которым не у...</td>\n      <td>Игорь Рызов</td>\n      <td>Саморазвитие и личностный рост</td>\n      <td>NaN</td>\n      <td>12+</td>\n      <td>2022.0</td>\n      <td>256.0</td>\n      <td>5</td>\n      <td>https://ndc.book24.ru/resize/410x590/iblock/74...</td>\n      <td>Психотрюки — это простые приемы, которые помог...</td>\n    </tr>\n    <tr>\n      <th>...</th>\n      <td>...</td>\n      <td>...</td>\n      <td>...</td>\n      <td>...</td>\n      <td>...</td>\n      <td>...</td>\n      <td>...</td>\n      <td>...</td>\n      <td>...</td>\n      <td>...</td>\n    </tr>\n    <tr>\n      <th>1613</th>\n      <td>Счастливая жизнь без панических атак и страхов</td>\n      <td>NaN</td>\n      <td>Саморазвитие и личностный рост</td>\n      <td>Издательские решения</td>\n      <td>16+</td>\n      <td>2016.0</td>\n      <td>120.0</td>\n      <td>0,0</td>\n      <td>https://ndc.book24.ru/resize/410x590/iblock/28...</td>\n      <td>Хронический стресс, тревога, приступы паники, ...</td>\n    </tr>\n    <tr>\n      <th>1614</th>\n      <td>Думай и богатей в годы безденежья</td>\n      <td>NaN</td>\n      <td>Саморазвитие и личностный рост</td>\n      <td>NaN</td>\n      <td>16+</td>\n      <td>2018.0</td>\n      <td>192.0</td>\n      <td>0,0</td>\n      <td>https://ndc.book24.ru/resize/410x590/iblock/fe...</td>\n      <td>Годы экономического спада в стране \"подкосили\"...</td>\n    </tr>\n    <tr>\n      <th>1615</th>\n      <td>Близко к сердцу. Как жить, если вы слишком чув...</td>\n      <td>Санд И.</td>\n      <td>Саморазвитие и личностный рост</td>\n      <td>Альпина</td>\n      <td>NaN</td>\n      <td>2016.0</td>\n      <td>158.0</td>\n      <td>0,0</td>\n      <td>https://ndc.book24.ru/resize/410x590/iblock/fe...</td>\n      <td>Высокочувствительные люди, или «новые интровер...</td>\n    </tr>\n    <tr>\n      <th>1616</th>\n      <td>Занимательная кинесика, или Тайны жестов, поз,...</td>\n      <td>NaN</td>\n      <td>Саморазвитие и личностный рост</td>\n      <td>Прометей</td>\n      <td>NaN</td>\n      <td>2022.0</td>\n      <td>480.0</td>\n      <td>0,0</td>\n      <td>https://ndc.book24.ru/resize/410x590/iblock/4c...</td>\n      <td>Кинесика — это молчаливый язык, язык тела, с п...</td>\n    </tr>\n    <tr>\n      <th>1617</th>\n      <td>Наслаждение от каждого дня. Доступная всем про...</td>\n      <td>NaN</td>\n      <td>Саморазвитие и личностный рост</td>\n      <td>NaN</td>\n      <td>16+</td>\n      <td>2022.0</td>\n      <td>240.0</td>\n      <td>0,0</td>\n      <td>https://ndc.book24.ru/resize/410x590/iblock/18...</td>\n      <td>Жизнь кажется пресной и безвкусной?Все краски ...</td>\n    </tr>\n  </tbody>\n</table>\n<p>1618 rows × 10 columns</p>\n</div>"
     },
     "execution_count": 32,
     "metadata": {},
     "output_type": "execute_result"
    }
   ],
   "source": [
    "data = pd.read_csv('clean_data.csv')\n",
    "data"
   ],
   "metadata": {
    "collapsed": false,
    "pycharm": {
     "name": "#%%\n"
    }
   }
  },
  {
   "cell_type": "code",
   "execution_count": 33,
   "outputs": [],
   "source": [
    "import pickle"
   ],
   "metadata": {
    "collapsed": false,
    "pycharm": {
     "name": "#%%\n"
    }
   }
  },
  {
   "cell_type": "code",
   "execution_count": 34,
   "outputs": [],
   "source": [
    "pickle.dump(similarity,open('similarity.pkl','wb'))"
   ],
   "metadata": {
    "collapsed": false,
    "pycharm": {
     "name": "#%%\n"
    }
   }
  },
  {
   "cell_type": "code",
   "execution_count": 35,
   "outputs": [],
   "source": [
    "pickle.dump(data.to_dict(),open('books_dict.pkl','wb'))"
   ],
   "metadata": {
    "collapsed": false,
    "pycharm": {
     "name": "#%%\n"
    }
   }
  }
 ],
 "metadata": {
  "kernelspec": {
   "display_name": "Python 3",
   "language": "python",
   "name": "python3"
  },
  "language_info": {
   "codemirror_mode": {
    "name": "ipython",
    "version": 2
   },
   "file_extension": ".py",
   "mimetype": "text/x-python",
   "name": "python",
   "nbconvert_exporter": "python",
   "pygments_lexer": "ipython2",
   "version": "2.7.6"
  }
 },
 "nbformat": 4,
 "nbformat_minor": 0
}