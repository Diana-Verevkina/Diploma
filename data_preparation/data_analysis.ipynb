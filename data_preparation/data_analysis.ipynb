{
 "cells": [
  {
   "cell_type": "code",
   "execution_count": 3,
   "outputs": [
    {
     "name": "stderr",
     "output_type": "stream",
     "text": [
      "[nltk_data] Error loading stopwords: <urlopen error [SSL:\n",
      "[nltk_data]     CERTIFICATE_VERIFY_FAILED] certificate verify failed:\n",
      "[nltk_data]     unable to get local issuer certificate (_ssl.c:1091)>\n"
     ]
    }
   ],
   "source": [
    "import pandas as pd\n",
    "import seaborn as sns\n",
    "%matplotlib inline\n",
    "sns.set(style=\"ticks\")\n",
    "import re\n",
    "import nltk\n",
    "nltk.download('stopwords')\n",
    "from nltk.corpus import stopwords\n",
    "import pymorphy2"
   ],
   "metadata": {
    "collapsed": false,
    "pycharm": {
     "name": "#%%\n"
    }
   }
  },
  {
   "cell_type": "markdown",
   "source": [
    "## Загрузка и первичный анализ данных из datanorepeat.csv"
   ],
   "metadata": {
    "collapsed": false,
    "pycharm": {
     "name": "#%% md\n"
    }
   }
  },
  {
   "cell_type": "code",
   "execution_count": 15,
   "outputs": [
    {
     "data": {
      "text/plain": "(1627, 10)"
     },
     "execution_count": 15,
     "metadata": {},
     "output_type": "execute_result"
    }
   ],
   "source": [
    "data = pd.read_csv('data_uniq.csv')\n",
    "data.shape"
   ],
   "metadata": {
    "collapsed": false,
    "pycharm": {
     "name": "#%%\n"
    }
   }
  },
  {
   "cell_type": "code",
   "execution_count": 16,
   "outputs": [
    {
     "data": {
      "text/plain": "name            object\nauthor          object\nsection         object\npublish         object\nage             object\nyear           float64\npages          float64\nrating          object\ncove            object\ndescription     object\ndtype: object"
     },
     "execution_count": 16,
     "metadata": {},
     "output_type": "execute_result"
    }
   ],
   "source": [
    "data.dtypes"
   ],
   "metadata": {
    "collapsed": false,
    "pycharm": {
     "name": "#%%\n"
    }
   }
  },
  {
   "cell_type": "code",
   "execution_count": 17,
   "outputs": [
    {
     "data": {
      "text/plain": "name              1\nauthor         1215\nsection           0\npublish         316\nage             545\nyear             21\npages           120\nrating            0\ncove              0\ndescription       3\ndtype: int64"
     },
     "execution_count": 17,
     "metadata": {},
     "output_type": "execute_result"
    }
   ],
   "source": [
    "data.isnull().sum()"
   ],
   "metadata": {
    "collapsed": false,
    "pycharm": {
     "name": "#%%\n"
    }
   }
  },
  {
   "cell_type": "markdown",
   "source": [
    "### Удалим книги без названий и описания"
   ],
   "metadata": {
    "collapsed": false,
    "pycharm": {
     "name": "#%% md\n"
    }
   }
  },
  {
   "cell_type": "code",
   "execution_count": 18,
   "outputs": [
    {
     "data": {
      "text/plain": "name              0\nauthor         1214\nsection           0\npublish         314\nage             545\nyear             19\npages           118\nrating            0\ncove              0\ndescription       0\ndtype: int64"
     },
     "execution_count": 18,
     "metadata": {},
     "output_type": "execute_result"
    }
   ],
   "source": [
    "clean_data = data\n",
    "clean_data = clean_data.dropna(subset=['description', 'name'])\n",
    "clean_data.isnull().sum()"
   ],
   "metadata": {
    "collapsed": false,
    "pycharm": {
     "name": "#%%\n"
    }
   }
  },
  {
   "cell_type": "code",
   "execution_count": 19,
   "outputs": [
    {
     "data": {
      "text/plain": "(1623, 10)"
     },
     "execution_count": 19,
     "metadata": {},
     "output_type": "execute_result"
    }
   ],
   "source": [
    "clean_data.shape"
   ],
   "metadata": {
    "collapsed": false,
    "pycharm": {
     "name": "#%%\n"
    }
   }
  },
  {
   "cell_type": "code",
   "execution_count": 20,
   "outputs": [
    {
     "data": {
      "text/plain": "array(['Саморазвитие и личностный рост', 'Популярная психология',\n       'Копирайтинг', 'Популярная медицина', 'Психология личности',\n       'Кино', 'Классическая психология', 'Лидерство',\n       'Предпринимательство', 'Языкознание', 'Психология бизнеса',\n       'Русский язык'], dtype=object)"
     },
     "execution_count": 20,
     "metadata": {},
     "output_type": "execute_result"
    }
   ],
   "source": [
    "clean_data['section'].unique()\n"
   ],
   "metadata": {
    "collapsed": false,
    "pycharm": {
     "name": "#%%\n"
    }
   }
  },
  {
   "cell_type": "markdown",
   "source": [
    "#### Удалим неподходящие категории произведений"
   ],
   "metadata": {
    "collapsed": false,
    "pycharm": {
     "name": "#%% md\n"
    }
   }
  },
  {
   "cell_type": "code",
   "execution_count": 21,
   "outputs": [],
   "source": [
    "data_new = clean_data.query(\"section not in ['Копирайтинг', 'Популярная медицина', 'Кино', 'Языкознание', 'Русский язык']\")"
   ],
   "metadata": {
    "collapsed": false,
    "pycharm": {
     "name": "#%%\n"
    }
   }
  },
  {
   "cell_type": "code",
   "execution_count": 22,
   "outputs": [
    {
     "data": {
      "text/plain": "array(['Саморазвитие и личностный рост', 'Популярная психология',\n       'Психология личности', 'Классическая психология', 'Лидерство',\n       'Предпринимательство', 'Психология бизнеса'], dtype=object)"
     },
     "execution_count": 22,
     "metadata": {},
     "output_type": "execute_result"
    }
   ],
   "source": [
    "data_new['section'].unique()"
   ],
   "metadata": {
    "collapsed": false,
    "pycharm": {
     "name": "#%%\n"
    }
   }
  },
  {
   "cell_type": "code",
   "execution_count": 24,
   "outputs": [
    {
     "data": {
      "text/plain": "                                                   name            author  \\\n0     Брать, давать и наслаждаться. Как оставаться в...  Татьяна Мужицкая   \n1     Роман с самим собой. Как уравновесить внутренн...  Татьяна Мужицкая   \n2                       Думай медленно... решай быстро    Даниэль Канеман   \n3     НИ СЫ. Будь уверен в своих силах и не позволяй...      Джен Синсеро   \n4     Психотрюки. 69 приемов в общении, которым не у...       Игорь Рызов   \n...                                                 ...               ...   \n1622    Счастливая жизнь без панических атак и страхов                NaN   \n1623                 Думай и богатей в годы безденежья                NaN   \n1624  Близко к сердцу. Как жить, если вы слишком чув...           Санд И.   \n1625  Занимательная кинесика, или Тайны жестов, поз,...               NaN   \n1626  Наслаждение от каждого дня. Доступная всем про...               NaN   \n\n                             section               publish    age    year  \\\n0     Саморазвитие и личностный рост                   NaN   16+   2022.0   \n1     Саморазвитие и личностный рост                   NaN   16+   2022.0   \n2              Популярная психология                   АСТ   16+   2022.0   \n3     Саморазвитие и личностный рост                   NaN   16+   2022.0   \n4     Саморазвитие и личностный рост                   NaN   12+   2022.0   \n...                              ...                   ...    ...     ...   \n1622  Саморазвитие и личностный рост  Издательские решения   16+   2016.0   \n1623  Саморазвитие и личностный рост                   NaN   16+   2018.0   \n1624  Саморазвитие и личностный рост               Альпина    NaN  2016.0   \n1625  Саморазвитие и личностный рост              Прометей    NaN  2022.0   \n1626  Саморазвитие и личностный рост                   NaN   16+   2022.0   \n\n      pages rating                                               cove  \\\n0     256.0     5   https://ndc.book24.ru/resize/410x590/iblock/3d...   \n1     304.0     5   https:https://cdn.book24.ru/v2/ITD000000001044...   \n2     656.0   4,6   https://ndc.book24.ru/resize/410x590/iblock/0a...   \n3     320.0   4,2   https://ndc.book24.ru/resize/410x590/iblock/54...   \n4     256.0     5   https://ndc.book24.ru/resize/410x590/iblock/74...   \n...     ...    ...                                                ...   \n1622  120.0   0,0   https://ndc.book24.ru/resize/410x590/iblock/28...   \n1623  192.0   0,0   https://ndc.book24.ru/resize/410x590/iblock/fe...   \n1624  158.0   0,0   https://ndc.book24.ru/resize/410x590/iblock/fe...   \n1625  480.0   0,0   https://ndc.book24.ru/resize/410x590/iblock/4c...   \n1626  240.0   0,0   https://ndc.book24.ru/resize/410x590/iblock/18...   \n\n                                            description  \n0     Чувствовать себя полным сил. Вставать каждое у...  \n1     Когда ты себя любишь, ты точно знаешь, чего хо...  \n2     Эта книга полностью изменит вашу жизнь: ведь р...  \n3     Книга полна грубоватых и прикольных советов по...  \n4     Психотрюки — это простые приемы, которые помог...  \n...                                                 ...  \n1622  Хронический стресс, тревога, приступы паники, ...  \n1623  Годы экономического спада в стране \"подкосили\"...  \n1624  Высокочувствительные люди, или «новые интровер...  \n1625  Кинесика — это молчаливый язык, язык тела, с п...  \n1626  Жизнь кажется пресной и безвкусной?Все краски ...  \n\n[1618 rows x 10 columns]",
      "text/html": "<div>\n<style scoped>\n    .dataframe tbody tr th:only-of-type {\n        vertical-align: middle;\n    }\n\n    .dataframe tbody tr th {\n        vertical-align: top;\n    }\n\n    .dataframe thead th {\n        text-align: right;\n    }\n</style>\n<table border=\"1\" class=\"dataframe\">\n  <thead>\n    <tr style=\"text-align: right;\">\n      <th></th>\n      <th>name</th>\n      <th>author</th>\n      <th>section</th>\n      <th>publish</th>\n      <th>age</th>\n      <th>year</th>\n      <th>pages</th>\n      <th>rating</th>\n      <th>cove</th>\n      <th>description</th>\n    </tr>\n  </thead>\n  <tbody>\n    <tr>\n      <th>0</th>\n      <td>Брать, давать и наслаждаться. Как оставаться в...</td>\n      <td>Татьяна Мужицкая</td>\n      <td>Саморазвитие и личностный рост</td>\n      <td>NaN</td>\n      <td>16+</td>\n      <td>2022.0</td>\n      <td>256.0</td>\n      <td>5</td>\n      <td>https://ndc.book24.ru/resize/410x590/iblock/3d...</td>\n      <td>Чувствовать себя полным сил. Вставать каждое у...</td>\n    </tr>\n    <tr>\n      <th>1</th>\n      <td>Роман с самим собой. Как уравновесить внутренн...</td>\n      <td>Татьяна Мужицкая</td>\n      <td>Саморазвитие и личностный рост</td>\n      <td>NaN</td>\n      <td>16+</td>\n      <td>2022.0</td>\n      <td>304.0</td>\n      <td>5</td>\n      <td>https:https://cdn.book24.ru/v2/ITD000000001044...</td>\n      <td>Когда ты себя любишь, ты точно знаешь, чего хо...</td>\n    </tr>\n    <tr>\n      <th>2</th>\n      <td>Думай медленно... решай быстро</td>\n      <td>Даниэль Канеман</td>\n      <td>Популярная психология</td>\n      <td>АСТ</td>\n      <td>16+</td>\n      <td>2022.0</td>\n      <td>656.0</td>\n      <td>4,6</td>\n      <td>https://ndc.book24.ru/resize/410x590/iblock/0a...</td>\n      <td>Эта книга полностью изменит вашу жизнь: ведь р...</td>\n    </tr>\n    <tr>\n      <th>3</th>\n      <td>НИ СЫ. Будь уверен в своих силах и не позволяй...</td>\n      <td>Джен Синсеро</td>\n      <td>Саморазвитие и личностный рост</td>\n      <td>NaN</td>\n      <td>16+</td>\n      <td>2022.0</td>\n      <td>320.0</td>\n      <td>4,2</td>\n      <td>https://ndc.book24.ru/resize/410x590/iblock/54...</td>\n      <td>Книга полна грубоватых и прикольных советов по...</td>\n    </tr>\n    <tr>\n      <th>4</th>\n      <td>Психотрюки. 69 приемов в общении, которым не у...</td>\n      <td>Игорь Рызов</td>\n      <td>Саморазвитие и личностный рост</td>\n      <td>NaN</td>\n      <td>12+</td>\n      <td>2022.0</td>\n      <td>256.0</td>\n      <td>5</td>\n      <td>https://ndc.book24.ru/resize/410x590/iblock/74...</td>\n      <td>Психотрюки — это простые приемы, которые помог...</td>\n    </tr>\n    <tr>\n      <th>...</th>\n      <td>...</td>\n      <td>...</td>\n      <td>...</td>\n      <td>...</td>\n      <td>...</td>\n      <td>...</td>\n      <td>...</td>\n      <td>...</td>\n      <td>...</td>\n      <td>...</td>\n    </tr>\n    <tr>\n      <th>1622</th>\n      <td>Счастливая жизнь без панических атак и страхов</td>\n      <td>NaN</td>\n      <td>Саморазвитие и личностный рост</td>\n      <td>Издательские решения</td>\n      <td>16+</td>\n      <td>2016.0</td>\n      <td>120.0</td>\n      <td>0,0</td>\n      <td>https://ndc.book24.ru/resize/410x590/iblock/28...</td>\n      <td>Хронический стресс, тревога, приступы паники, ...</td>\n    </tr>\n    <tr>\n      <th>1623</th>\n      <td>Думай и богатей в годы безденежья</td>\n      <td>NaN</td>\n      <td>Саморазвитие и личностный рост</td>\n      <td>NaN</td>\n      <td>16+</td>\n      <td>2018.0</td>\n      <td>192.0</td>\n      <td>0,0</td>\n      <td>https://ndc.book24.ru/resize/410x590/iblock/fe...</td>\n      <td>Годы экономического спада в стране \"подкосили\"...</td>\n    </tr>\n    <tr>\n      <th>1624</th>\n      <td>Близко к сердцу. Как жить, если вы слишком чув...</td>\n      <td>Санд И.</td>\n      <td>Саморазвитие и личностный рост</td>\n      <td>Альпина</td>\n      <td>NaN</td>\n      <td>2016.0</td>\n      <td>158.0</td>\n      <td>0,0</td>\n      <td>https://ndc.book24.ru/resize/410x590/iblock/fe...</td>\n      <td>Высокочувствительные люди, или «новые интровер...</td>\n    </tr>\n    <tr>\n      <th>1625</th>\n      <td>Занимательная кинесика, или Тайны жестов, поз,...</td>\n      <td>NaN</td>\n      <td>Саморазвитие и личностный рост</td>\n      <td>Прометей</td>\n      <td>NaN</td>\n      <td>2022.0</td>\n      <td>480.0</td>\n      <td>0,0</td>\n      <td>https://ndc.book24.ru/resize/410x590/iblock/4c...</td>\n      <td>Кинесика — это молчаливый язык, язык тела, с п...</td>\n    </tr>\n    <tr>\n      <th>1626</th>\n      <td>Наслаждение от каждого дня. Доступная всем про...</td>\n      <td>NaN</td>\n      <td>Саморазвитие и личностный рост</td>\n      <td>NaN</td>\n      <td>16+</td>\n      <td>2022.0</td>\n      <td>240.0</td>\n      <td>0,0</td>\n      <td>https://ndc.book24.ru/resize/410x590/iblock/18...</td>\n      <td>Жизнь кажется пресной и безвкусной?Все краски ...</td>\n    </tr>\n  </tbody>\n</table>\n<p>1618 rows × 10 columns</p>\n</div>"
     },
     "execution_count": 24,
     "metadata": {},
     "output_type": "execute_result"
    }
   ],
   "source": [
    "clean_data = data_new\n",
    "clean_data"
   ],
   "metadata": {
    "collapsed": false,
    "pycharm": {
     "name": "#%%\n"
    }
   }
  },
  {
   "cell_type": "markdown",
   "source": [
    "### Сохраним очищенные данные в clean_data.csv"
   ],
   "metadata": {
    "collapsed": false,
    "pycharm": {
     "name": "#%% md\n"
    }
   }
  },
  {
   "cell_type": "code",
   "execution_count": 25,
   "outputs": [],
   "source": [
    "clean_data.to_csv(r'/Users/dianaverevkina/Diplom_project/Diploma — копия 3/data_preparation/clean_data.csv', index=False)"
   ],
   "metadata": {
    "collapsed": false,
    "pycharm": {
     "name": "#%%\n"
    }
   }
  },
  {
   "cell_type": "markdown",
   "source": [
    "### Далее работаем с clean_data.csv"
   ],
   "metadata": {
    "collapsed": false,
    "pycharm": {
     "name": "#%% md\n"
    }
   }
  },
  {
   "cell_type": "code",
   "execution_count": 26,
   "outputs": [
    {
     "data": {
      "text/plain": "(1618, 10)"
     },
     "execution_count": 26,
     "metadata": {},
     "output_type": "execute_result"
    }
   ],
   "source": [
    "data = pd.read_csv('clean_data.csv')\n",
    "data.shape"
   ],
   "metadata": {
    "collapsed": false,
    "pycharm": {
     "name": "#%%\n"
    }
   }
  },
  {
   "cell_type": "code",
   "execution_count": 27,
   "outputs": [
    {
     "data": {
      "text/plain": "<AxesSubplot:title={'center':'Word Count Distribution for book descriptions'}, ylabel='Frequency'>"
     },
     "execution_count": 27,
     "metadata": {},
     "output_type": "execute_result"
    },
    {
     "data": {
      "text/plain": "<Figure size 1500x1000 with 1 Axes>",
      "image/png": "[encoded data removed]"
     },
     "metadata": {},
     "output_type": "display_data"
    }
   ],
   "source": [
    "# анализ размера описаний\n",
    "data['word_count'] = data['description'].apply(lambda x: len(str(x).split()))\n",
    "data['word_count'].plot(\n",
    "    kind='hist',\n",
    "    bins = 100,\n",
    "    figsize = (15,10),title='Word Count Distribution for book descriptions')"
   ],
   "metadata": {
    "collapsed": false,
    "pycharm": {
     "name": "#%%\n"
    }
   }
  },
  {
   "cell_type": "markdown",
   "source": [
    "## description"
   ],
   "metadata": {
    "collapsed": false,
    "pycharm": {
     "name": "#%% md\n"
    }
   }
  },
  {
   "cell_type": "markdown",
   "source": [
    "#### убираем заглавные буквы, переносы строки, знаки препинания"
   ],
   "metadata": {
    "collapsed": false,
    "pycharm": {
     "name": "#%% md\n"
    }
   }
  },
  {
   "cell_type": "code",
   "execution_count": 28,
   "outputs": [],
   "source": [
    "description_new = []\n",
    "for i in data.index:\n",
    "    description_new.append(str(data.description[i]))\n",
    "for i in range(len(description_new)):\n",
    "    description_new[i] = re.sub(\"[^А-Яа-я, ё, \\n, -]\", \"\", description_new[i])\n",
    "    description_new[i] = description_new[i].lower()\n",
    "    description_new[i] = re.sub(\",\", \" \", description_new[i])\n",
    "    description_new[i] = re.sub(\"\\n\", \" \", description_new[i])\n",
    "    description_new[i] = re.sub(\"-\", \" \", description_new[i])"
   ],
   "metadata": {
    "collapsed": false,
    "pycharm": {
     "name": "#%%\n"
    }
   }
  },
  {
   "cell_type": "markdown",
   "source": [
    "description в исходной базе"
   ],
   "metadata": {
    "collapsed": false,
    "pycharm": {
     "name": "#%% md\n"
    }
   }
  },
  {
   "cell_type": "code",
   "execution_count": 29,
   "outputs": [
    {
     "data": {
      "text/plain": "'Валерий Синельников — известный практикующий психотерапевт, психолог, гомеопат, автор уникальных по простоте и эффективности целительных психологических методик, которые помогли тысячам людей вернуть здоровье, повысить благосостояние, познать радость жизни. Из его книги вы узнаете, как научиться использовать силы своего подсознания для того, чтобы простить и избавиться от чувства вины, справиться с депрессией и изгнать ревность, излечиться от множества заболеваний и стать удачливым. Книга обладает целительной силой, и позитивное воздействие начинается с того момента, как только вы возьмете ее в руки.\\n\\nКоличество страниц может отличаться от заявленного и зависит от объёма рекламного материала'"
     },
     "execution_count": 29,
     "metadata": {},
     "output_type": "execute_result"
    }
   ],
   "source": [
    "data.description[100]"
   ],
   "metadata": {
    "collapsed": false,
    "pycharm": {
     "name": "#%%\n"
    }
   }
  },
  {
   "cell_type": "markdown",
   "source": [
    "description после преобразований"
   ],
   "metadata": {
    "collapsed": false,
    "pycharm": {
     "name": "#%% md\n"
    }
   }
  },
  {
   "cell_type": "code",
   "execution_count": 30,
   "outputs": [
    {
     "data": {
      "text/plain": "'валерий синельников  известный практикующий психотерапевт  психолог  гомеопат  автор уникальных по простоте и эффективности целительных психологических методик  которые помогли тысячам людей вернуть здоровье  повысить благосостояние  познать радость жизни из его книги вы узнаете  как научиться использовать силы своего подсознания для того  чтобы простить и избавиться от чувства вины  справиться с депрессией и изгнать ревность  излечиться от множества заболеваний и стать удачливым книга обладает целительной силой  и позитивное воздействие начинается с того момента  как только вы возьмете ее в руки  количество страниц может отличаться от заявленного и зависит от объёма рекламного материала'"
     },
     "execution_count": 30,
     "metadata": {},
     "output_type": "execute_result"
    }
   ],
   "source": [
    "description_new[100]"
   ],
   "metadata": {
    "collapsed": false,
    "pycharm": {
     "name": "#%%\n"
    }
   }
  },
  {
   "cell_type": "markdown",
   "source": [
    "#### Работаем со стоп словами - слова, которые не несут большой информативной нагрузки"
   ],
   "metadata": {
    "collapsed": false,
    "pycharm": {
     "name": "#%% md\n"
    }
   }
  },
  {
   "cell_type": "markdown",
   "source": [
    "стоп-слова: и, в, во, не, что, он, на, я, с, со, как, а, то, все, чтоб, без, будто, впрочем, хорошо, свою, этой, перед, иногда, лучше, чуть, том, нельзя, такой, им, более, всегда, конечно, всю, между и тд. Всего 151"
   ],
   "metadata": {
    "collapsed": false,
    "pycharm": {
     "name": "#%% md\n"
    }
   }
  },
  {
   "cell_type": "code",
   "execution_count": 31,
   "outputs": [],
   "source": [
    "stop_words = stopwords.words('russian')"
   ],
   "metadata": {
    "collapsed": false,
    "pycharm": {
     "name": "#%%\n"
    }
   }
  },
  {
   "cell_type": "code",
   "execution_count": 32,
   "outputs": [
    {
     "name": "stdout",
     "output_type": "stream",
     "text": [
      "showing info https://raw.githubusercontent.com/nltk/nltk_data/gh-pages/index.xml\n"
     ]
    },
    {
     "data": {
      "text/plain": "True"
     },
     "execution_count": 32,
     "metadata": {},
     "output_type": "execute_result"
    }
   ],
   "source": [
    "import nltk\n",
    "import ssl\n",
    "\n",
    "try:\n",
    "    _create_unverified_https_context = ssl._create_unverified_context\n",
    "except AttributeError:\n",
    "    pass\n",
    "else:\n",
    "    ssl._create_default_https_context = _create_unverified_https_context\n",
    "\n",
    "nltk.download()"
   ],
   "metadata": {
    "collapsed": false,
    "pycharm": {
     "name": "#%%\n"
    }
   }
  },
  {
   "cell_type": "code",
   "execution_count": 33,
   "outputs": [],
   "source": [
    "# функция, которая удаляет стоп-слова и возвращает текст без них\n",
    "def stopwords(text):\n",
    "    y = []\n",
    "    for i in text.split():\n",
    "        if not i in stop_words:\n",
    "            y.append(i)\n",
    "    return \" \".join(y)"
   ],
   "metadata": {
    "collapsed": false,
    "pycharm": {
     "name": "#%%\n"
    }
   }
  },
  {
   "cell_type": "code",
   "execution_count": 34,
   "outputs": [
    {
     "data": {
      "text/plain": "'понравилась эта книга'"
     },
     "execution_count": 34,
     "metadata": {},
     "output_type": "execute_result"
    }
   ],
   "source": [
    "stopwords('мне конечно понравилась эта книга')"
   ],
   "metadata": {
    "collapsed": false,
    "pycharm": {
     "name": "#%%\n"
    }
   }
  },
  {
   "cell_type": "code",
   "execution_count": 35,
   "outputs": [
    {
     "data": {
      "text/plain": "                                                   0\n0  чувствовать себя полным силвставать каждое утр...\n1  когда ты себя любишь  ты точно знаешь  чего хо...\n2  эта книга полностью изменит вашу жизнь ведь ре...\n3  книга полна грубоватых и прикольных советов по...\n4  психотрюки  это простые приемы  которые помога...",
      "text/html": "<div>\n<style scoped>\n    .dataframe tbody tr th:only-of-type {\n        vertical-align: middle;\n    }\n\n    .dataframe tbody tr th {\n        vertical-align: top;\n    }\n\n    .dataframe thead th {\n        text-align: right;\n    }\n</style>\n<table border=\"1\" class=\"dataframe\">\n  <thead>\n    <tr style=\"text-align: right;\">\n      <th></th>\n      <th>0</th>\n    </tr>\n  </thead>\n  <tbody>\n    <tr>\n      <th>0</th>\n      <td>чувствовать себя полным силвставать каждое утр...</td>\n    </tr>\n    <tr>\n      <th>1</th>\n      <td>когда ты себя любишь  ты точно знаешь  чего хо...</td>\n    </tr>\n    <tr>\n      <th>2</th>\n      <td>эта книга полностью изменит вашу жизнь ведь ре...</td>\n    </tr>\n    <tr>\n      <th>3</th>\n      <td>книга полна грубоватых и прикольных советов по...</td>\n    </tr>\n    <tr>\n      <th>4</th>\n      <td>психотрюки  это простые приемы  которые помога...</td>\n    </tr>\n  </tbody>\n</table>\n</div>"
     },
     "execution_count": 35,
     "metadata": {},
     "output_type": "execute_result"
    }
   ],
   "source": [
    "data['tags'] = data.apply(lambda _: '', axis=1)\n",
    "# из списка description_new сделали датафрейм\n",
    "description_new = pd.DataFrame(description_new)\n",
    "description_new.head()"
   ],
   "metadata": {
    "collapsed": false,
    "pycharm": {
     "name": "#%%\n"
    }
   }
  },
  {
   "cell_type": "markdown",
   "source": [
    "#### В description_without_stopwords = [] добавляем описания без стоп-слов"
   ],
   "metadata": {
    "collapsed": false,
    "pycharm": {
     "name": "#%% md\n"
    }
   }
  },
  {
   "cell_type": "code",
   "execution_count": 37,
   "outputs": [
    {
     "name": "stdout",
     "output_type": "stream",
     "text": [
      "CPU times: user 720 ms, sys: 20.4 ms, total: 740 ms\n",
      "Wall time: 751 ms\n"
     ]
    }
   ],
   "source": [
    "%%time\n",
    "description_without_stopwords = []\n",
    "for i in range(len(description_new[0])):\n",
    "    description_without_stopwords.append(stopwords(description_new[0][i]))"
   ],
   "metadata": {
    "collapsed": false,
    "pycharm": {
     "name": "#%%\n"
    }
   }
  },
  {
   "cell_type": "code",
   "execution_count": 38,
   "outputs": [
    {
     "data": {
      "text/plain": "'чувствовать полным силвставать каждое утро той ноги испытывать воодушевление приступая сложной задаче вроде ремонта квартиры поиска работы новая книга татьяны мужицкой это уникальная система практик которая поможет оставаться ресурсе эпидемии рвануть недельку тай посидеть ресторане друзьями татьяна объясняет черпать жизненные силы зависит внешних обстоятельств подход основан одноименном марафоне течение полугода прошли человек отзывы говорят сами брать давать наслаждаться это целая система отношений собой миром превращающая настоящий генератор вдохновения бодрости собой любить наслаждаться моментом часто слышим слова пытаемся соответствовать кажется именно нужно заменить нужно сделать это легко удовольствием татьяна мужицкая великий специалист счастью удовольствию доверьтесь вашей радости любви хватит близких весь мир татьяна лазарева актриса телеведущая общественный деятель'"
     },
     "execution_count": 38,
     "metadata": {},
     "output_type": "execute_result"
    }
   ],
   "source": [
    "description_without_stopwords[0]"
   ],
   "metadata": {
    "collapsed": false,
    "pycharm": {
     "name": "#%%\n"
    }
   }
  },
  {
   "cell_type": "code",
   "execution_count": 39,
   "outputs": [
    {
     "data": {
      "text/plain": "'чувствовать себя полным силвставать каждое утро с той ноги испытывать воодушевление  приступая к сложной задаче вроде ремонта квартиры или поиска работы новая книга татьяны мужицкой  это уникальная система практик  которая поможет всегда оставаться в ресурсе даже когда из за эпидемии нельзя рвануть на недельку в тай или посидеть в ресторане с друзьями татьяна объясняет  как черпать жизненные силы из того  что не зависит от внешних обстоятельств ее подход основан на одноименном марафоне только в течение полугода его прошли более  человек их отзывы говорят сами за себя  брать  давать и наслаждаться  это целая система отношений с собой и миром  превращающая нас в настоящий генератор вдохновения и бодрости  быть собой здесь и сейчас  любить себя  наслаждаться моментом   мы часто слышим эти слова и пытаемся им соответствовать кажется  что именно так и нужно а если заменить нужно на можно и сделать это легко и с удовольствием татьяна мужицкая  великий специалист по счастью и удовольствию доверьтесь ей и тогда вашей радости и любви хватит не только на себя и на близких  на весь мир  татьяна лазарева  актриса  телеведущая и общественный деятель'"
     },
     "execution_count": 39,
     "metadata": {},
     "output_type": "execute_result"
    }
   ],
   "source": [
    "description_new[0][0]"
   ],
   "metadata": {
    "collapsed": false,
    "pycharm": {
     "name": "#%%\n"
    }
   }
  },
  {
   "cell_type": "markdown",
   "source": [
    "#### Создаем датафрейм  description_without_stopwords из описаний без стоп-слов"
   ],
   "metadata": {
    "collapsed": false,
    "pycharm": {
     "name": "#%% md\n"
    }
   }
  },
  {
   "cell_type": "code",
   "execution_count": 40,
   "outputs": [],
   "source": [
    "description_without_stopwords = pd.DataFrame(description_without_stopwords)"
   ],
   "metadata": {
    "collapsed": false,
    "pycharm": {
     "name": "#%%\n"
    }
   }
  },
  {
   "cell_type": "code",
   "execution_count": 41,
   "outputs": [
    {
     "data": {
      "text/plain": "                                                      0\n0     чувствовать полным силвставать каждое утро той...\n1     любишь точно знаешь хочешь идешь этому избавит...\n2     эта книга полностью изменит вашу жизнь речь не...\n3     книга полна грубоватых прикольных советов рабо...\n4     психотрюки это простые приемы которые помогают...\n...                                                 ...\n1613  хронический стресс тревога приступы паники нав...\n1614  годы экономического спада стране подкосили мно...\n1615  высокочувствительные люди новые интроверты наз...\n1616  кинесика это молчаливый язык язык тела помощью...\n1617  жизнь кажется пресной безвкуснойвсе краски при...\n\n[1618 rows x 1 columns]",
      "text/html": "<div>\n<style scoped>\n    .dataframe tbody tr th:only-of-type {\n        vertical-align: middle;\n    }\n\n    .dataframe tbody tr th {\n        vertical-align: top;\n    }\n\n    .dataframe thead th {\n        text-align: right;\n    }\n</style>\n<table border=\"1\" class=\"dataframe\">\n  <thead>\n    <tr style=\"text-align: right;\">\n      <th></th>\n      <th>0</th>\n    </tr>\n  </thead>\n  <tbody>\n    <tr>\n      <th>0</th>\n      <td>чувствовать полным силвставать каждое утро той...</td>\n    </tr>\n    <tr>\n      <th>1</th>\n      <td>любишь точно знаешь хочешь идешь этому избавит...</td>\n    </tr>\n    <tr>\n      <th>2</th>\n      <td>эта книга полностью изменит вашу жизнь речь не...</td>\n    </tr>\n    <tr>\n      <th>3</th>\n      <td>книга полна грубоватых прикольных советов рабо...</td>\n    </tr>\n    <tr>\n      <th>4</th>\n      <td>психотрюки это простые приемы которые помогают...</td>\n    </tr>\n    <tr>\n      <th>...</th>\n      <td>...</td>\n    </tr>\n    <tr>\n      <th>1613</th>\n      <td>хронический стресс тревога приступы паники нав...</td>\n    </tr>\n    <tr>\n      <th>1614</th>\n      <td>годы экономического спада стране подкосили мно...</td>\n    </tr>\n    <tr>\n      <th>1615</th>\n      <td>высокочувствительные люди новые интроверты наз...</td>\n    </tr>\n    <tr>\n      <th>1616</th>\n      <td>кинесика это молчаливый язык язык тела помощью...</td>\n    </tr>\n    <tr>\n      <th>1617</th>\n      <td>жизнь кажется пресной безвкуснойвсе краски при...</td>\n    </tr>\n  </tbody>\n</table>\n<p>1618 rows × 1 columns</p>\n</div>"
     },
     "execution_count": 41,
     "metadata": {},
     "output_type": "execute_result"
    }
   ],
   "source": [
    "description_without_stopwords"
   ],
   "metadata": {
    "collapsed": false,
    "pycharm": {
     "name": "#%%\n"
    }
   }
  },
  {
   "cell_type": "markdown",
   "source": [
    "#### Pymorphy2 - приведение к начальной форме с леммотизацией\n"
   ],
   "metadata": {
    "collapsed": false,
    "pycharm": {
     "name": "#%% md\n"
    }
   }
  },
  {
   "cell_type": "code",
   "execution_count": 42,
   "outputs": [],
   "source": [
    "morphy = pymorphy2.MorphAnalyzer()"
   ],
   "metadata": {
    "collapsed": false,
    "pycharm": {
     "name": "#%%\n"
    }
   }
  },
  {
   "cell_type": "code",
   "execution_count": 46,
   "outputs": [],
   "source": [
    "# функция берет слово и приводит его к нормальной форме (например: хочу - хотеть)\n",
    "def parse(text):\n",
    "    y = []\n",
    "    for i in text.split():\n",
    "        y.append(morphy.parse(i)[0].normal_form)\n",
    "    return \" \".join(y)"
   ],
   "metadata": {
    "collapsed": false,
    "pycharm": {
     "name": "#%%\n"
    }
   }
  },
  {
   "cell_type": "code",
   "execution_count": 48,
   "outputs": [
    {
     "data": {
      "text/plain": "'летать'"
     },
     "execution_count": 48,
     "metadata": {},
     "output_type": "execute_result"
    }
   ],
   "source": [
    "morphy.parse('летали')[0].normal_form"
   ],
   "metadata": {
    "collapsed": false,
    "pycharm": {
     "name": "#%%\n"
    }
   }
  },
  {
   "cell_type": "code",
   "execution_count": 51,
   "outputs": [
    {
     "data": {
      "text/plain": "'по-моему, человек нравиться немного полюбоваться разрушением. песочный замки, карточный домик – с это и начинают. великое умение человек – он способность к росту.'"
     },
     "execution_count": 51,
     "metadata": {},
     "output_type": "execute_result"
    }
   ],
   "source": [
    "parse('По-моему, людям нравится немного полюбоваться разрушением. Песочные замки, карточные домики – с этого и начинают. Великое умение человека – его способность к росту.')"
   ],
   "metadata": {
    "collapsed": false,
    "pycharm": {
     "name": "#%%\n"
    }
   }
  },
  {
   "cell_type": "markdown",
   "source": [
    "#### Создаем список описаний, обработанных pymorphy2 через функцию parse"
   ],
   "metadata": {
    "collapsed": false,
    "pycharm": {
     "name": "#%% md\n"
    }
   }
  },
  {
   "cell_type": "code",
   "execution_count": 52,
   "outputs": [
    {
     "name": "stdout",
     "output_type": "stream",
     "text": [
      "CPU times: user 1min 19s, sys: 666 ms, total: 1min 20s\n",
      "Wall time: 1min 21s\n"
     ]
    }
   ],
   "source": [
    "%%time\n",
    "description_pymorphy = []\n",
    "for i in range(len(description_new[0])):\n",
    "    description_pymorphy.append(parse(description_new[0][i]))"
   ],
   "metadata": {
    "collapsed": false,
    "pycharm": {
     "name": "#%%\n"
    }
   }
  },
  {
   "cell_type": "markdown",
   "source": [
    "Пример описания до pymorphy2"
   ],
   "metadata": {
    "collapsed": false,
    "pycharm": {
     "name": "#%% md\n"
    }
   }
  },
  {
   "cell_type": "code",
   "execution_count": 54,
   "outputs": [
    {
     "data": {
      "text/plain": "'эта книга стала легендой американского самиздата выпущенная автором без поддержки издательств  она была куплена на амазоне и других интернет ресурсах более полумиллиона раз даже в россии любительский перевод книги появился задолго до официального  камал равикант  успешный бизнесмен и инвестор  разработал простую методику развития любви к себе к этому его подтолкнула трагическая потеря любимой женщины  серьезные проблемы с бизнесом и  как итог   решение свести счеты с жизнью камала спас сделанный в последний момент выбор  выбор в пользу самого себя в сложный момент жизни ему открылась простая истина только ощущение собственной ценности делает нас по настоящему счастливыми вне зависимости от того  кто мы и что с нами происходит'"
     },
     "execution_count": 54,
     "metadata": {},
     "output_type": "execute_result"
    }
   ],
   "source": [
    "description_new[0][45]"
   ],
   "metadata": {
    "collapsed": false,
    "pycharm": {
     "name": "#%%\n"
    }
   }
  },
  {
   "cell_type": "markdown",
   "source": [
    "Пример обработанного описания после pymorphy2\n"
   ],
   "metadata": {
    "collapsed": false,
    "pycharm": {
     "name": "#%% md\n"
    }
   }
  },
  {
   "cell_type": "code",
   "execution_count": 55,
   "outputs": [
    {
     "data": {
      "text/plain": "'этот книга стать легенда американский самиздат выпустить автор без поддержка издательство она быть купить на амазона и другой интернет ресурс более полмиллиона раз даже в россия любительский перевод книга появиться задолго до официальный камал равикант успешный бизнесмен и инвестор разработать простой методика развитие любовь к себя к этот он подтолкнуть трагический потеря любимый женщина серьёзный проблема с бизнес и как итог решение свести счёты с жизнь камала спасти сделать в последний момент выбор выбор в польза сам себя в сложный момент жизнь он открыться простой истина только ощущение собственный ценность делать мы по настоящий счастливый вне зависимость от тот кто мы и что с мы происходить'"
     },
     "execution_count": 55,
     "metadata": {},
     "output_type": "execute_result"
    }
   ],
   "source": [
    "description_pymorphy[45]"
   ],
   "metadata": {
    "collapsed": false,
    "pycharm": {
     "name": "#%%\n"
    }
   }
  },
  {
   "cell_type": "code",
   "execution_count": 56,
   "outputs": [],
   "source": [
    "# в description_new заносим описания, обработанные pymorphy2\n",
    "for i in range(len(description_new[0])):\n",
    "    description_new[0][i] = description_pymorphy[i]\n",
    "\n",
    "# в data['tags'] заносим описание после обработки pymorphy2 и название секции\n",
    "data['tags'] = description_new[0] + data['section']"
   ],
   "metadata": {
    "collapsed": false,
    "pycharm": {
     "name": "#%%\n"
    }
   }
  },
  {
   "cell_type": "code",
   "execution_count": 57,
   "outputs": [
    {
     "data": {
      "text/plain": "                                                   name            author  \\\n0     Брать, давать и наслаждаться. Как оставаться в...  Татьяна Мужицкая   \n1     Роман с самим собой. Как уравновесить внутренн...  Татьяна Мужицкая   \n2                       Думай медленно... решай быстро    Даниэль Канеман   \n3     НИ СЫ. Будь уверен в своих силах и не позволяй...      Джен Синсеро   \n4     Психотрюки. 69 приемов в общении, которым не у...       Игорь Рызов   \n...                                                 ...               ...   \n1613    Счастливая жизнь без панических атак и страхов                NaN   \n1614                 Думай и богатей в годы безденежья                NaN   \n1615  Близко к сердцу. Как жить, если вы слишком чув...           Санд И.   \n1616  Занимательная кинесика, или Тайны жестов, поз,...               NaN   \n1617  Наслаждение от каждого дня. Доступная всем про...               NaN   \n\n                             section               publish    age    year  \\\n0     Саморазвитие и личностный рост                   NaN   16+   2022.0   \n1     Саморазвитие и личностный рост                   NaN   16+   2022.0   \n2              Популярная психология                   АСТ   16+   2022.0   \n3     Саморазвитие и личностный рост                   NaN   16+   2022.0   \n4     Саморазвитие и личностный рост                   NaN   12+   2022.0   \n...                              ...                   ...    ...     ...   \n1613  Саморазвитие и личностный рост  Издательские решения   16+   2016.0   \n1614  Саморазвитие и личностный рост                   NaN   16+   2018.0   \n1615  Саморазвитие и личностный рост               Альпина    NaN  2016.0   \n1616  Саморазвитие и личностный рост              Прометей    NaN  2022.0   \n1617  Саморазвитие и личностный рост                   NaN   16+   2022.0   \n\n      pages rating                                               cove  \\\n0     256.0     5   https://ndc.book24.ru/resize/410x590/iblock/3d...   \n1     304.0     5   https:https://cdn.book24.ru/v2/ITD000000001044...   \n2     656.0   4,6   https://ndc.book24.ru/resize/410x590/iblock/0a...   \n3     320.0   4,2   https://ndc.book24.ru/resize/410x590/iblock/54...   \n4     256.0     5   https://ndc.book24.ru/resize/410x590/iblock/74...   \n...     ...    ...                                                ...   \n1613  120.0   0,0   https://ndc.book24.ru/resize/410x590/iblock/28...   \n1614  192.0   0,0   https://ndc.book24.ru/resize/410x590/iblock/fe...   \n1615  158.0   0,0   https://ndc.book24.ru/resize/410x590/iblock/fe...   \n1616  480.0   0,0   https://ndc.book24.ru/resize/410x590/iblock/4c...   \n1617  240.0   0,0   https://ndc.book24.ru/resize/410x590/iblock/18...   \n\n                                            description  word_count  \\\n0     Чувствовать себя полным сил. Вставать каждое у...         184   \n1     Когда ты себя любишь, ты точно знаешь, чего хо...         149   \n2     Эта книга полностью изменит вашу жизнь: ведь р...          68   \n3     Книга полна грубоватых и прикольных советов по...         131   \n4     Психотрюки — это простые приемы, которые помог...         108   \n...                                                 ...         ...   \n1613  Хронический стресс, тревога, приступы паники, ...          74   \n1614  Годы экономического спада в стране \"подкосили\"...          64   \n1615  Высокочувствительные люди, или «новые интровер...         120   \n1616  Кинесика — это молчаливый язык, язык тела, с п...         196   \n1617  Жизнь кажется пресной и безвкусной?Все краски ...          34   \n\n                                                   tags  \n0     чувствовать себя полный силвставать каждый утр...  \n1     когда ты себя любить ты точно знать что хотеть...  \n2     этот книга полностью изменить ваш жизнь ведь р...  \n3     книга полный грубоватый и прикольный совет по ...  \n4     психотрюк это простой приём который помогать п...  \n...                                                 ...  \n1613  хронический стресс тревога приступ паника навя...  \n1614  год экономический спад в страна подкосить мног...  \n1615  высокочувствительный человек или новый интрове...  \n1616  кинесика это молчаливый язык язык тело с помощ...  \n1617  жизнь казаться пресный и безвкуснойвсе краска ...  \n\n[1618 rows x 12 columns]",
      "text/html": "<div>\n<style scoped>\n    .dataframe tbody tr th:only-of-type {\n        vertical-align: middle;\n    }\n\n    .dataframe tbody tr th {\n        vertical-align: top;\n    }\n\n    .dataframe thead th {\n        text-align: right;\n    }\n</style>\n<table border=\"1\" class=\"dataframe\">\n  <thead>\n    <tr style=\"text-align: right;\">\n      <th></th>\n      <th>name</th>\n      <th>author</th>\n      <th>section</th>\n      <th>publish</th>\n      <th>age</th>\n      <th>year</th>\n      <th>pages</th>\n      <th>rating</th>\n      <th>cove</th>\n      <th>description</th>\n      <th>word_count</th>\n      <th>tags</th>\n    </tr>\n  </thead>\n  <tbody>\n    <tr>\n      <th>0</th>\n      <td>Брать, давать и наслаждаться. Как оставаться в...</td>\n      <td>Татьяна Мужицкая</td>\n      <td>Саморазвитие и личностный рост</td>\n      <td>NaN</td>\n      <td>16+</td>\n      <td>2022.0</td>\n      <td>256.0</td>\n      <td>5</td>\n      <td>https://ndc.book24.ru/resize/410x590/iblock/3d...</td>\n      <td>Чувствовать себя полным сил. Вставать каждое у...</td>\n      <td>184</td>\n      <td>чувствовать себя полный силвставать каждый утр...</td>\n    </tr>\n    <tr>\n      <th>1</th>\n      <td>Роман с самим собой. Как уравновесить внутренн...</td>\n      <td>Татьяна Мужицкая</td>\n      <td>Саморазвитие и личностный рост</td>\n      <td>NaN</td>\n      <td>16+</td>\n      <td>2022.0</td>\n      <td>304.0</td>\n      <td>5</td>\n      <td>https:https://cdn.book24.ru/v2/ITD000000001044...</td>\n      <td>Когда ты себя любишь, ты точно знаешь, чего хо...</td>\n      <td>149</td>\n      <td>когда ты себя любить ты точно знать что хотеть...</td>\n    </tr>\n    <tr>\n      <th>2</th>\n      <td>Думай медленно... решай быстро</td>\n      <td>Даниэль Канеман</td>\n      <td>Популярная психология</td>\n      <td>АСТ</td>\n      <td>16+</td>\n      <td>2022.0</td>\n      <td>656.0</td>\n      <td>4,6</td>\n      <td>https://ndc.book24.ru/resize/410x590/iblock/0a...</td>\n      <td>Эта книга полностью изменит вашу жизнь: ведь р...</td>\n      <td>68</td>\n      <td>этот книга полностью изменить ваш жизнь ведь р...</td>\n    </tr>\n    <tr>\n      <th>3</th>\n      <td>НИ СЫ. Будь уверен в своих силах и не позволяй...</td>\n      <td>Джен Синсеро</td>\n      <td>Саморазвитие и личностный рост</td>\n      <td>NaN</td>\n      <td>16+</td>\n      <td>2022.0</td>\n      <td>320.0</td>\n      <td>4,2</td>\n      <td>https://ndc.book24.ru/resize/410x590/iblock/54...</td>\n      <td>Книга полна грубоватых и прикольных советов по...</td>\n      <td>131</td>\n      <td>книга полный грубоватый и прикольный совет по ...</td>\n    </tr>\n    <tr>\n      <th>4</th>\n      <td>Психотрюки. 69 приемов в общении, которым не у...</td>\n      <td>Игорь Рызов</td>\n      <td>Саморазвитие и личностный рост</td>\n      <td>NaN</td>\n      <td>12+</td>\n      <td>2022.0</td>\n      <td>256.0</td>\n      <td>5</td>\n      <td>https://ndc.book24.ru/resize/410x590/iblock/74...</td>\n      <td>Психотрюки — это простые приемы, которые помог...</td>\n      <td>108</td>\n      <td>психотрюк это простой приём который помогать п...</td>\n    </tr>\n    <tr>\n      <th>...</th>\n      <td>...</td>\n      <td>...</td>\n      <td>...</td>\n      <td>...</td>\n      <td>...</td>\n      <td>...</td>\n      <td>...</td>\n      <td>...</td>\n      <td>...</td>\n      <td>...</td>\n      <td>...</td>\n      <td>...</td>\n    </tr>\n    <tr>\n      <th>1613</th>\n      <td>Счастливая жизнь без панических атак и страхов</td>\n      <td>NaN</td>\n      <td>Саморазвитие и личностный рост</td>\n      <td>Издательские решения</td>\n      <td>16+</td>\n      <td>2016.0</td>\n      <td>120.0</td>\n      <td>0,0</td>\n      <td>https://ndc.book24.ru/resize/410x590/iblock/28...</td>\n      <td>Хронический стресс, тревога, приступы паники, ...</td>\n      <td>74</td>\n      <td>хронический стресс тревога приступ паника навя...</td>\n    </tr>\n    <tr>\n      <th>1614</th>\n      <td>Думай и богатей в годы безденежья</td>\n      <td>NaN</td>\n      <td>Саморазвитие и личностный рост</td>\n      <td>NaN</td>\n      <td>16+</td>\n      <td>2018.0</td>\n      <td>192.0</td>\n      <td>0,0</td>\n      <td>https://ndc.book24.ru/resize/410x590/iblock/fe...</td>\n      <td>Годы экономического спада в стране \"подкосили\"...</td>\n      <td>64</td>\n      <td>год экономический спад в страна подкосить мног...</td>\n    </tr>\n    <tr>\n      <th>1615</th>\n      <td>Близко к сердцу. Как жить, если вы слишком чув...</td>\n      <td>Санд И.</td>\n      <td>Саморазвитие и личностный рост</td>\n      <td>Альпина</td>\n      <td>NaN</td>\n      <td>2016.0</td>\n      <td>158.0</td>\n      <td>0,0</td>\n      <td>https://ndc.book24.ru/resize/410x590/iblock/fe...</td>\n      <td>Высокочувствительные люди, или «новые интровер...</td>\n      <td>120</td>\n      <td>высокочувствительный человек или новый интрове...</td>\n    </tr>\n    <tr>\n      <th>1616</th>\n      <td>Занимательная кинесика, или Тайны жестов, поз,...</td>\n      <td>NaN</td>\n      <td>Саморазвитие и личностный рост</td>\n      <td>Прометей</td>\n      <td>NaN</td>\n      <td>2022.0</td>\n      <td>480.0</td>\n      <td>0,0</td>\n      <td>https://ndc.book24.ru/resize/410x590/iblock/4c...</td>\n      <td>Кинесика — это молчаливый язык, язык тела, с п...</td>\n      <td>196</td>\n      <td>кинесика это молчаливый язык язык тело с помощ...</td>\n    </tr>\n    <tr>\n      <th>1617</th>\n      <td>Наслаждение от каждого дня. Доступная всем про...</td>\n      <td>NaN</td>\n      <td>Саморазвитие и личностный рост</td>\n      <td>NaN</td>\n      <td>16+</td>\n      <td>2022.0</td>\n      <td>240.0</td>\n      <td>0,0</td>\n      <td>https://ndc.book24.ru/resize/410x590/iblock/18...</td>\n      <td>Жизнь кажется пресной и безвкусной?Все краски ...</td>\n      <td>34</td>\n      <td>жизнь казаться пресный и безвкуснойвсе краска ...</td>\n    </tr>\n  </tbody>\n</table>\n<p>1618 rows × 12 columns</p>\n</div>"
     },
     "execution_count": 57,
     "metadata": {},
     "output_type": "execute_result"
    }
   ],
   "source": [
    "data"
   ],
   "metadata": {
    "collapsed": false,
    "pycharm": {
     "name": "#%%\n"
    }
   }
  },
  {
   "cell_type": "code",
   "execution_count": 58,
   "outputs": [
    {
     "data": {
      "text/plain": "'чувствовать себя полный силвставать каждый утро с тот нога испытывать воодушевление приступать к сложный задача вроде ремонт квартира или поиск работа новый книга татьяна мужицкий это уникальный система практика который помочь всегда оставаться в ресурс даже когда из за эпидемия нельзя рвануть на неделька в тая или посидеть в ресторан с друг татьяна объяснять как черпать жизненный сила из тот что не зависеть от внешний обстоятельство она подход основать на одноимённый марафон только в течение полгода он пройти более человек они отзыв говорить сам за себя брать давать и наслаждаться это целый система отношение с себя и мир превращать мы в настоящий генератор вдохновение и бодрость быть себя здесь и сейчас любить себя наслаждаться момент мы часто слышать этот слово и пытаться они соответствовать казаться что именно так и нужно а если заменить нужно на можно и сделать это легко и с удовольствие татьяна мужицкий великий специалист по счастие и удовольствие довериться она и тогда ваш радость и любовь хватить не только на себя и на близкий на весь мир татьяна лазарев актриса телеведущий и общественный деятельСаморазвитие и личностный рост'"
     },
     "execution_count": 58,
     "metadata": {},
     "output_type": "execute_result"
    }
   ],
   "source": [
    "data.tags[0]"
   ],
   "metadata": {
    "collapsed": false,
    "pycharm": {
     "name": "#%%\n"
    }
   }
  },
  {
   "cell_type": "markdown",
   "source": [
    "В отдельный датафрейм вынесем названия книг и 'tags' - описание после обработки pymorphy2 и название секции"
   ],
   "metadata": {
    "collapsed": false,
    "pycharm": {
     "name": "#%% md\n"
    }
   }
  },
  {
   "cell_type": "code",
   "execution_count": 60,
   "outputs": [
    {
     "data": {
      "text/plain": "                                                   name  \\\n0     Брать, давать и наслаждаться. Как оставаться в...   \n1     Роман с самим собой. Как уравновесить внутренн...   \n2                       Думай медленно... решай быстро    \n3     НИ СЫ. Будь уверен в своих силах и не позволяй...   \n4     Психотрюки. 69 приемов в общении, которым не у...   \n...                                                 ...   \n1613    Счастливая жизнь без панических атак и страхов    \n1614                 Думай и богатей в годы безденежья    \n1615  Близко к сердцу. Как жить, если вы слишком чув...   \n1616  Занимательная кинесика, или Тайны жестов, поз,...   \n1617  Наслаждение от каждого дня. Доступная всем про...   \n\n                                                   tags  \n0     чувствовать себя полный силвставать каждый утр...  \n1     когда ты себя любить ты точно знать что хотеть...  \n2     этот книга полностью изменить ваш жизнь ведь р...  \n3     книга полный грубоватый и прикольный совет по ...  \n4     психотрюк это простой приём который помогать п...  \n...                                                 ...  \n1613  хронический стресс тревога приступ паника навя...  \n1614  год экономический спад в страна подкосить мног...  \n1615  высокочувствительный человек или новый интрове...  \n1616  кинесика это молчаливый язык язык тело с помощ...  \n1617  жизнь казаться пресный и безвкуснойвсе краска ...  \n\n[1618 rows x 2 columns]",
      "text/html": "<div>\n<style scoped>\n    .dataframe tbody tr th:only-of-type {\n        vertical-align: middle;\n    }\n\n    .dataframe tbody tr th {\n        vertical-align: top;\n    }\n\n    .dataframe thead th {\n        text-align: right;\n    }\n</style>\n<table border=\"1\" class=\"dataframe\">\n  <thead>\n    <tr style=\"text-align: right;\">\n      <th></th>\n      <th>name</th>\n      <th>tags</th>\n    </tr>\n  </thead>\n  <tbody>\n    <tr>\n      <th>0</th>\n      <td>Брать, давать и наслаждаться. Как оставаться в...</td>\n      <td>чувствовать себя полный силвставать каждый утр...</td>\n    </tr>\n    <tr>\n      <th>1</th>\n      <td>Роман с самим собой. Как уравновесить внутренн...</td>\n      <td>когда ты себя любить ты точно знать что хотеть...</td>\n    </tr>\n    <tr>\n      <th>2</th>\n      <td>Думай медленно... решай быстро</td>\n      <td>этот книга полностью изменить ваш жизнь ведь р...</td>\n    </tr>\n    <tr>\n      <th>3</th>\n      <td>НИ СЫ. Будь уверен в своих силах и не позволяй...</td>\n      <td>книга полный грубоватый и прикольный совет по ...</td>\n    </tr>\n    <tr>\n      <th>4</th>\n      <td>Психотрюки. 69 приемов в общении, которым не у...</td>\n      <td>психотрюк это простой приём который помогать п...</td>\n    </tr>\n    <tr>\n      <th>...</th>\n      <td>...</td>\n      <td>...</td>\n    </tr>\n    <tr>\n      <th>1613</th>\n      <td>Счастливая жизнь без панических атак и страхов</td>\n      <td>хронический стресс тревога приступ паника навя...</td>\n    </tr>\n    <tr>\n      <th>1614</th>\n      <td>Думай и богатей в годы безденежья</td>\n      <td>год экономический спад в страна подкосить мног...</td>\n    </tr>\n    <tr>\n      <th>1615</th>\n      <td>Близко к сердцу. Как жить, если вы слишком чув...</td>\n      <td>высокочувствительный человек или новый интрове...</td>\n    </tr>\n    <tr>\n      <th>1616</th>\n      <td>Занимательная кинесика, или Тайны жестов, поз,...</td>\n      <td>кинесика это молчаливый язык язык тело с помощ...</td>\n    </tr>\n    <tr>\n      <th>1617</th>\n      <td>Наслаждение от каждого дня. Доступная всем про...</td>\n      <td>жизнь казаться пресный и безвкуснойвсе краска ...</td>\n    </tr>\n  </tbody>\n</table>\n<p>1618 rows × 2 columns</p>\n</div>"
     },
     "execution_count": 60,
     "metadata": {},
     "output_type": "execute_result"
    }
   ],
   "source": [
    "name_tags = data[['name', 'tags']]\n",
    "name_tags"
   ],
   "metadata": {
    "collapsed": false,
    "pycharm": {
     "name": "#%%\n"
    }
   }
  },
  {
   "cell_type": "markdown",
   "source": [
    "#### Сохраняем датафрейм с названиями книг и 'tags' (описание после обработки pymorphy2 и название секции) в tags.csv"
   ],
   "metadata": {
    "collapsed": false,
    "pycharm": {
     "name": "#%% md\n"
    }
   }
  },
  {
   "cell_type": "code",
   "execution_count": 62,
   "outputs": [],
   "source": [
    "name_tags.to_csv(r'/Users/dianaverevkina/Diplom_project/Diploma — копия 3/data_preparation/tags.csv', index=False)"
   ],
   "metadata": {
    "collapsed": false,
    "pycharm": {
     "name": "#%%\n"
    }
   }
  },
  {
   "cell_type": "markdown",
   "source": [
    "#### spacy - лемматизация"
   ],
   "metadata": {
    "collapsed": false,
    "pycharm": {
     "name": "#%% md\n"
    }
   }
  },
  {
   "cell_type": "markdown",
   "source": [
    "#### Возвращаяемся к датафрейму description_without_stopwords из описаний без стоп-слов\n"
   ],
   "metadata": {
    "collapsed": false,
    "pycharm": {
     "name": "#%% md\n"
    }
   }
  },
  {
   "cell_type": "code",
   "execution_count": 63,
   "outputs": [
    {
     "data": {
      "text/plain": "                                                   0\n0  чувствовать полным силвставать каждое утро той...\n1  любишь точно знаешь хочешь идешь этому избавит...\n2  эта книга полностью изменит вашу жизнь речь не...\n3  книга полна грубоватых прикольных советов рабо...\n4  психотрюки это простые приемы которые помогают...",
      "text/html": "<div>\n<style scoped>\n    .dataframe tbody tr th:only-of-type {\n        vertical-align: middle;\n    }\n\n    .dataframe tbody tr th {\n        vertical-align: top;\n    }\n\n    .dataframe thead th {\n        text-align: right;\n    }\n</style>\n<table border=\"1\" class=\"dataframe\">\n  <thead>\n    <tr style=\"text-align: right;\">\n      <th></th>\n      <th>0</th>\n    </tr>\n  </thead>\n  <tbody>\n    <tr>\n      <th>0</th>\n      <td>чувствовать полным силвставать каждое утро той...</td>\n    </tr>\n    <tr>\n      <th>1</th>\n      <td>любишь точно знаешь хочешь идешь этому избавит...</td>\n    </tr>\n    <tr>\n      <th>2</th>\n      <td>эта книга полностью изменит вашу жизнь речь не...</td>\n    </tr>\n    <tr>\n      <th>3</th>\n      <td>книга полна грубоватых прикольных советов рабо...</td>\n    </tr>\n    <tr>\n      <th>4</th>\n      <td>психотрюки это простые приемы которые помогают...</td>\n    </tr>\n  </tbody>\n</table>\n</div>"
     },
     "execution_count": 63,
     "metadata": {},
     "output_type": "execute_result"
    }
   ],
   "source": [
    "description_without_stopwords[:5]"
   ],
   "metadata": {
    "collapsed": false,
    "pycharm": {
     "name": "#%%\n"
    }
   }
  },
  {
   "cell_type": "code",
   "execution_count": 64,
   "outputs": [
    {
     "data": {
      "text/plain": "'любишь точно знаешь хочешь идешь этому избавиться негативного шума голове принять перестать сомневаться будущем излучать мир счастье позитив татьяна мужицкая известный психолог бизнес тренер поделится техниками соединить энергии иня яна отдаться волю обстоятельств одновременно трансформировать мир наполнив собой эта книга научит принимать подарки вселенной получать удовольствие жизни любить каждом своем проявлении татьяна надежный партнер игре жизнь это хранитель высочайшей категории которому доверять сто удается хранить тайну разбалтывая всем каждому максимально корректно доходчиво прочтения книги любви появится столько любой почувствует право делать самое главное жизни бесстрашно творить вадим демчог актер режиссер психолог кандидат психологических наук'"
     },
     "execution_count": 64,
     "metadata": {},
     "output_type": "execute_result"
    }
   ],
   "source": [
    "description_without_stopwords[0][1]"
   ],
   "metadata": {
    "collapsed": false,
    "pycharm": {
     "name": "#%%\n"
    }
   }
  },
  {
   "cell_type": "code",
   "execution_count": 65,
   "outputs": [],
   "source": [
    "import spacy\n",
    "nlp = spacy.load('ru_core_news_sm')"
   ],
   "metadata": {
    "collapsed": false,
    "pycharm": {
     "name": "#%%\n"
    }
   }
  },
  {
   "cell_type": "code",
   "execution_count": 66,
   "outputs": [],
   "source": [
    "# обработка текста через spacy\n",
    "def spacylem(text):\n",
    "   doc = nlp(text)\n",
    "   tokens = [token.lemma_ for token in doc]\n",
    "   return \" \".join(tokens)"
   ],
   "metadata": {
    "collapsed": false,
    "pycharm": {
     "name": "#%%\n"
    }
   }
  },
  {
   "cell_type": "code",
   "execution_count": 67,
   "outputs": [
    {
     "data": {
      "text/plain": "'по - моему , человек нравиться немного полюбоваться разрушение . песочный замок , карточный домик – с это и начинать . великий умение человек – его способность к рост .'"
     },
     "execution_count": 67,
     "metadata": {},
     "output_type": "execute_result"
    }
   ],
   "source": [
    "spacylem('По-моему, людям нравится немного полюбоваться разрушением. Песочные замки, карточные домики – с этого и начинают. Великое умение человека – его способность к росту.')"
   ],
   "metadata": {
    "collapsed": false,
    "pycharm": {
     "name": "#%%\n"
    }
   }
  },
  {
   "cell_type": "markdown",
   "source": [
    "#### Создаем список с описаниями, обработанными spacylem"
   ],
   "metadata": {
    "collapsed": false,
    "pycharm": {
     "name": "#%% md\n"
    }
   }
  },
  {
   "cell_type": "code",
   "execution_count": 68,
   "outputs": [
    {
     "name": "stdout",
     "output_type": "stream",
     "text": [
      "CPU times: user 1min 29s, sys: 2.07 s, total: 1min 31s\n",
      "Wall time: 1min 32s\n"
     ]
    }
   ],
   "source": [
    "%%time\n",
    "\n",
    "description_spacylem = []\n",
    "for i in range(len(description_without_stopwords[0])):\n",
    "    description_spacylem.append(spacylem(description_without_stopwords[0][i]))"
   ],
   "metadata": {
    "collapsed": false,
    "pycharm": {
     "name": "#%%\n"
    }
   }
  },
  {
   "cell_type": "code",
   "execution_count": 69,
   "outputs": [
    {
     "data": {
      "text/plain": "'чувствовать полный силвставать каждый утро тот нога испытывать воодушевление приступая сложный задаче вроде ремонт квартира поиск работа новый книга татьяна мужицкой это уникальный система практика которая помочь оставаться ресурсе эпидемия рвануть неделька тай посидеть ресторане друг татьяна объяснять черпать жизненный сила зависеть внешний обстоятельство подход основать одноимённый марафон течение полугода пройти человек отзыв говорить сами брать давать наслаждаться это целый система отношение себя мир превращать настоящий генератор вдохновение бодрость себя любить наслаждаться момент часто слышать слово пытаться соответствовать казаться именно нужный заменить нужный сделать это легко удовольствие татьяна мужицкий великий специалист счастью удовольствие доверьтесь ваш радость любовь хватить близкий весь мир татьяна лазарев актриса телеведущий общественный деятель'"
     },
     "execution_count": 69,
     "metadata": {},
     "output_type": "execute_result"
    }
   ],
   "source": [
    "description_spacylem[0]"
   ],
   "metadata": {
    "collapsed": false,
    "pycharm": {
     "name": "#%%\n"
    }
   }
  },
  {
   "cell_type": "markdown",
   "source": [
    "#### Загружаем полученные описания в descr[0][i]"
   ],
   "metadata": {
    "collapsed": false,
    "pycharm": {
     "name": "#%% md\n"
    }
   }
  },
  {
   "cell_type": "code",
   "execution_count": 70,
   "outputs": [],
   "source": [
    "description = description_without_stopwords\n",
    "for i in range(len(description[0])):\n",
    "    description[0][i] = description_spacylem[i]"
   ],
   "metadata": {
    "collapsed": false,
    "pycharm": {
     "name": "#%%\n"
    }
   }
  },
  {
   "cell_type": "markdown",
   "source": [
    "#### Загружаем description[0] в data['tags']\n"
   ],
   "metadata": {
    "collapsed": false,
    "pycharm": {
     "name": "#%% md\n"
    }
   }
  },
  {
   "cell_type": "code",
   "execution_count": 71,
   "outputs": [],
   "source": [
    "data['tags'] = description[0]"
   ],
   "metadata": {
    "collapsed": false,
    "pycharm": {
     "name": "#%%\n"
    }
   }
  },
  {
   "cell_type": "markdown",
   "source": [
    "#### Создаем новый df new_data_spacy = data['name', 'tags']"
   ],
   "metadata": {
    "collapsed": false,
    "pycharm": {
     "name": "#%% md\n"
    }
   }
  },
  {
   "cell_type": "code",
   "execution_count": 72,
   "outputs": [
    {
     "data": {
      "text/plain": "                                                   name  \\\n0     Брать, давать и наслаждаться. Как оставаться в...   \n1     Роман с самим собой. Как уравновесить внутренн...   \n2                       Думай медленно... решай быстро    \n3     НИ СЫ. Будь уверен в своих силах и не позволяй...   \n4     Психотрюки. 69 приемов в общении, которым не у...   \n...                                                 ...   \n1613    Счастливая жизнь без панических атак и страхов    \n1614                 Думай и богатей в годы безденежья    \n1615  Близко к сердцу. Как жить, если вы слишком чув...   \n1616  Занимательная кинесика, или Тайны жестов, поз,...   \n1617  Наслаждение от каждого дня. Доступная всем про...   \n\n                                                   tags  \n0     чувствовать полный силвставать каждый утро тот...  \n1     любить точно знать хотеть идти это избавиться ...  \n2     этот книга полностью изменить ваш жизнь речь н...  \n3     книга полна грубоватый прикольный совет работа...  \n4     психотрюки это простой приём которые помогать ...  \n...                                                 ...  \n1613  хронический стресс тревога приступы паника нав...  \n1614  год экономический спад страна подкосить многих...  \n1615  высокочувствительный человек новый интроверт н...  \n1616  кинесика это молчаливый язык язык тело помощью...  \n1617  жизнь казаться пресной безвкуснойвсе краска пр...  \n\n[1618 rows x 2 columns]",
      "text/html": "<div>\n<style scoped>\n    .dataframe tbody tr th:only-of-type {\n        vertical-align: middle;\n    }\n\n    .dataframe tbody tr th {\n        vertical-align: top;\n    }\n\n    .dataframe thead th {\n        text-align: right;\n    }\n</style>\n<table border=\"1\" class=\"dataframe\">\n  <thead>\n    <tr style=\"text-align: right;\">\n      <th></th>\n      <th>name</th>\n      <th>tags</th>\n    </tr>\n  </thead>\n  <tbody>\n    <tr>\n      <th>0</th>\n      <td>Брать, давать и наслаждаться. Как оставаться в...</td>\n      <td>чувствовать полный силвставать каждый утро тот...</td>\n    </tr>\n    <tr>\n      <th>1</th>\n      <td>Роман с самим собой. Как уравновесить внутренн...</td>\n      <td>любить точно знать хотеть идти это избавиться ...</td>\n    </tr>\n    <tr>\n      <th>2</th>\n      <td>Думай медленно... решай быстро</td>\n      <td>этот книга полностью изменить ваш жизнь речь н...</td>\n    </tr>\n    <tr>\n      <th>3</th>\n      <td>НИ СЫ. Будь уверен в своих силах и не позволяй...</td>\n      <td>книга полна грубоватый прикольный совет работа...</td>\n    </tr>\n    <tr>\n      <th>4</th>\n      <td>Психотрюки. 69 приемов в общении, которым не у...</td>\n      <td>психотрюки это простой приём которые помогать ...</td>\n    </tr>\n    <tr>\n      <th>...</th>\n      <td>...</td>\n      <td>...</td>\n    </tr>\n    <tr>\n      <th>1613</th>\n      <td>Счастливая жизнь без панических атак и страхов</td>\n      <td>хронический стресс тревога приступы паника нав...</td>\n    </tr>\n    <tr>\n      <th>1614</th>\n      <td>Думай и богатей в годы безденежья</td>\n      <td>год экономический спад страна подкосить многих...</td>\n    </tr>\n    <tr>\n      <th>1615</th>\n      <td>Близко к сердцу. Как жить, если вы слишком чув...</td>\n      <td>высокочувствительный человек новый интроверт н...</td>\n    </tr>\n    <tr>\n      <th>1616</th>\n      <td>Занимательная кинесика, или Тайны жестов, поз,...</td>\n      <td>кинесика это молчаливый язык язык тело помощью...</td>\n    </tr>\n    <tr>\n      <th>1617</th>\n      <td>Наслаждение от каждого дня. Доступная всем про...</td>\n      <td>жизнь казаться пресной безвкуснойвсе краска пр...</td>\n    </tr>\n  </tbody>\n</table>\n<p>1618 rows × 2 columns</p>\n</div>"
     },
     "execution_count": 72,
     "metadata": {},
     "output_type": "execute_result"
    }
   ],
   "source": [
    "new_data_spacy = data[['name', 'tags']]\n",
    "new_data_spacy"
   ],
   "metadata": {
    "collapsed": false,
    "pycharm": {
     "name": "#%%\n"
    }
   }
  },
  {
   "cell_type": "markdown",
   "source": [
    "#### Сохраняем df с названиями книг и tags после обработки spacy в spacylem.csv"
   ],
   "metadata": {
    "collapsed": false,
    "pycharm": {
     "name": "#%% md\n"
    }
   }
  },
  {
   "cell_type": "code",
   "execution_count": 73,
   "outputs": [],
   "source": [
    "new_data_spacy.to_csv(r'/Users/dianaverevkina/Diplom_project/Diploma — копия 3/data_preparation/spacylem.csv', index=False)"
   ],
   "metadata": {
    "collapsed": false,
    "pycharm": {
     "name": "#%%\n"
    }
   }
  },
  {
   "cell_type": "markdown",
   "source": [
    "### Стемминг\n",
    "процесс нахождения основы слова"
   ],
   "metadata": {
    "collapsed": false,
    "pycharm": {
     "name": "#%% md\n"
    }
   }
  },
  {
   "cell_type": "code",
   "execution_count": 74,
   "outputs": [],
   "source": [
    "import nltk\n",
    "from nltk.stem.snowball import SnowballStemmer\n",
    "\n",
    "stemmer = SnowballStemmer(language='russian')\n",
    "tokenizer = nltk.tokenize.WhitespaceTokenizer()\n",
    "# функция, отрезающая окончания слов\n",
    "def stemming(text):\n",
    "   tokens = [stemmer.stem(w) for w in tokenizer.tokenize(text)]\n",
    "   return \" \".join(tokens)"
   ],
   "metadata": {
    "collapsed": false,
    "pycharm": {
     "name": "#%%\n"
    }
   }
  },
  {
   "cell_type": "code",
   "execution_count": 75,
   "outputs": [
    {
     "data": {
      "text/plain": "'велик умен человек – ег способн к росту.'"
     },
     "execution_count": 75,
     "metadata": {},
     "output_type": "execute_result"
    }
   ],
   "source": [
    "stemming('Великое умение человека – его способность к росту.')"
   ],
   "metadata": {
    "collapsed": false,
    "pycharm": {
     "name": "#%%\n"
    }
   }
  },
  {
   "cell_type": "markdown",
   "source": [
    "#### Создаем список stemming_data из new_data_spacy['tags'] без окончаний слов (стемминг)"
   ],
   "metadata": {
    "collapsed": false,
    "pycharm": {
     "name": "#%% md\n"
    }
   }
  },
  {
   "cell_type": "code",
   "execution_count": 76,
   "outputs": [
    {
     "name": "stdout",
     "output_type": "stream",
     "text": [
      "CPU times: user 11.6 s, sys: 70.1 ms, total: 11.6 s\n",
      "Wall time: 11.7 s\n"
     ]
    }
   ],
   "source": [
    "%%time\n",
    "stemming_data = []\n",
    "for i in range(len(new_data_spacy['tags'])):\n",
    "    stemming_data.append(stemming(new_data_spacy['tags'][i]))"
   ],
   "metadata": {
    "collapsed": false,
    "pycharm": {
     "name": "#%%\n"
    }
   }
  },
  {
   "cell_type": "code",
   "execution_count": 77,
   "outputs": [
    {
     "data": {
      "text/plain": "'чувствова полн силвстава кажд утр тот ног испытыва воодушевлен приступ сложн задач врод ремонт квартир поиск работ нов книг татья мужицк эт уникальн систем практик котор помоч остава ресурс эпидем рванут недельк та посидет ресторан друг татья объясня черпа жизнен сил зависет внешн обстоятельств подход основа одноимен марафон течен полугод пройт человек отз говор сам брат дава наслажда эт цел систем отношен себ мир превраща настоя генератор вдохновен бодрост себ люб наслажда момент част слыша слов пыта соответствова каза имен нужн замен нужн сдела эт легк удовольств татья мужицк велик специалист счаст удовольств доверьт ваш радост любов хват близк ве мир татья лазар актрис телеведущ обществен деятел'"
     },
     "execution_count": 77,
     "metadata": {},
     "output_type": "execute_result"
    }
   ],
   "source": [
    "stemming_data[0]"
   ],
   "metadata": {
    "collapsed": false,
    "pycharm": {
     "name": "#%%\n"
    }
   }
  },
  {
   "cell_type": "code",
   "execution_count": 78,
   "outputs": [],
   "source": [
    "description = pd.DataFrame(description)"
   ],
   "metadata": {
    "collapsed": false,
    "pycharm": {
     "name": "#%%\n"
    }
   }
  },
  {
   "cell_type": "code",
   "execution_count": 79,
   "outputs": [
    {
     "data": {
      "text/plain": "                                                      0\n0     чувствовать полный силвставать каждый утро тот...\n1     любить точно знать хотеть идти это избавиться ...\n2     этот книга полностью изменить ваш жизнь речь н...\n3     книга полна грубоватый прикольный совет работа...\n4     психотрюки это простой приём которые помогать ...\n...                                                 ...\n1613  хронический стресс тревога приступы паника нав...\n1614  год экономический спад страна подкосить многих...\n1615  высокочувствительный человек новый интроверт н...\n1616  кинесика это молчаливый язык язык тело помощью...\n1617  жизнь казаться пресной безвкуснойвсе краска пр...\n\n[1618 rows x 1 columns]",
      "text/html": "<div>\n<style scoped>\n    .dataframe tbody tr th:only-of-type {\n        vertical-align: middle;\n    }\n\n    .dataframe tbody tr th {\n        vertical-align: top;\n    }\n\n    .dataframe thead th {\n        text-align: right;\n    }\n</style>\n<table border=\"1\" class=\"dataframe\">\n  <thead>\n    <tr style=\"text-align: right;\">\n      <th></th>\n      <th>0</th>\n    </tr>\n  </thead>\n  <tbody>\n    <tr>\n      <th>0</th>\n      <td>чувствовать полный силвставать каждый утро тот...</td>\n    </tr>\n    <tr>\n      <th>1</th>\n      <td>любить точно знать хотеть идти это избавиться ...</td>\n    </tr>\n    <tr>\n      <th>2</th>\n      <td>этот книга полностью изменить ваш жизнь речь н...</td>\n    </tr>\n    <tr>\n      <th>3</th>\n      <td>книга полна грубоватый прикольный совет работа...</td>\n    </tr>\n    <tr>\n      <th>4</th>\n      <td>психотрюки это простой приём которые помогать ...</td>\n    </tr>\n    <tr>\n      <th>...</th>\n      <td>...</td>\n    </tr>\n    <tr>\n      <th>1613</th>\n      <td>хронический стресс тревога приступы паника нав...</td>\n    </tr>\n    <tr>\n      <th>1614</th>\n      <td>год экономический спад страна подкосить многих...</td>\n    </tr>\n    <tr>\n      <th>1615</th>\n      <td>высокочувствительный человек новый интроверт н...</td>\n    </tr>\n    <tr>\n      <th>1616</th>\n      <td>кинесика это молчаливый язык язык тело помощью...</td>\n    </tr>\n    <tr>\n      <th>1617</th>\n      <td>жизнь казаться пресной безвкуснойвсе краска пр...</td>\n    </tr>\n  </tbody>\n</table>\n<p>1618 rows × 1 columns</p>\n</div>"
     },
     "execution_count": 79,
     "metadata": {},
     "output_type": "execute_result"
    }
   ],
   "source": [
    "description"
   ],
   "metadata": {
    "collapsed": false,
    "pycharm": {
     "name": "#%%\n"
    }
   }
  },
  {
   "cell_type": "markdown",
   "source": [
    "#### Загружаем stemming_data(описания без окончаний) в descr"
   ],
   "metadata": {
    "collapsed": false,
    "pycharm": {
     "name": "#%% md\n"
    }
   }
  },
  {
   "cell_type": "code",
   "execution_count": 80,
   "outputs": [],
   "source": [
    "for i in range(len(new_data_spacy['tags'])):\n",
    "    description[0][i] = stemming_data[i]"
   ],
   "metadata": {
    "collapsed": false,
    "pycharm": {
     "name": "#%%\n"
    }
   }
  },
  {
   "cell_type": "code",
   "execution_count": 81,
   "outputs": [],
   "source": [
    "data['tags'] = description[0] + data['section']"
   ],
   "metadata": {
    "collapsed": false,
    "pycharm": {
     "name": "#%%\n"
    }
   }
  },
  {
   "cell_type": "markdown",
   "source": [
    "#### В new_data_spacy кладем df с названиями книг и описаниями без окончаний"
   ],
   "metadata": {
    "collapsed": false,
    "pycharm": {
     "name": "#%% md\n"
    }
   }
  },
  {
   "cell_type": "code",
   "execution_count": 82,
   "outputs": [
    {
     "data": {
      "text/plain": "                                                   name  \\\n0     Брать, давать и наслаждаться. Как оставаться в...   \n1     Роман с самим собой. Как уравновесить внутренн...   \n2                       Думай медленно... решай быстро    \n3     НИ СЫ. Будь уверен в своих силах и не позволяй...   \n4     Психотрюки. 69 приемов в общении, которым не у...   \n...                                                 ...   \n1613    Счастливая жизнь без панических атак и страхов    \n1614                 Думай и богатей в годы безденежья    \n1615  Близко к сердцу. Как жить, если вы слишком чув...   \n1616  Занимательная кинесика, или Тайны жестов, поз,...   \n1617  Наслаждение от каждого дня. Доступная всем про...   \n\n                                                   tags  \n0     чувствова полн силвстава кажд утр тот ног испы...  \n1     люб точн знат хотет идт эт избав негативн шум ...  \n2     этот книг полност измен ваш жизн реч нерациона...  \n3     книг полн грубоват прикольн совет работ сво об...  \n4     психотрюк эт прост при котор помога постав хам...  \n...                                                 ...  \n1613  хроническ стресс тревог приступ паник навязчив...  \n1614  год экономическ спад стран подкос мног человек...  \n1615  высокочувствительн человек нов интроверт назыв...  \n1616  кинесик эт молчалив язык язык тел помощ котор ...  \n1617  жизн каза пресн безвкуснойвс краск притуш звук...  \n\n[1618 rows x 2 columns]",
      "text/html": "<div>\n<style scoped>\n    .dataframe tbody tr th:only-of-type {\n        vertical-align: middle;\n    }\n\n    .dataframe tbody tr th {\n        vertical-align: top;\n    }\n\n    .dataframe thead th {\n        text-align: right;\n    }\n</style>\n<table border=\"1\" class=\"dataframe\">\n  <thead>\n    <tr style=\"text-align: right;\">\n      <th></th>\n      <th>name</th>\n      <th>tags</th>\n    </tr>\n  </thead>\n  <tbody>\n    <tr>\n      <th>0</th>\n      <td>Брать, давать и наслаждаться. Как оставаться в...</td>\n      <td>чувствова полн силвстава кажд утр тот ног испы...</td>\n    </tr>\n    <tr>\n      <th>1</th>\n      <td>Роман с самим собой. Как уравновесить внутренн...</td>\n      <td>люб точн знат хотет идт эт избав негативн шум ...</td>\n    </tr>\n    <tr>\n      <th>2</th>\n      <td>Думай медленно... решай быстро</td>\n      <td>этот книг полност измен ваш жизн реч нерациона...</td>\n    </tr>\n    <tr>\n      <th>3</th>\n      <td>НИ СЫ. Будь уверен в своих силах и не позволяй...</td>\n      <td>книг полн грубоват прикольн совет работ сво об...</td>\n    </tr>\n    <tr>\n      <th>4</th>\n      <td>Психотрюки. 69 приемов в общении, которым не у...</td>\n      <td>психотрюк эт прост при котор помога постав хам...</td>\n    </tr>\n    <tr>\n      <th>...</th>\n      <td>...</td>\n      <td>...</td>\n    </tr>\n    <tr>\n      <th>1613</th>\n      <td>Счастливая жизнь без панических атак и страхов</td>\n      <td>хроническ стресс тревог приступ паник навязчив...</td>\n    </tr>\n    <tr>\n      <th>1614</th>\n      <td>Думай и богатей в годы безденежья</td>\n      <td>год экономическ спад стран подкос мног человек...</td>\n    </tr>\n    <tr>\n      <th>1615</th>\n      <td>Близко к сердцу. Как жить, если вы слишком чув...</td>\n      <td>высокочувствительн человек нов интроверт назыв...</td>\n    </tr>\n    <tr>\n      <th>1616</th>\n      <td>Занимательная кинесика, или Тайны жестов, поз,...</td>\n      <td>кинесик эт молчалив язык язык тел помощ котор ...</td>\n    </tr>\n    <tr>\n      <th>1617</th>\n      <td>Наслаждение от каждого дня. Доступная всем про...</td>\n      <td>жизн каза пресн безвкуснойвс краск притуш звук...</td>\n    </tr>\n  </tbody>\n</table>\n<p>1618 rows × 2 columns</p>\n</div>"
     },
     "execution_count": 82,
     "metadata": {},
     "output_type": "execute_result"
    }
   ],
   "source": [
    "new_data_spacy = data[['name', 'tags']]\n",
    "new_data_spacy"
   ],
   "metadata": {
    "collapsed": false,
    "pycharm": {
     "name": "#%%\n"
    }
   }
  },
  {
   "cell_type": "code",
   "execution_count": 83,
   "outputs": [
    {
     "data": {
      "text/plain": "'чувствова полн силвстава кажд утр тот ног испытыва воодушевлен приступ сложн задач врод ремонт квартир поиск работ нов книг татья мужицк эт уникальн систем практик котор помоч остава ресурс эпидем рванут недельк та посидет ресторан друг татья объясня черпа жизнен сил зависет внешн обстоятельств подход основа одноимен марафон течен полугод пройт человек отз говор сам брат дава наслажда эт цел систем отношен себ мир превраща настоя генератор вдохновен бодрост себ люб наслажда момент част слыша слов пыта соответствова каза имен нужн замен нужн сдела эт легк удовольств татья мужицк велик специалист счаст удовольств доверьт ваш радост любов хват близк ве мир татья лазар актрис телеведущ обществен деятелСаморазвитие и личностный рост'"
     },
     "execution_count": 83,
     "metadata": {},
     "output_type": "execute_result"
    }
   ],
   "source": [
    "new_data_spacy['tags'][0]"
   ],
   "metadata": {
    "collapsed": false,
    "pycharm": {
     "name": "#%%\n"
    }
   }
  },
  {
   "cell_type": "markdown",
   "source": [
    "#### Сохраням new_dfspacy с названиями книг и описаниями без окончаний - Spacy"
   ],
   "metadata": {
    "collapsed": false,
    "pycharm": {
     "name": "#%% md\n"
    }
   }
  },
  {
   "cell_type": "code",
   "execution_count": 84,
   "outputs": [],
   "source": [
    "new_data_spacy.to_csv(r'/Users/dianaverevkina/Diplom_project/Diploma — копия 3/data_preparation/spacylem.csv', index=False)"
   ],
   "metadata": {
    "collapsed": false,
    "pycharm": {
     "name": "#%%\n"
    }
   }
  },
  {
   "cell_type": "code",
   "execution_count": 85,
   "outputs": [],
   "source": [
    "new_data_spacy = pd.read_csv('spacylem.csv')"
   ],
   "metadata": {
    "collapsed": false,
    "pycharm": {
     "name": "#%%\n"
    }
   }
  },
  {
   "cell_type": "code",
   "execution_count": 86,
   "outputs": [
    {
     "data": {
      "text/plain": "                                                name  \\\n0  Брать, давать и наслаждаться. Как оставаться в...   \n1  Роман с самим собой. Как уравновесить внутренн...   \n2                    Думай медленно... решай быстро    \n3  НИ СЫ. Будь уверен в своих силах и не позволяй...   \n4  Психотрюки. 69 приемов в общении, которым не у...   \n\n                                                tags  \n0  чувствова полн силвстава кажд утр тот ног испы...  \n1  люб точн знат хотет идт эт избав негативн шум ...  \n2  этот книг полност измен ваш жизн реч нерациона...  \n3  книг полн грубоват прикольн совет работ сво об...  \n4  психотрюк эт прост при котор помога постав хам...  ",
      "text/html": "<div>\n<style scoped>\n    .dataframe tbody tr th:only-of-type {\n        vertical-align: middle;\n    }\n\n    .dataframe tbody tr th {\n        vertical-align: top;\n    }\n\n    .dataframe thead th {\n        text-align: right;\n    }\n</style>\n<table border=\"1\" class=\"dataframe\">\n  <thead>\n    <tr style=\"text-align: right;\">\n      <th></th>\n      <th>name</th>\n      <th>tags</th>\n    </tr>\n  </thead>\n  <tbody>\n    <tr>\n      <th>0</th>\n      <td>Брать, давать и наслаждаться. Как оставаться в...</td>\n      <td>чувствова полн силвстава кажд утр тот ног испы...</td>\n    </tr>\n    <tr>\n      <th>1</th>\n      <td>Роман с самим собой. Как уравновесить внутренн...</td>\n      <td>люб точн знат хотет идт эт избав негативн шум ...</td>\n    </tr>\n    <tr>\n      <th>2</th>\n      <td>Думай медленно... решай быстро</td>\n      <td>этот книг полност измен ваш жизн реч нерациона...</td>\n    </tr>\n    <tr>\n      <th>3</th>\n      <td>НИ СЫ. Будь уверен в своих силах и не позволяй...</td>\n      <td>книг полн грубоват прикольн совет работ сво об...</td>\n    </tr>\n    <tr>\n      <th>4</th>\n      <td>Психотрюки. 69 приемов в общении, которым не у...</td>\n      <td>психотрюк эт прост при котор помога постав хам...</td>\n    </tr>\n  </tbody>\n</table>\n</div>"
     },
     "execution_count": 86,
     "metadata": {},
     "output_type": "execute_result"
    }
   ],
   "source": [
    "new_data_spacy[:5]"
   ],
   "metadata": {
    "collapsed": false,
    "pycharm": {
     "name": "#%%\n"
    }
   }
  },
  {
   "cell_type": "markdown",
   "source": [
    "#### description_spacylem - список с описаниями, обработанными spacylem"
   ],
   "metadata": {
    "collapsed": false,
    "pycharm": {
     "name": "#%% md\n"
    }
   }
  },
  {
   "cell_type": "code",
   "execution_count": 87,
   "outputs": [
    {
     "data": {
      "text/plain": "1618"
     },
     "execution_count": 87,
     "metadata": {},
     "output_type": "execute_result"
    }
   ],
   "source": [
    "len(description_spacylem)"
   ],
   "metadata": {
    "collapsed": false,
    "pycharm": {
     "name": "#%%\n"
    }
   }
  },
  {
   "cell_type": "markdown",
   "source": [
    "Создаем список cba из stemming(description_spacylem[i])"
   ],
   "metadata": {
    "collapsed": false,
    "pycharm": {
     "name": "#%% md\n"
    }
   }
  },
  {
   "cell_type": "code",
   "execution_count": 89,
   "outputs": [
    {
     "name": "stdout",
     "output_type": "stream",
     "text": [
      "CPU times: user 11.3 s, sys: 55.3 ms, total: 11.4 s\n",
      "Wall time: 11.6 s\n"
     ]
    }
   ],
   "source": [
    "%%time\n",
    "stemming_spacylem = []\n",
    "for i in range(len(description_spacylem)):\n",
    "    stemming_spacylem.append(stemming(description_spacylem[i]))"
   ],
   "metadata": {
    "collapsed": false,
    "pycharm": {
     "name": "#%%\n"
    }
   }
  },
  {
   "cell_type": "code",
   "execution_count": 91,
   "outputs": [],
   "source": [
    "prover = []\n",
    "for i in range(len(description_spacylem)):\n",
    "    if new_data_spacy['tags'][i] != stemming_spacylem[i]:\n",
    "        prover.append(i)"
   ],
   "metadata": {
    "collapsed": false,
    "pycharm": {
     "name": "#%%\n"
    }
   }
  },
  {
   "cell_type": "code",
   "execution_count": 92,
   "outputs": [
    {
     "data": {
      "text/plain": "1618"
     },
     "execution_count": 92,
     "metadata": {},
     "output_type": "execute_result"
    }
   ],
   "source": [
    "len(prover)"
   ],
   "metadata": {
    "collapsed": false,
    "pycharm": {
     "name": "#%%\n"
    }
   }
  },
  {
   "cell_type": "markdown",
   "source": [
    "#### PyMorphy2\n"
   ],
   "metadata": {
    "collapsed": false,
    "pycharm": {
     "name": "#%% md\n"
    }
   }
  },
  {
   "cell_type": "markdown",
   "source": [
    "name_tags - названия книг и 'tags' - описание после обработки pymorphy2 и название секции\n",
    "в список stemming_pymorphy сохраняем stemming(name_tags['tags'][i])"
   ],
   "metadata": {
    "collapsed": false,
    "pycharm": {
     "name": "#%% md\n"
    }
   }
  },
  {
   "cell_type": "code",
   "execution_count": 93,
   "outputs": [
    {
     "name": "stdout",
     "output_type": "stream",
     "text": [
      "CPU times: user 19.2 s, sys: 197 ms, total: 19.4 s\n",
      "Wall time: 19.6 s\n"
     ]
    }
   ],
   "source": [
    "%%time\n",
    "stemming_pymorphy = []\n",
    "for i in range(len(name_tags['tags'])):\n",
    "    stemming_pymorphy.append(stemming(name_tags['tags'][i]))"
   ],
   "metadata": {
    "collapsed": false,
    "pycharm": {
     "name": "#%%\n"
    }
   }
  },
  {
   "cell_type": "code",
   "execution_count": 94,
   "outputs": [],
   "source": [
    "description = pd.DataFrame(description)"
   ],
   "metadata": {
    "collapsed": false,
    "pycharm": {
     "name": "#%%\n"
    }
   }
  },
  {
   "cell_type": "markdown",
   "source": [
    "загружаем в description обработанные описания без окончаний"
   ],
   "metadata": {
    "collapsed": false,
    "pycharm": {
     "name": "#%% md\n"
    }
   }
  },
  {
   "cell_type": "code",
   "execution_count": 95,
   "outputs": [],
   "source": [
    "for i in range(len(name_tags['tags'])):\n",
    "    description[0][i] = stemming_pymorphy[i]"
   ],
   "metadata": {
    "collapsed": false,
    "pycharm": {
     "name": "#%%\n"
    }
   }
  },
  {
   "cell_type": "code",
   "execution_count": 96,
   "outputs": [],
   "source": [
    "data['tags'] = description[0] + data['section']"
   ],
   "metadata": {
    "collapsed": false,
    "pycharm": {
     "name": "#%%\n"
    }
   }
  },
  {
   "cell_type": "markdown",
   "source": [
    "#### В new_df сохраняем названия книг и описания(+названия секций) без окончаний - PyMorphy2"
   ],
   "metadata": {
    "collapsed": false,
    "pycharm": {
     "name": "#%% md\n"
    }
   }
  },
  {
   "cell_type": "code",
   "execution_count": 97,
   "outputs": [
    {
     "data": {
      "text/plain": "                                                   name  \\\n0     Брать, давать и наслаждаться. Как оставаться в...   \n1     Роман с самим собой. Как уравновесить внутренн...   \n2                       Думай медленно... решай быстро    \n3     НИ СЫ. Будь уверен в своих силах и не позволяй...   \n4     Психотрюки. 69 приемов в общении, которым не у...   \n...                                                 ...   \n1613    Счастливая жизнь без панических атак и страхов    \n1614                 Думай и богатей в годы безденежья    \n1615  Близко к сердцу. Как жить, если вы слишком чув...   \n1616  Занимательная кинесика, или Тайны жестов, поз,...   \n1617  Наслаждение от каждого дня. Доступная всем про...   \n\n                                                   tags  \n0     чувствова себ полн силвстава кажд утр с тот но...  \n1     когд ты себ люб ты точн знат что хотет и идт к...  \n2     этот книг полност измен ваш жизн вед реч в он ...  \n3     книг полн грубоват и прикольн совет по работ н...  \n4     психотрюк эт прост при котор помога постав хам...  \n...                                                 ...  \n1613  хроническ стресс тревог приступ паник навязчив...  \n1614  год экономическ спад в стран подкос мног челов...  \n1615  высокочувствительн человек ил нов интроверт та...  \n1616  кинесик эт молчалив язык язык тел с помощ кото...  \n1617  жизн каза пресн и безвкуснойвс краск притуш а ...  \n\n[1618 rows x 2 columns]",
      "text/html": "<div>\n<style scoped>\n    .dataframe tbody tr th:only-of-type {\n        vertical-align: middle;\n    }\n\n    .dataframe tbody tr th {\n        vertical-align: top;\n    }\n\n    .dataframe thead th {\n        text-align: right;\n    }\n</style>\n<table border=\"1\" class=\"dataframe\">\n  <thead>\n    <tr style=\"text-align: right;\">\n      <th></th>\n      <th>name</th>\n      <th>tags</th>\n    </tr>\n  </thead>\n  <tbody>\n    <tr>\n      <th>0</th>\n      <td>Брать, давать и наслаждаться. Как оставаться в...</td>\n      <td>чувствова себ полн силвстава кажд утр с тот но...</td>\n    </tr>\n    <tr>\n      <th>1</th>\n      <td>Роман с самим собой. Как уравновесить внутренн...</td>\n      <td>когд ты себ люб ты точн знат что хотет и идт к...</td>\n    </tr>\n    <tr>\n      <th>2</th>\n      <td>Думай медленно... решай быстро</td>\n      <td>этот книг полност измен ваш жизн вед реч в он ...</td>\n    </tr>\n    <tr>\n      <th>3</th>\n      <td>НИ СЫ. Будь уверен в своих силах и не позволяй...</td>\n      <td>книг полн грубоват и прикольн совет по работ н...</td>\n    </tr>\n    <tr>\n      <th>4</th>\n      <td>Психотрюки. 69 приемов в общении, которым не у...</td>\n      <td>психотрюк эт прост при котор помога постав хам...</td>\n    </tr>\n    <tr>\n      <th>...</th>\n      <td>...</td>\n      <td>...</td>\n    </tr>\n    <tr>\n      <th>1613</th>\n      <td>Счастливая жизнь без панических атак и страхов</td>\n      <td>хроническ стресс тревог приступ паник навязчив...</td>\n    </tr>\n    <tr>\n      <th>1614</th>\n      <td>Думай и богатей в годы безденежья</td>\n      <td>год экономическ спад в стран подкос мног челов...</td>\n    </tr>\n    <tr>\n      <th>1615</th>\n      <td>Близко к сердцу. Как жить, если вы слишком чув...</td>\n      <td>высокочувствительн человек ил нов интроверт та...</td>\n    </tr>\n    <tr>\n      <th>1616</th>\n      <td>Занимательная кинесика, или Тайны жестов, поз,...</td>\n      <td>кинесик эт молчалив язык язык тел с помощ кото...</td>\n    </tr>\n    <tr>\n      <th>1617</th>\n      <td>Наслаждение от каждого дня. Доступная всем про...</td>\n      <td>жизн каза пресн и безвкуснойвс краск притуш а ...</td>\n    </tr>\n  </tbody>\n</table>\n<p>1618 rows × 2 columns</p>\n</div>"
     },
     "execution_count": 97,
     "metadata": {},
     "output_type": "execute_result"
    }
   ],
   "source": [
    "data_tags_pymorphy = data[['name', 'tags']]\n",
    "data_tags_pymorphy"
   ],
   "metadata": {
    "collapsed": false,
    "pycharm": {
     "name": "#%%\n"
    }
   }
  },
  {
   "cell_type": "markdown",
   "source": [
    "#### Сохраняем названия книг и описания(+названия секций) без окончаний - PyMorphy2 - в tags2.csv\n"
   ],
   "metadata": {
    "collapsed": false,
    "pycharm": {
     "name": "#%% md\n"
    }
   }
  },
  {
   "cell_type": "code",
   "execution_count": 98,
   "outputs": [],
   "source": [
    "data_tags_pymorphy.to_csv(r'/Users/dianaverevkina/Diplom_project/Diploma — копия 3/data_preparation/tags2.csv', index=False)"
   ],
   "metadata": {
    "collapsed": false,
    "pycharm": {
     "name": "#%%\n"
    }
   }
  },
  {
   "cell_type": "code",
   "execution_count": 99,
   "outputs": [
    {
     "data": {
      "text/plain": "'чувствова себ полн силвстава кажд утр с тот ног испытыва воодушевлен приступа к сложн задач врод ремонт квартир ил поиск работ нов книг татья мужицк эт уникальн систем практик котор помоч всегд остава в ресурс даж когд из за эпидем нельз рванут на недельк в та ил посидет в рестора с друг татья объясня как черпа жизнен сил из тот что не зависет от внешн обстоятельств он подход основа на одноимен марафон тольк в течен полгод он пройт бол человек он отз говор сам за себ брат дава и наслажда эт цел систем отношен с себ и мир превраща мы в настоя генератор вдохновен и бодрост быт себ зде и сейчас люб себ наслажда момент мы част слыша этот слов и пыта он соответствова каза что имен так и нужн а есл замен нужн на можн и сдела эт легк и с удовольств татья мужицк велик специалист по счаст и удовольств довер он и тогд ваш радост и любов хват не тольк на себ и на близк на ве мир татья лазар актрис телеведущ и обществен деятельсаморазвит и личностн ростСаморазвитие и личностный рост'"
     },
     "execution_count": 99,
     "metadata": {},
     "output_type": "execute_result"
    }
   ],
   "source": [
    "data_tags_pymorphy = pd.read_csv('tags2.csv')\n",
    "data_tags_pymorphy['tags'][0]"
   ],
   "metadata": {
    "collapsed": false,
    "pycharm": {
     "name": "#%%\n"
    }
   }
  }
 ],
 "metadata": {
  "kernelspec": {
   "display_name": "Python 3",
   "language": "python",
   "name": "python3"
  },
  "language_info": {
   "codemirror_mode": {
    "name": "ipython",
    "version": 2
   },
   "file_extension": ".py",
   "mimetype": "text/x-python",
   "name": "python",
   "nbconvert_exporter": "python",
   "pygments_lexer": "ipython2",
   "version": "2.7.6"
  }
 },
 "nbformat": 4,
 "nbformat_minor": 0
}