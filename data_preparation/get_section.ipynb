{
 "cells": [
  {
   "cell_type": "code",
   "execution_count": 1,
   "outputs": [],
   "source": [
    "import pandas as pd"
   ],
   "metadata": {
    "collapsed": false,
    "pycharm": {
     "name": "#%%\n"
    }
   }
  },
  {
   "cell_type": "code",
   "execution_count": 20,
   "outputs": [
    {
     "data": {
      "text/plain": "                                                   name            author  \\\n0     Брать, давать и наслаждаться. Как оставаться в...  Татьяна Мужицкая   \n1     Роман с самим собой. Как уравновесить внутренн...  Татьяна Мужицкая   \n2                       Думай медленно... решай быстро    Даниэль Канеман   \n3     НИ СЫ. Будь уверен в своих силах и не позволяй...      Джен Синсеро   \n4     Психотрюки. 69 приемов в общении, которым не у...       Игорь Рызов   \n...                                                 ...               ...   \n1736    Счастливая жизнь без панических атак и страхов                NaN   \n1737                 Думай и богатей в годы безденежья                NaN   \n1738  Близко к сердцу. Как жить, если вы слишком чув...           Санд И.   \n1739  Занимательная кинесика, или Тайны жестов, поз,...               NaN   \n1740  Наслаждение от каждого дня. Доступная всем про...               NaN   \n\n                             section               publish    age    year  \\\n0     Саморазвитие и личностный рост                   NaN   16+   2022.0   \n1     Саморазвитие и личностный рост                   NaN   16+   2022.0   \n2              Популярная психология                   АСТ   16+   2022.0   \n3     Саморазвитие и личностный рост                   NaN   16+   2022.0   \n4     Саморазвитие и личностный рост                   NaN   12+   2022.0   \n...                              ...                   ...    ...     ...   \n1736  Саморазвитие и личностный рост  Издательские решения   16+   2016.0   \n1737  Саморазвитие и личностный рост                   NaN   16+   2018.0   \n1738  Саморазвитие и личностный рост               Альпина    NaN  2016.0   \n1739  Саморазвитие и личностный рост              Прометей    NaN  2022.0   \n1740  Саморазвитие и личностный рост                   NaN   16+   2022.0   \n\n      pages rating                                               cove  \\\n0     256.0     5   https://ndc.book24.ru/resize/410x590/iblock/3d...   \n1     304.0     5   https:https://cdn.book24.ru/v2/ITD000000001044...   \n2     656.0   4,6   https://ndc.book24.ru/resize/410x590/iblock/0a...   \n3     320.0   4,2   https://ndc.book24.ru/resize/410x590/iblock/54...   \n4     256.0     5   https://ndc.book24.ru/resize/410x590/iblock/74...   \n...     ...    ...                                                ...   \n1736  120.0   0,0   https://ndc.book24.ru/resize/410x590/iblock/28...   \n1737  192.0   0,0   https://ndc.book24.ru/resize/410x590/iblock/fe...   \n1738  158.0   0,0   https://ndc.book24.ru/resize/410x590/iblock/fe...   \n1739  480.0   0,0   https://ndc.book24.ru/resize/410x590/iblock/4c...   \n1740  240.0   0,0   https://ndc.book24.ru/resize/410x590/iblock/18...   \n\n                                            description  \n0     Чувствовать себя полным сил. Вставать каждое у...  \n1     Когда ты себя любишь, ты точно знаешь, чего хо...  \n2     Эта книга полностью изменит вашу жизнь: ведь р...  \n3     Книга полна грубоватых и прикольных советов по...  \n4     Психотрюки — это простые приемы, которые помог...  \n...                                                 ...  \n1736  Хронический стресс, тревога, приступы паники, ...  \n1737  Годы экономического спада в стране \"подкосили\"...  \n1738  Высокочувствительные люди, или «новые интровер...  \n1739  Кинесика — это молчаливый язык, язык тела, с п...  \n1740  Жизнь кажется пресной и безвкусной?Все краски ...  \n\n[1741 rows x 10 columns]",
      "text/html": "<div>\n<style scoped>\n    .dataframe tbody tr th:only-of-type {\n        vertical-align: middle;\n    }\n\n    .dataframe tbody tr th {\n        vertical-align: top;\n    }\n\n    .dataframe thead th {\n        text-align: right;\n    }\n</style>\n<table border=\"1\" class=\"dataframe\">\n  <thead>\n    <tr style=\"text-align: right;\">\n      <th></th>\n      <th>name</th>\n      <th>author</th>\n      <th>section</th>\n      <th>publish</th>\n      <th>age</th>\n      <th>year</th>\n      <th>pages</th>\n      <th>rating</th>\n      <th>cove</th>\n      <th>description</th>\n    </tr>\n  </thead>\n  <tbody>\n    <tr>\n      <th>0</th>\n      <td>Брать, давать и наслаждаться. Как оставаться в...</td>\n      <td>Татьяна Мужицкая</td>\n      <td>Саморазвитие и личностный рост</td>\n      <td>NaN</td>\n      <td>16+</td>\n      <td>2022.0</td>\n      <td>256.0</td>\n      <td>5</td>\n      <td>https://ndc.book24.ru/resize/410x590/iblock/3d...</td>\n      <td>Чувствовать себя полным сил. Вставать каждое у...</td>\n    </tr>\n    <tr>\n      <th>1</th>\n      <td>Роман с самим собой. Как уравновесить внутренн...</td>\n      <td>Татьяна Мужицкая</td>\n      <td>Саморазвитие и личностный рост</td>\n      <td>NaN</td>\n      <td>16+</td>\n      <td>2022.0</td>\n      <td>304.0</td>\n      <td>5</td>\n      <td>https:https://cdn.book24.ru/v2/ITD000000001044...</td>\n      <td>Когда ты себя любишь, ты точно знаешь, чего хо...</td>\n    </tr>\n    <tr>\n      <th>2</th>\n      <td>Думай медленно... решай быстро</td>\n      <td>Даниэль Канеман</td>\n      <td>Популярная психология</td>\n      <td>АСТ</td>\n      <td>16+</td>\n      <td>2022.0</td>\n      <td>656.0</td>\n      <td>4,6</td>\n      <td>https://ndc.book24.ru/resize/410x590/iblock/0a...</td>\n      <td>Эта книга полностью изменит вашу жизнь: ведь р...</td>\n    </tr>\n    <tr>\n      <th>3</th>\n      <td>НИ СЫ. Будь уверен в своих силах и не позволяй...</td>\n      <td>Джен Синсеро</td>\n      <td>Саморазвитие и личностный рост</td>\n      <td>NaN</td>\n      <td>16+</td>\n      <td>2022.0</td>\n      <td>320.0</td>\n      <td>4,2</td>\n      <td>https://ndc.book24.ru/resize/410x590/iblock/54...</td>\n      <td>Книга полна грубоватых и прикольных советов по...</td>\n    </tr>\n    <tr>\n      <th>4</th>\n      <td>Психотрюки. 69 приемов в общении, которым не у...</td>\n      <td>Игорь Рызов</td>\n      <td>Саморазвитие и личностный рост</td>\n      <td>NaN</td>\n      <td>12+</td>\n      <td>2022.0</td>\n      <td>256.0</td>\n      <td>5</td>\n      <td>https://ndc.book24.ru/resize/410x590/iblock/74...</td>\n      <td>Психотрюки — это простые приемы, которые помог...</td>\n    </tr>\n    <tr>\n      <th>...</th>\n      <td>...</td>\n      <td>...</td>\n      <td>...</td>\n      <td>...</td>\n      <td>...</td>\n      <td>...</td>\n      <td>...</td>\n      <td>...</td>\n      <td>...</td>\n      <td>...</td>\n    </tr>\n    <tr>\n      <th>1736</th>\n      <td>Счастливая жизнь без панических атак и страхов</td>\n      <td>NaN</td>\n      <td>Саморазвитие и личностный рост</td>\n      <td>Издательские решения</td>\n      <td>16+</td>\n      <td>2016.0</td>\n      <td>120.0</td>\n      <td>0,0</td>\n      <td>https://ndc.book24.ru/resize/410x590/iblock/28...</td>\n      <td>Хронический стресс, тревога, приступы паники, ...</td>\n    </tr>\n    <tr>\n      <th>1737</th>\n      <td>Думай и богатей в годы безденежья</td>\n      <td>NaN</td>\n      <td>Саморазвитие и личностный рост</td>\n      <td>NaN</td>\n      <td>16+</td>\n      <td>2018.0</td>\n      <td>192.0</td>\n      <td>0,0</td>\n      <td>https://ndc.book24.ru/resize/410x590/iblock/fe...</td>\n      <td>Годы экономического спада в стране \"подкосили\"...</td>\n    </tr>\n    <tr>\n      <th>1738</th>\n      <td>Близко к сердцу. Как жить, если вы слишком чув...</td>\n      <td>Санд И.</td>\n      <td>Саморазвитие и личностный рост</td>\n      <td>Альпина</td>\n      <td>NaN</td>\n      <td>2016.0</td>\n      <td>158.0</td>\n      <td>0,0</td>\n      <td>https://ndc.book24.ru/resize/410x590/iblock/fe...</td>\n      <td>Высокочувствительные люди, или «новые интровер...</td>\n    </tr>\n    <tr>\n      <th>1739</th>\n      <td>Занимательная кинесика, или Тайны жестов, поз,...</td>\n      <td>NaN</td>\n      <td>Саморазвитие и личностный рост</td>\n      <td>Прометей</td>\n      <td>NaN</td>\n      <td>2022.0</td>\n      <td>480.0</td>\n      <td>0,0</td>\n      <td>https://ndc.book24.ru/resize/410x590/iblock/4c...</td>\n      <td>Кинесика — это молчаливый язык, язык тела, с п...</td>\n    </tr>\n    <tr>\n      <th>1740</th>\n      <td>Наслаждение от каждого дня. Доступная всем про...</td>\n      <td>NaN</td>\n      <td>Саморазвитие и личностный рост</td>\n      <td>NaN</td>\n      <td>16+</td>\n      <td>2022.0</td>\n      <td>240.0</td>\n      <td>0,0</td>\n      <td>https://ndc.book24.ru/resize/410x590/iblock/18...</td>\n      <td>Жизнь кажется пресной и безвкусной?Все краски ...</td>\n    </tr>\n  </tbody>\n</table>\n<p>1741 rows × 10 columns</p>\n</div>"
     },
     "execution_count": 20,
     "metadata": {},
     "output_type": "execute_result"
    }
   ],
   "source": [
    "data = pd.read_json('project_book.json')\n",
    "data"
   ],
   "metadata": {
    "collapsed": false,
    "pycharm": {
     "name": "#%%\n"
    }
   }
  },
  {
   "cell_type": "code",
   "execution_count": 21,
   "outputs": [
    {
     "data": {
      "text/plain": "(1741, 10)"
     },
     "execution_count": 21,
     "metadata": {},
     "output_type": "execute_result"
    }
   ],
   "source": [
    "data.shape"
   ],
   "metadata": {
    "collapsed": false,
    "pycharm": {
     "name": "#%%\n"
    }
   }
  },
  {
   "cell_type": "code",
   "execution_count": 22,
   "outputs": [
    {
     "data": {
      "text/plain": "0       Саморазвитие и личностный рост\n1       Саморазвитие и личностный рост\n2                Популярная психология\n3       Саморазвитие и личностный рост\n4       Саморазвитие и личностный рост\n                     ...              \n1736    Саморазвитие и личностный рост\n1737    Саморазвитие и личностный рост\n1738    Саморазвитие и личностный рост\n1739    Саморазвитие и личностный рост\n1740    Саморазвитие и личностный рост\nName: section, Length: 1741, dtype: object"
     },
     "execution_count": 22,
     "metadata": {},
     "output_type": "execute_result"
    }
   ],
   "source": [
    "sections = data['section']\n",
    "sections"
   ],
   "metadata": {
    "collapsed": false,
    "pycharm": {
     "name": "#%%\n"
    }
   }
  },
  {
   "cell_type": "code",
   "execution_count": 23,
   "outputs": [
    {
     "data": {
      "text/plain": "0       Саморазвитие и личностный рост\n1       Саморазвитие и личностный рост\n2                Популярная психология\n3       Саморазвитие и личностный рост\n4       Саморазвитие и личностный рост\n                     ...              \n1736    Саморазвитие и личностный рост\n1737    Саморазвитие и личностный рост\n1738    Саморазвитие и личностный рост\n1739    Саморазвитие и личностный рост\n1740    Саморазвитие и личностный рост\nName: section, Length: 1741, dtype: object"
     },
     "execution_count": 23,
     "metadata": {},
     "output_type": "execute_result"
    }
   ],
   "source": [
    "sections = sections.dropna ()\n",
    "sections"
   ],
   "metadata": {
    "collapsed": false,
    "pycharm": {
     "name": "#%%\n"
    }
   }
  },
  {
   "cell_type": "code",
   "execution_count": 24,
   "outputs": [
    {
     "data": {
      "text/plain": "                                                   name            author  \\\n0     Брать, давать и наслаждаться. Как оставаться в...  Татьяна Мужицкая   \n1     Роман с самим собой. Как уравновесить внутренн...  Татьяна Мужицкая   \n2                       Думай медленно... решай быстро    Даниэль Канеман   \n3     НИ СЫ. Будь уверен в своих силах и не позволяй...      Джен Синсеро   \n4     Психотрюки. 69 приемов в общении, которым не у...       Игорь Рызов   \n...                                                 ...               ...   \n1736    Счастливая жизнь без панических атак и страхов                NaN   \n1737                 Думай и богатей в годы безденежья                NaN   \n1738  Близко к сердцу. Как жить, если вы слишком чув...           Санд И.   \n1739  Занимательная кинесика, или Тайны жестов, поз,...               NaN   \n1740  Наслаждение от каждого дня. Доступная всем про...               NaN   \n\n                             section               publish    age    year  \\\n0     Саморазвитие и личностный рост                   NaN   16+   2022.0   \n1     Саморазвитие и личностный рост                   NaN   16+   2022.0   \n2              Популярная психология                   АСТ   16+   2022.0   \n3     Саморазвитие и личностный рост                   NaN   16+   2022.0   \n4     Саморазвитие и личностный рост                   NaN   12+   2022.0   \n...                              ...                   ...    ...     ...   \n1736  Саморазвитие и личностный рост  Издательские решения   16+   2016.0   \n1737  Саморазвитие и личностный рост                   NaN   16+   2018.0   \n1738  Саморазвитие и личностный рост               Альпина    NaN  2016.0   \n1739  Саморазвитие и личностный рост              Прометей    NaN  2022.0   \n1740  Саморазвитие и личностный рост                   NaN   16+   2022.0   \n\n      pages rating                                               cove  \\\n0     256.0     5   https://ndc.book24.ru/resize/410x590/iblock/3d...   \n1     304.0     5   https:https://cdn.book24.ru/v2/ITD000000001044...   \n2     656.0   4,6   https://ndc.book24.ru/resize/410x590/iblock/0a...   \n3     320.0   4,2   https://ndc.book24.ru/resize/410x590/iblock/54...   \n4     256.0     5   https://ndc.book24.ru/resize/410x590/iblock/74...   \n...     ...    ...                                                ...   \n1736  120.0   0,0   https://ndc.book24.ru/resize/410x590/iblock/28...   \n1737  192.0   0,0   https://ndc.book24.ru/resize/410x590/iblock/fe...   \n1738  158.0   0,0   https://ndc.book24.ru/resize/410x590/iblock/fe...   \n1739  480.0   0,0   https://ndc.book24.ru/resize/410x590/iblock/4c...   \n1740  240.0   0,0   https://ndc.book24.ru/resize/410x590/iblock/18...   \n\n                                            description  \n0     Чувствовать себя полным сил. Вставать каждое у...  \n1     Когда ты себя любишь, ты точно знаешь, чего хо...  \n2     Эта книга полностью изменит вашу жизнь: ведь р...  \n3     Книга полна грубоватых и прикольных советов по...  \n4     Психотрюки — это простые приемы, которые помог...  \n...                                                 ...  \n1736  Хронический стресс, тревога, приступы паники, ...  \n1737  Годы экономического спада в стране \"подкосили\"...  \n1738  Высокочувствительные люди, или «новые интровер...  \n1739  Кинесика — это молчаливый язык, язык тела, с п...  \n1740  Жизнь кажется пресной и безвкусной?Все краски ...  \n\n[1741 rows x 10 columns]",
      "text/html": "<div>\n<style scoped>\n    .dataframe tbody tr th:only-of-type {\n        vertical-align: middle;\n    }\n\n    .dataframe tbody tr th {\n        vertical-align: top;\n    }\n\n    .dataframe thead th {\n        text-align: right;\n    }\n</style>\n<table border=\"1\" class=\"dataframe\">\n  <thead>\n    <tr style=\"text-align: right;\">\n      <th></th>\n      <th>name</th>\n      <th>author</th>\n      <th>section</th>\n      <th>publish</th>\n      <th>age</th>\n      <th>year</th>\n      <th>pages</th>\n      <th>rating</th>\n      <th>cove</th>\n      <th>description</th>\n    </tr>\n  </thead>\n  <tbody>\n    <tr>\n      <th>0</th>\n      <td>Брать, давать и наслаждаться. Как оставаться в...</td>\n      <td>Татьяна Мужицкая</td>\n      <td>Саморазвитие и личностный рост</td>\n      <td>NaN</td>\n      <td>16+</td>\n      <td>2022.0</td>\n      <td>256.0</td>\n      <td>5</td>\n      <td>https://ndc.book24.ru/resize/410x590/iblock/3d...</td>\n      <td>Чувствовать себя полным сил. Вставать каждое у...</td>\n    </tr>\n    <tr>\n      <th>1</th>\n      <td>Роман с самим собой. Как уравновесить внутренн...</td>\n      <td>Татьяна Мужицкая</td>\n      <td>Саморазвитие и личностный рост</td>\n      <td>NaN</td>\n      <td>16+</td>\n      <td>2022.0</td>\n      <td>304.0</td>\n      <td>5</td>\n      <td>https:https://cdn.book24.ru/v2/ITD000000001044...</td>\n      <td>Когда ты себя любишь, ты точно знаешь, чего хо...</td>\n    </tr>\n    <tr>\n      <th>2</th>\n      <td>Думай медленно... решай быстро</td>\n      <td>Даниэль Канеман</td>\n      <td>Популярная психология</td>\n      <td>АСТ</td>\n      <td>16+</td>\n      <td>2022.0</td>\n      <td>656.0</td>\n      <td>4,6</td>\n      <td>https://ndc.book24.ru/resize/410x590/iblock/0a...</td>\n      <td>Эта книга полностью изменит вашу жизнь: ведь р...</td>\n    </tr>\n    <tr>\n      <th>3</th>\n      <td>НИ СЫ. Будь уверен в своих силах и не позволяй...</td>\n      <td>Джен Синсеро</td>\n      <td>Саморазвитие и личностный рост</td>\n      <td>NaN</td>\n      <td>16+</td>\n      <td>2022.0</td>\n      <td>320.0</td>\n      <td>4,2</td>\n      <td>https://ndc.book24.ru/resize/410x590/iblock/54...</td>\n      <td>Книга полна грубоватых и прикольных советов по...</td>\n    </tr>\n    <tr>\n      <th>4</th>\n      <td>Психотрюки. 69 приемов в общении, которым не у...</td>\n      <td>Игорь Рызов</td>\n      <td>Саморазвитие и личностный рост</td>\n      <td>NaN</td>\n      <td>12+</td>\n      <td>2022.0</td>\n      <td>256.0</td>\n      <td>5</td>\n      <td>https://ndc.book24.ru/resize/410x590/iblock/74...</td>\n      <td>Психотрюки — это простые приемы, которые помог...</td>\n    </tr>\n    <tr>\n      <th>...</th>\n      <td>...</td>\n      <td>...</td>\n      <td>...</td>\n      <td>...</td>\n      <td>...</td>\n      <td>...</td>\n      <td>...</td>\n      <td>...</td>\n      <td>...</td>\n      <td>...</td>\n    </tr>\n    <tr>\n      <th>1736</th>\n      <td>Счастливая жизнь без панических атак и страхов</td>\n      <td>NaN</td>\n      <td>Саморазвитие и личностный рост</td>\n      <td>Издательские решения</td>\n      <td>16+</td>\n      <td>2016.0</td>\n      <td>120.0</td>\n      <td>0,0</td>\n      <td>https://ndc.book24.ru/resize/410x590/iblock/28...</td>\n      <td>Хронический стресс, тревога, приступы паники, ...</td>\n    </tr>\n    <tr>\n      <th>1737</th>\n      <td>Думай и богатей в годы безденежья</td>\n      <td>NaN</td>\n      <td>Саморазвитие и личностный рост</td>\n      <td>NaN</td>\n      <td>16+</td>\n      <td>2018.0</td>\n      <td>192.0</td>\n      <td>0,0</td>\n      <td>https://ndc.book24.ru/resize/410x590/iblock/fe...</td>\n      <td>Годы экономического спада в стране \"подкосили\"...</td>\n    </tr>\n    <tr>\n      <th>1738</th>\n      <td>Близко к сердцу. Как жить, если вы слишком чув...</td>\n      <td>Санд И.</td>\n      <td>Саморазвитие и личностный рост</td>\n      <td>Альпина</td>\n      <td>NaN</td>\n      <td>2016.0</td>\n      <td>158.0</td>\n      <td>0,0</td>\n      <td>https://ndc.book24.ru/resize/410x590/iblock/fe...</td>\n      <td>Высокочувствительные люди, или «новые интровер...</td>\n    </tr>\n    <tr>\n      <th>1739</th>\n      <td>Занимательная кинесика, или Тайны жестов, поз,...</td>\n      <td>NaN</td>\n      <td>Саморазвитие и личностный рост</td>\n      <td>Прометей</td>\n      <td>NaN</td>\n      <td>2022.0</td>\n      <td>480.0</td>\n      <td>0,0</td>\n      <td>https://ndc.book24.ru/resize/410x590/iblock/4c...</td>\n      <td>Кинесика — это молчаливый язык, язык тела, с п...</td>\n    </tr>\n    <tr>\n      <th>1740</th>\n      <td>Наслаждение от каждого дня. Доступная всем про...</td>\n      <td>NaN</td>\n      <td>Саморазвитие и личностный рост</td>\n      <td>NaN</td>\n      <td>16+</td>\n      <td>2022.0</td>\n      <td>240.0</td>\n      <td>0,0</td>\n      <td>https://ndc.book24.ru/resize/410x590/iblock/18...</td>\n      <td>Жизнь кажется пресной и безвкусной?Все краски ...</td>\n    </tr>\n  </tbody>\n</table>\n<p>1741 rows × 10 columns</p>\n</div>"
     },
     "execution_count": 24,
     "metadata": {},
     "output_type": "execute_result"
    }
   ],
   "source": [
    "df_sections = data\n",
    "df_sections"
   ],
   "metadata": {
    "collapsed": false,
    "pycharm": {
     "name": "#%%\n"
    }
   }
  },
  {
   "cell_type": "code",
   "execution_count": 25,
   "outputs": [
    {
     "data": {
      "text/plain": "                                                   name            author  \\\n0     Брать, давать и наслаждаться. Как оставаться в...  Татьяна Мужицкая   \n1     Роман с самим собой. Как уравновесить внутренн...  Татьяна Мужицкая   \n2                       Думай медленно... решай быстро    Даниэль Канеман   \n3     НИ СЫ. Будь уверен в своих силах и не позволяй...      Джен Синсеро   \n4     Психотрюки. 69 приемов в общении, которым не у...       Игорь Рызов   \n...                                                 ...               ...   \n1736    Счастливая жизнь без панических атак и страхов                NaN   \n1737                 Думай и богатей в годы безденежья                NaN   \n1738  Близко к сердцу. Как жить, если вы слишком чув...           Санд И.   \n1739  Занимательная кинесика, или Тайны жестов, поз,...               NaN   \n1740  Наслаждение от каждого дня. Доступная всем про...               NaN   \n\n                             section               publish    age    year  \\\n0     Саморазвитие и личностный рост                   NaN   16+   2022.0   \n1     Саморазвитие и личностный рост                   NaN   16+   2022.0   \n2              Популярная психология                   АСТ   16+   2022.0   \n3     Саморазвитие и личностный рост                   NaN   16+   2022.0   \n4     Саморазвитие и личностный рост                   NaN   12+   2022.0   \n...                              ...                   ...    ...     ...   \n1736  Саморазвитие и личностный рост  Издательские решения   16+   2016.0   \n1737  Саморазвитие и личностный рост                   NaN   16+   2018.0   \n1738  Саморазвитие и личностный рост               Альпина    NaN  2016.0   \n1739  Саморазвитие и личностный рост              Прометей    NaN  2022.0   \n1740  Саморазвитие и личностный рост                   NaN   16+   2022.0   \n\n      pages rating                                               cove  \\\n0     256.0     5   https://ndc.book24.ru/resize/410x590/iblock/3d...   \n1     304.0     5   https:https://cdn.book24.ru/v2/ITD000000001044...   \n2     656.0   4,6   https://ndc.book24.ru/resize/410x590/iblock/0a...   \n3     320.0   4,2   https://ndc.book24.ru/resize/410x590/iblock/54...   \n4     256.0     5   https://ndc.book24.ru/resize/410x590/iblock/74...   \n...     ...    ...                                                ...   \n1736  120.0   0,0   https://ndc.book24.ru/resize/410x590/iblock/28...   \n1737  192.0   0,0   https://ndc.book24.ru/resize/410x590/iblock/fe...   \n1738  158.0   0,0   https://ndc.book24.ru/resize/410x590/iblock/fe...   \n1739  480.0   0,0   https://ndc.book24.ru/resize/410x590/iblock/4c...   \n1740  240.0   0,0   https://ndc.book24.ru/resize/410x590/iblock/18...   \n\n                                            description  \n0     Чувствовать себя полным сил. Вставать каждое у...  \n1     Когда ты себя любишь, ты точно знаешь, чего хо...  \n2     Эта книга полностью изменит вашу жизнь: ведь р...  \n3     Книга полна грубоватых и прикольных советов по...  \n4     Психотрюки — это простые приемы, которые помог...  \n...                                                 ...  \n1736  Хронический стресс, тревога, приступы паники, ...  \n1737  Годы экономического спада в стране \"подкосили\"...  \n1738  Высокочувствительные люди, или «новые интровер...  \n1739  Кинесика — это молчаливый язык, язык тела, с п...  \n1740  Жизнь кажется пресной и безвкусной?Все краски ...  \n\n[1741 rows x 10 columns]",
      "text/html": "<div>\n<style scoped>\n    .dataframe tbody tr th:only-of-type {\n        vertical-align: middle;\n    }\n\n    .dataframe tbody tr th {\n        vertical-align: top;\n    }\n\n    .dataframe thead th {\n        text-align: right;\n    }\n</style>\n<table border=\"1\" class=\"dataframe\">\n  <thead>\n    <tr style=\"text-align: right;\">\n      <th></th>\n      <th>name</th>\n      <th>author</th>\n      <th>section</th>\n      <th>publish</th>\n      <th>age</th>\n      <th>year</th>\n      <th>pages</th>\n      <th>rating</th>\n      <th>cove</th>\n      <th>description</th>\n    </tr>\n  </thead>\n  <tbody>\n    <tr>\n      <th>0</th>\n      <td>Брать, давать и наслаждаться. Как оставаться в...</td>\n      <td>Татьяна Мужицкая</td>\n      <td>Саморазвитие и личностный рост</td>\n      <td>NaN</td>\n      <td>16+</td>\n      <td>2022.0</td>\n      <td>256.0</td>\n      <td>5</td>\n      <td>https://ndc.book24.ru/resize/410x590/iblock/3d...</td>\n      <td>Чувствовать себя полным сил. Вставать каждое у...</td>\n    </tr>\n    <tr>\n      <th>1</th>\n      <td>Роман с самим собой. Как уравновесить внутренн...</td>\n      <td>Татьяна Мужицкая</td>\n      <td>Саморазвитие и личностный рост</td>\n      <td>NaN</td>\n      <td>16+</td>\n      <td>2022.0</td>\n      <td>304.0</td>\n      <td>5</td>\n      <td>https:https://cdn.book24.ru/v2/ITD000000001044...</td>\n      <td>Когда ты себя любишь, ты точно знаешь, чего хо...</td>\n    </tr>\n    <tr>\n      <th>2</th>\n      <td>Думай медленно... решай быстро</td>\n      <td>Даниэль Канеман</td>\n      <td>Популярная психология</td>\n      <td>АСТ</td>\n      <td>16+</td>\n      <td>2022.0</td>\n      <td>656.0</td>\n      <td>4,6</td>\n      <td>https://ndc.book24.ru/resize/410x590/iblock/0a...</td>\n      <td>Эта книга полностью изменит вашу жизнь: ведь р...</td>\n    </tr>\n    <tr>\n      <th>3</th>\n      <td>НИ СЫ. Будь уверен в своих силах и не позволяй...</td>\n      <td>Джен Синсеро</td>\n      <td>Саморазвитие и личностный рост</td>\n      <td>NaN</td>\n      <td>16+</td>\n      <td>2022.0</td>\n      <td>320.0</td>\n      <td>4,2</td>\n      <td>https://ndc.book24.ru/resize/410x590/iblock/54...</td>\n      <td>Книга полна грубоватых и прикольных советов по...</td>\n    </tr>\n    <tr>\n      <th>4</th>\n      <td>Психотрюки. 69 приемов в общении, которым не у...</td>\n      <td>Игорь Рызов</td>\n      <td>Саморазвитие и личностный рост</td>\n      <td>NaN</td>\n      <td>12+</td>\n      <td>2022.0</td>\n      <td>256.0</td>\n      <td>5</td>\n      <td>https://ndc.book24.ru/resize/410x590/iblock/74...</td>\n      <td>Психотрюки — это простые приемы, которые помог...</td>\n    </tr>\n    <tr>\n      <th>...</th>\n      <td>...</td>\n      <td>...</td>\n      <td>...</td>\n      <td>...</td>\n      <td>...</td>\n      <td>...</td>\n      <td>...</td>\n      <td>...</td>\n      <td>...</td>\n      <td>...</td>\n    </tr>\n    <tr>\n      <th>1736</th>\n      <td>Счастливая жизнь без панических атак и страхов</td>\n      <td>NaN</td>\n      <td>Саморазвитие и личностный рост</td>\n      <td>Издательские решения</td>\n      <td>16+</td>\n      <td>2016.0</td>\n      <td>120.0</td>\n      <td>0,0</td>\n      <td>https://ndc.book24.ru/resize/410x590/iblock/28...</td>\n      <td>Хронический стресс, тревога, приступы паники, ...</td>\n    </tr>\n    <tr>\n      <th>1737</th>\n      <td>Думай и богатей в годы безденежья</td>\n      <td>NaN</td>\n      <td>Саморазвитие и личностный рост</td>\n      <td>NaN</td>\n      <td>16+</td>\n      <td>2018.0</td>\n      <td>192.0</td>\n      <td>0,0</td>\n      <td>https://ndc.book24.ru/resize/410x590/iblock/fe...</td>\n      <td>Годы экономического спада в стране \"подкосили\"...</td>\n    </tr>\n    <tr>\n      <th>1738</th>\n      <td>Близко к сердцу. Как жить, если вы слишком чув...</td>\n      <td>Санд И.</td>\n      <td>Саморазвитие и личностный рост</td>\n      <td>Альпина</td>\n      <td>NaN</td>\n      <td>2016.0</td>\n      <td>158.0</td>\n      <td>0,0</td>\n      <td>https://ndc.book24.ru/resize/410x590/iblock/fe...</td>\n      <td>Высокочувствительные люди, или «новые интровер...</td>\n    </tr>\n    <tr>\n      <th>1739</th>\n      <td>Занимательная кинесика, или Тайны жестов, поз,...</td>\n      <td>NaN</td>\n      <td>Саморазвитие и личностный рост</td>\n      <td>Прометей</td>\n      <td>NaN</td>\n      <td>2022.0</td>\n      <td>480.0</td>\n      <td>0,0</td>\n      <td>https://ndc.book24.ru/resize/410x590/iblock/4c...</td>\n      <td>Кинесика — это молчаливый язык, язык тела, с п...</td>\n    </tr>\n    <tr>\n      <th>1740</th>\n      <td>Наслаждение от каждого дня. Доступная всем про...</td>\n      <td>NaN</td>\n      <td>Саморазвитие и личностный рост</td>\n      <td>NaN</td>\n      <td>16+</td>\n      <td>2022.0</td>\n      <td>240.0</td>\n      <td>0,0</td>\n      <td>https://ndc.book24.ru/resize/410x590/iblock/18...</td>\n      <td>Жизнь кажется пресной и безвкусной?Все краски ...</td>\n    </tr>\n  </tbody>\n</table>\n<p>1741 rows × 10 columns</p>\n</div>"
     },
     "execution_count": 25,
     "metadata": {},
     "output_type": "execute_result"
    }
   ],
   "source": [
    "df_sections.dropna (subset=['section'])"
   ],
   "metadata": {
    "collapsed": false,
    "pycharm": {
     "name": "#%%\n"
    }
   }
  },
  {
   "cell_type": "code",
   "execution_count": 26,
   "outputs": [],
   "source": [
    "df_sections = df_sections[df_sections['section'] != 'NaN']"
   ],
   "metadata": {
    "collapsed": false,
    "pycharm": {
     "name": "#%%\n"
    }
   }
  },
  {
   "cell_type": "code",
   "execution_count": 27,
   "outputs": [
    {
     "data": {
      "text/plain": "                                                   name            author  \\\n0     Брать, давать и наслаждаться. Как оставаться в...  Татьяна Мужицкая   \n1     Роман с самим собой. Как уравновесить внутренн...  Татьяна Мужицкая   \n2                       Думай медленно... решай быстро    Даниэль Канеман   \n3     НИ СЫ. Будь уверен в своих силах и не позволяй...      Джен Синсеро   \n4     Психотрюки. 69 приемов в общении, которым не у...       Игорь Рызов   \n...                                                 ...               ...   \n1736    Счастливая жизнь без панических атак и страхов                NaN   \n1737                 Думай и богатей в годы безденежья                NaN   \n1738  Близко к сердцу. Как жить, если вы слишком чув...           Санд И.   \n1739  Занимательная кинесика, или Тайны жестов, поз,...               NaN   \n1740  Наслаждение от каждого дня. Доступная всем про...               NaN   \n\n                             section               publish    age    year  \\\n0     Саморазвитие и личностный рост                   NaN   16+   2022.0   \n1     Саморазвитие и личностный рост                   NaN   16+   2022.0   \n2              Популярная психология                   АСТ   16+   2022.0   \n3     Саморазвитие и личностный рост                   NaN   16+   2022.0   \n4     Саморазвитие и личностный рост                   NaN   12+   2022.0   \n...                              ...                   ...    ...     ...   \n1736  Саморазвитие и личностный рост  Издательские решения   16+   2016.0   \n1737  Саморазвитие и личностный рост                   NaN   16+   2018.0   \n1738  Саморазвитие и личностный рост               Альпина    NaN  2016.0   \n1739  Саморазвитие и личностный рост              Прометей    NaN  2022.0   \n1740  Саморазвитие и личностный рост                   NaN   16+   2022.0   \n\n      pages rating                                               cove  \\\n0     256.0     5   https://ndc.book24.ru/resize/410x590/iblock/3d...   \n1     304.0     5   https:https://cdn.book24.ru/v2/ITD000000001044...   \n2     656.0   4,6   https://ndc.book24.ru/resize/410x590/iblock/0a...   \n3     320.0   4,2   https://ndc.book24.ru/resize/410x590/iblock/54...   \n4     256.0     5   https://ndc.book24.ru/resize/410x590/iblock/74...   \n...     ...    ...                                                ...   \n1736  120.0   0,0   https://ndc.book24.ru/resize/410x590/iblock/28...   \n1737  192.0   0,0   https://ndc.book24.ru/resize/410x590/iblock/fe...   \n1738  158.0   0,0   https://ndc.book24.ru/resize/410x590/iblock/fe...   \n1739  480.0   0,0   https://ndc.book24.ru/resize/410x590/iblock/4c...   \n1740  240.0   0,0   https://ndc.book24.ru/resize/410x590/iblock/18...   \n\n                                            description  \n0     Чувствовать себя полным сил. Вставать каждое у...  \n1     Когда ты себя любишь, ты точно знаешь, чего хо...  \n2     Эта книга полностью изменит вашу жизнь: ведь р...  \n3     Книга полна грубоватых и прикольных советов по...  \n4     Психотрюки — это простые приемы, которые помог...  \n...                                                 ...  \n1736  Хронический стресс, тревога, приступы паники, ...  \n1737  Годы экономического спада в стране \"подкосили\"...  \n1738  Высокочувствительные люди, или «новые интровер...  \n1739  Кинесика — это молчаливый язык, язык тела, с п...  \n1740  Жизнь кажется пресной и безвкусной?Все краски ...  \n\n[1716 rows x 10 columns]",
      "text/html": "<div>\n<style scoped>\n    .dataframe tbody tr th:only-of-type {\n        vertical-align: middle;\n    }\n\n    .dataframe tbody tr th {\n        vertical-align: top;\n    }\n\n    .dataframe thead th {\n        text-align: right;\n    }\n</style>\n<table border=\"1\" class=\"dataframe\">\n  <thead>\n    <tr style=\"text-align: right;\">\n      <th></th>\n      <th>name</th>\n      <th>author</th>\n      <th>section</th>\n      <th>publish</th>\n      <th>age</th>\n      <th>year</th>\n      <th>pages</th>\n      <th>rating</th>\n      <th>cove</th>\n      <th>description</th>\n    </tr>\n  </thead>\n  <tbody>\n    <tr>\n      <th>0</th>\n      <td>Брать, давать и наслаждаться. Как оставаться в...</td>\n      <td>Татьяна Мужицкая</td>\n      <td>Саморазвитие и личностный рост</td>\n      <td>NaN</td>\n      <td>16+</td>\n      <td>2022.0</td>\n      <td>256.0</td>\n      <td>5</td>\n      <td>https://ndc.book24.ru/resize/410x590/iblock/3d...</td>\n      <td>Чувствовать себя полным сил. Вставать каждое у...</td>\n    </tr>\n    <tr>\n      <th>1</th>\n      <td>Роман с самим собой. Как уравновесить внутренн...</td>\n      <td>Татьяна Мужицкая</td>\n      <td>Саморазвитие и личностный рост</td>\n      <td>NaN</td>\n      <td>16+</td>\n      <td>2022.0</td>\n      <td>304.0</td>\n      <td>5</td>\n      <td>https:https://cdn.book24.ru/v2/ITD000000001044...</td>\n      <td>Когда ты себя любишь, ты точно знаешь, чего хо...</td>\n    </tr>\n    <tr>\n      <th>2</th>\n      <td>Думай медленно... решай быстро</td>\n      <td>Даниэль Канеман</td>\n      <td>Популярная психология</td>\n      <td>АСТ</td>\n      <td>16+</td>\n      <td>2022.0</td>\n      <td>656.0</td>\n      <td>4,6</td>\n      <td>https://ndc.book24.ru/resize/410x590/iblock/0a...</td>\n      <td>Эта книга полностью изменит вашу жизнь: ведь р...</td>\n    </tr>\n    <tr>\n      <th>3</th>\n      <td>НИ СЫ. Будь уверен в своих силах и не позволяй...</td>\n      <td>Джен Синсеро</td>\n      <td>Саморазвитие и личностный рост</td>\n      <td>NaN</td>\n      <td>16+</td>\n      <td>2022.0</td>\n      <td>320.0</td>\n      <td>4,2</td>\n      <td>https://ndc.book24.ru/resize/410x590/iblock/54...</td>\n      <td>Книга полна грубоватых и прикольных советов по...</td>\n    </tr>\n    <tr>\n      <th>4</th>\n      <td>Психотрюки. 69 приемов в общении, которым не у...</td>\n      <td>Игорь Рызов</td>\n      <td>Саморазвитие и личностный рост</td>\n      <td>NaN</td>\n      <td>12+</td>\n      <td>2022.0</td>\n      <td>256.0</td>\n      <td>5</td>\n      <td>https://ndc.book24.ru/resize/410x590/iblock/74...</td>\n      <td>Психотрюки — это простые приемы, которые помог...</td>\n    </tr>\n    <tr>\n      <th>...</th>\n      <td>...</td>\n      <td>...</td>\n      <td>...</td>\n      <td>...</td>\n      <td>...</td>\n      <td>...</td>\n      <td>...</td>\n      <td>...</td>\n      <td>...</td>\n      <td>...</td>\n    </tr>\n    <tr>\n      <th>1736</th>\n      <td>Счастливая жизнь без панических атак и страхов</td>\n      <td>NaN</td>\n      <td>Саморазвитие и личностный рост</td>\n      <td>Издательские решения</td>\n      <td>16+</td>\n      <td>2016.0</td>\n      <td>120.0</td>\n      <td>0,0</td>\n      <td>https://ndc.book24.ru/resize/410x590/iblock/28...</td>\n      <td>Хронический стресс, тревога, приступы паники, ...</td>\n    </tr>\n    <tr>\n      <th>1737</th>\n      <td>Думай и богатей в годы безденежья</td>\n      <td>NaN</td>\n      <td>Саморазвитие и личностный рост</td>\n      <td>NaN</td>\n      <td>16+</td>\n      <td>2018.0</td>\n      <td>192.0</td>\n      <td>0,0</td>\n      <td>https://ndc.book24.ru/resize/410x590/iblock/fe...</td>\n      <td>Годы экономического спада в стране \"подкосили\"...</td>\n    </tr>\n    <tr>\n      <th>1738</th>\n      <td>Близко к сердцу. Как жить, если вы слишком чув...</td>\n      <td>Санд И.</td>\n      <td>Саморазвитие и личностный рост</td>\n      <td>Альпина</td>\n      <td>NaN</td>\n      <td>2016.0</td>\n      <td>158.0</td>\n      <td>0,0</td>\n      <td>https://ndc.book24.ru/resize/410x590/iblock/fe...</td>\n      <td>Высокочувствительные люди, или «новые интровер...</td>\n    </tr>\n    <tr>\n      <th>1739</th>\n      <td>Занимательная кинесика, или Тайны жестов, поз,...</td>\n      <td>NaN</td>\n      <td>Саморазвитие и личностный рост</td>\n      <td>Прометей</td>\n      <td>NaN</td>\n      <td>2022.0</td>\n      <td>480.0</td>\n      <td>0,0</td>\n      <td>https://ndc.book24.ru/resize/410x590/iblock/4c...</td>\n      <td>Кинесика — это молчаливый язык, язык тела, с п...</td>\n    </tr>\n    <tr>\n      <th>1740</th>\n      <td>Наслаждение от каждого дня. Доступная всем про...</td>\n      <td>NaN</td>\n      <td>Саморазвитие и личностный рост</td>\n      <td>NaN</td>\n      <td>16+</td>\n      <td>2022.0</td>\n      <td>240.0</td>\n      <td>0,0</td>\n      <td>https://ndc.book24.ru/resize/410x590/iblock/18...</td>\n      <td>Жизнь кажется пресной и безвкусной?Все краски ...</td>\n    </tr>\n  </tbody>\n</table>\n<p>1716 rows × 10 columns</p>\n</div>"
     },
     "execution_count": 27,
     "metadata": {},
     "output_type": "execute_result"
    }
   ],
   "source": [
    "df_sections"
   ],
   "metadata": {
    "collapsed": false,
    "pycharm": {
     "name": "#%%\n"
    }
   }
  },
  {
   "cell_type": "code",
   "execution_count": 29,
   "outputs": [
    {
     "data": {
      "text/plain": "                                                   name  \\\n0     Брать, давать и наслаждаться. Как оставаться в...   \n2                       Думай медленно... решай быстро    \n7                         Как создавать сильные тексты    \n12    Как легким движением пальцев прокачать свой мо...   \n14    Магия утра. Как первый час дня определяет ваш ...   \n45          путь фильма от первого кадра до кинотеатра    \n114            Архетипы и коллективное бессознательное    \n274                              Язык тела для лидеров    \n276                            Супермышление в бизнесе    \n376   НейроИнглиш. Помоги мозгу выучить язык. 109 ла...   \n454                               Думай как миллиардер    \n1400  50 смертных грехов в русском языке. Говори и п...   \n\n                              author                         section  \\\n0                   Татьяна Мужицкая  Саморазвитие и личностный рост   \n2                    Даниэль Канеман           Популярная психология   \n7                                NaN                     Копирайтинг   \n12                     Ёсия Хасэгава             Популярная медицина   \n14                         Хэл Элрод             Психология личности   \n45                       Уолтер Мёрч                            Кино   \n114                  Карл Густав Юнг         Классическая психология   \n274                              NaN                       Лидерство   \n276                              NaN             Предпринимательство   \n376   Кириллова Эльмира Вольфрамовна                     Языкознание   \n454                              NaN              Психология бизнеса   \n1400                Учитель Русского                    Русский язык   \n\n       publish    age    year  pages rating  \\\n0          NaN   16+   2022.0  256.0     5    \n2          АСТ   16+   2022.0  656.0   4,6    \n7      Альпина   12+   2018.0  440.0   4,7    \n12         NaN   12+   2022.0  160.0     5    \n14         МИФ    NaN  2022.0  240.0   4,6    \n45         NaN   16+   2021.0  224.0   4,9    \n114        АСТ   16+   2021.0  496.0     5    \n274   Попурри     6+   2012.0  240.0   0,0    \n276   Попурри    16+   2014.0  304.0   0,0    \n376   Де`Либри   16+   2021.0  193.0   0,0    \n454    Альпина   12+   2022.0  250.0   0,0    \n1400       NaN   18+   2019.0   80.0     3    \n\n                                                   cove  \\\n0     https://ndc.book24.ru/resize/410x590/iblock/3d...   \n2     https://ndc.book24.ru/resize/410x590/iblock/0a...   \n7     https://ndc.book24.ru/resize/410x590/iblock/0f...   \n12    https://ndc.book24.ru/resize/410x590/iblock/cd...   \n14    https://ndc.book24.ru/resize/410x590/iblock/01...   \n45    https://ndc.book24.ru/resize/410x590/iblock/38...   \n114   https:https://cdn.book24.ru/v2/ASE000000000836...   \n274   https://ndc.book24.ru/resize/410x590/iblock/fd...   \n276   https://ndc.book24.ru/resize/410x590/iblock/7d...   \n376   https://ndc.book24.ru/resize/410x590/iblock/c0...   \n454   https://ndc.book24.ru/resize/410x590/iblock/ad...   \n1400  https://ndc.book24.ru/resize/410x590/iblock/8f...   \n\n                                            description  \n0     Чувствовать себя полным сил. Вставать каждое у...  \n2     Эта книга полностью изменит вашу жизнь: ведь р...  \n7     Авторы на конкретных примерах показывают, что ...  \n12    Уникальная японская методика тренировки мышлен...  \n14    Утренние ритуалы, которые предлагает осуществл...  \n45    Легендарная книга об искусстве монтажа впервые...  \n114   Карл Густав Юнг (1875–1961) – швейцарский псих...  \n274   Независимо от того, ведете ли вы беседу с глаз...  \n276   Тони Бьюзен, всемирно известный изобретатель и...  \n376   Можно ли сократить время на изучение языка? Мо...  \n454   \"Даже если вы усвоите лишь 10% изложенных здес...  \n1400  В своей книге простой Учитель русского языка с...  ",
      "text/html": "<div>\n<style scoped>\n    .dataframe tbody tr th:only-of-type {\n        vertical-align: middle;\n    }\n\n    .dataframe tbody tr th {\n        vertical-align: top;\n    }\n\n    .dataframe thead th {\n        text-align: right;\n    }\n</style>\n<table border=\"1\" class=\"dataframe\">\n  <thead>\n    <tr style=\"text-align: right;\">\n      <th></th>\n      <th>name</th>\n      <th>author</th>\n      <th>section</th>\n      <th>publish</th>\n      <th>age</th>\n      <th>year</th>\n      <th>pages</th>\n      <th>rating</th>\n      <th>cove</th>\n      <th>description</th>\n    </tr>\n  </thead>\n  <tbody>\n    <tr>\n      <th>0</th>\n      <td>Брать, давать и наслаждаться. Как оставаться в...</td>\n      <td>Татьяна Мужицкая</td>\n      <td>Саморазвитие и личностный рост</td>\n      <td>NaN</td>\n      <td>16+</td>\n      <td>2022.0</td>\n      <td>256.0</td>\n      <td>5</td>\n      <td>https://ndc.book24.ru/resize/410x590/iblock/3d...</td>\n      <td>Чувствовать себя полным сил. Вставать каждое у...</td>\n    </tr>\n    <tr>\n      <th>2</th>\n      <td>Думай медленно... решай быстро</td>\n      <td>Даниэль Канеман</td>\n      <td>Популярная психология</td>\n      <td>АСТ</td>\n      <td>16+</td>\n      <td>2022.0</td>\n      <td>656.0</td>\n      <td>4,6</td>\n      <td>https://ndc.book24.ru/resize/410x590/iblock/0a...</td>\n      <td>Эта книга полностью изменит вашу жизнь: ведь р...</td>\n    </tr>\n    <tr>\n      <th>7</th>\n      <td>Как создавать сильные тексты</td>\n      <td>NaN</td>\n      <td>Копирайтинг</td>\n      <td>Альпина</td>\n      <td>12+</td>\n      <td>2018.0</td>\n      <td>440.0</td>\n      <td>4,7</td>\n      <td>https://ndc.book24.ru/resize/410x590/iblock/0f...</td>\n      <td>Авторы на конкретных примерах показывают, что ...</td>\n    </tr>\n    <tr>\n      <th>12</th>\n      <td>Как легким движением пальцев прокачать свой мо...</td>\n      <td>Ёсия Хасэгава</td>\n      <td>Популярная медицина</td>\n      <td>NaN</td>\n      <td>12+</td>\n      <td>2022.0</td>\n      <td>160.0</td>\n      <td>5</td>\n      <td>https://ndc.book24.ru/resize/410x590/iblock/cd...</td>\n      <td>Уникальная японская методика тренировки мышлен...</td>\n    </tr>\n    <tr>\n      <th>14</th>\n      <td>Магия утра. Как первый час дня определяет ваш ...</td>\n      <td>Хэл Элрод</td>\n      <td>Психология личности</td>\n      <td>МИФ</td>\n      <td>NaN</td>\n      <td>2022.0</td>\n      <td>240.0</td>\n      <td>4,6</td>\n      <td>https://ndc.book24.ru/resize/410x590/iblock/01...</td>\n      <td>Утренние ритуалы, которые предлагает осуществл...</td>\n    </tr>\n    <tr>\n      <th>45</th>\n      <td>путь фильма от первого кадра до кинотеатра</td>\n      <td>Уолтер Мёрч</td>\n      <td>Кино</td>\n      <td>NaN</td>\n      <td>16+</td>\n      <td>2021.0</td>\n      <td>224.0</td>\n      <td>4,9</td>\n      <td>https://ndc.book24.ru/resize/410x590/iblock/38...</td>\n      <td>Легендарная книга об искусстве монтажа впервые...</td>\n    </tr>\n    <tr>\n      <th>114</th>\n      <td>Архетипы и коллективное бессознательное</td>\n      <td>Карл Густав Юнг</td>\n      <td>Классическая психология</td>\n      <td>АСТ</td>\n      <td>16+</td>\n      <td>2021.0</td>\n      <td>496.0</td>\n      <td>5</td>\n      <td>https:https://cdn.book24.ru/v2/ASE000000000836...</td>\n      <td>Карл Густав Юнг (1875–1961) – швейцарский псих...</td>\n    </tr>\n    <tr>\n      <th>274</th>\n      <td>Язык тела для лидеров</td>\n      <td>NaN</td>\n      <td>Лидерство</td>\n      <td>Попурри</td>\n      <td>6+</td>\n      <td>2012.0</td>\n      <td>240.0</td>\n      <td>0,0</td>\n      <td>https://ndc.book24.ru/resize/410x590/iblock/fd...</td>\n      <td>Независимо от того, ведете ли вы беседу с глаз...</td>\n    </tr>\n    <tr>\n      <th>276</th>\n      <td>Супермышление в бизнесе</td>\n      <td>NaN</td>\n      <td>Предпринимательство</td>\n      <td>Попурри</td>\n      <td>16+</td>\n      <td>2014.0</td>\n      <td>304.0</td>\n      <td>0,0</td>\n      <td>https://ndc.book24.ru/resize/410x590/iblock/7d...</td>\n      <td>Тони Бьюзен, всемирно известный изобретатель и...</td>\n    </tr>\n    <tr>\n      <th>376</th>\n      <td>НейроИнглиш. Помоги мозгу выучить язык. 109 ла...</td>\n      <td>Кириллова Эльмира Вольфрамовна</td>\n      <td>Языкознание</td>\n      <td>Де`Либри</td>\n      <td>16+</td>\n      <td>2021.0</td>\n      <td>193.0</td>\n      <td>0,0</td>\n      <td>https://ndc.book24.ru/resize/410x590/iblock/c0...</td>\n      <td>Можно ли сократить время на изучение языка? Мо...</td>\n    </tr>\n    <tr>\n      <th>454</th>\n      <td>Думай как миллиардер</td>\n      <td>NaN</td>\n      <td>Психология бизнеса</td>\n      <td>Альпина</td>\n      <td>12+</td>\n      <td>2022.0</td>\n      <td>250.0</td>\n      <td>0,0</td>\n      <td>https://ndc.book24.ru/resize/410x590/iblock/ad...</td>\n      <td>\"Даже если вы усвоите лишь 10% изложенных здес...</td>\n    </tr>\n    <tr>\n      <th>1400</th>\n      <td>50 смертных грехов в русском языке. Говори и п...</td>\n      <td>Учитель Русского</td>\n      <td>Русский язык</td>\n      <td>NaN</td>\n      <td>18+</td>\n      <td>2019.0</td>\n      <td>80.0</td>\n      <td>3</td>\n      <td>https://ndc.book24.ru/resize/410x590/iblock/8f...</td>\n      <td>В своей книге простой Учитель русского языка с...</td>\n    </tr>\n  </tbody>\n</table>\n</div>"
     },
     "execution_count": 29,
     "metadata": {},
     "output_type": "execute_result"
    }
   ],
   "source": [
    "df_sections = df_sections.drop_duplicates (['section'])\n",
    "df_sections"
   ],
   "metadata": {
    "collapsed": false,
    "pycharm": {
     "name": "#%%\n"
    }
   }
  },
  {
   "cell_type": "code",
   "execution_count": 30,
   "outputs": [
    {
     "data": {
      "text/plain": "                                                  name            author  \\\n0    Брать, давать и наслаждаться. Как оставаться в...  Татьяна Мужицкая   \n2                      Думай медленно... решай быстро    Даниэль Канеман   \n14   Магия утра. Как первый час дня определяет ваш ...         Хэл Элрод   \n114           Архетипы и коллективное бессознательное    Карл Густав Юнг   \n274                             Язык тела для лидеров                NaN   \n276                           Супермышление в бизнесе                NaN   \n454                              Думай как миллиардер                NaN   \n\n                            section   publish    age    year  pages rating  \\\n0    Саморазвитие и личностный рост       NaN   16+   2022.0  256.0     5    \n2             Популярная психология       АСТ   16+   2022.0  656.0   4,6    \n14              Психология личности       МИФ    NaN  2022.0  240.0   4,6    \n114         Классическая психология       АСТ   16+   2021.0  496.0     5    \n274                       Лидерство  Попурри     6+   2012.0  240.0   0,0    \n276             Предпринимательство  Попурри    16+   2014.0  304.0   0,0    \n454              Психология бизнеса   Альпина   12+   2022.0  250.0   0,0    \n\n                                                  cove  \\\n0    https://ndc.book24.ru/resize/410x590/iblock/3d...   \n2    https://ndc.book24.ru/resize/410x590/iblock/0a...   \n14   https://ndc.book24.ru/resize/410x590/iblock/01...   \n114  https:https://cdn.book24.ru/v2/ASE000000000836...   \n274  https://ndc.book24.ru/resize/410x590/iblock/fd...   \n276  https://ndc.book24.ru/resize/410x590/iblock/7d...   \n454  https://ndc.book24.ru/resize/410x590/iblock/ad...   \n\n                                           description  \n0    Чувствовать себя полным сил. Вставать каждое у...  \n2    Эта книга полностью изменит вашу жизнь: ведь р...  \n14   Утренние ритуалы, которые предлагает осуществл...  \n114  Карл Густав Юнг (1875–1961) – швейцарский псих...  \n274  Независимо от того, ведете ли вы беседу с глаз...  \n276  Тони Бьюзен, всемирно известный изобретатель и...  \n454  \"Даже если вы усвоите лишь 10% изложенных здес...  ",
      "text/html": "<div>\n<style scoped>\n    .dataframe tbody tr th:only-of-type {\n        vertical-align: middle;\n    }\n\n    .dataframe tbody tr th {\n        vertical-align: top;\n    }\n\n    .dataframe thead th {\n        text-align: right;\n    }\n</style>\n<table border=\"1\" class=\"dataframe\">\n  <thead>\n    <tr style=\"text-align: right;\">\n      <th></th>\n      <th>name</th>\n      <th>author</th>\n      <th>section</th>\n      <th>publish</th>\n      <th>age</th>\n      <th>year</th>\n      <th>pages</th>\n      <th>rating</th>\n      <th>cove</th>\n      <th>description</th>\n    </tr>\n  </thead>\n  <tbody>\n    <tr>\n      <th>0</th>\n      <td>Брать, давать и наслаждаться. Как оставаться в...</td>\n      <td>Татьяна Мужицкая</td>\n      <td>Саморазвитие и личностный рост</td>\n      <td>NaN</td>\n      <td>16+</td>\n      <td>2022.0</td>\n      <td>256.0</td>\n      <td>5</td>\n      <td>https://ndc.book24.ru/resize/410x590/iblock/3d...</td>\n      <td>Чувствовать себя полным сил. Вставать каждое у...</td>\n    </tr>\n    <tr>\n      <th>2</th>\n      <td>Думай медленно... решай быстро</td>\n      <td>Даниэль Канеман</td>\n      <td>Популярная психология</td>\n      <td>АСТ</td>\n      <td>16+</td>\n      <td>2022.0</td>\n      <td>656.0</td>\n      <td>4,6</td>\n      <td>https://ndc.book24.ru/resize/410x590/iblock/0a...</td>\n      <td>Эта книга полностью изменит вашу жизнь: ведь р...</td>\n    </tr>\n    <tr>\n      <th>14</th>\n      <td>Магия утра. Как первый час дня определяет ваш ...</td>\n      <td>Хэл Элрод</td>\n      <td>Психология личности</td>\n      <td>МИФ</td>\n      <td>NaN</td>\n      <td>2022.0</td>\n      <td>240.0</td>\n      <td>4,6</td>\n      <td>https://ndc.book24.ru/resize/410x590/iblock/01...</td>\n      <td>Утренние ритуалы, которые предлагает осуществл...</td>\n    </tr>\n    <tr>\n      <th>114</th>\n      <td>Архетипы и коллективное бессознательное</td>\n      <td>Карл Густав Юнг</td>\n      <td>Классическая психология</td>\n      <td>АСТ</td>\n      <td>16+</td>\n      <td>2021.0</td>\n      <td>496.0</td>\n      <td>5</td>\n      <td>https:https://cdn.book24.ru/v2/ASE000000000836...</td>\n      <td>Карл Густав Юнг (1875–1961) – швейцарский псих...</td>\n    </tr>\n    <tr>\n      <th>274</th>\n      <td>Язык тела для лидеров</td>\n      <td>NaN</td>\n      <td>Лидерство</td>\n      <td>Попурри</td>\n      <td>6+</td>\n      <td>2012.0</td>\n      <td>240.0</td>\n      <td>0,0</td>\n      <td>https://ndc.book24.ru/resize/410x590/iblock/fd...</td>\n      <td>Независимо от того, ведете ли вы беседу с глаз...</td>\n    </tr>\n    <tr>\n      <th>276</th>\n      <td>Супермышление в бизнесе</td>\n      <td>NaN</td>\n      <td>Предпринимательство</td>\n      <td>Попурри</td>\n      <td>16+</td>\n      <td>2014.0</td>\n      <td>304.0</td>\n      <td>0,0</td>\n      <td>https://ndc.book24.ru/resize/410x590/iblock/7d...</td>\n      <td>Тони Бьюзен, всемирно известный изобретатель и...</td>\n    </tr>\n    <tr>\n      <th>454</th>\n      <td>Думай как миллиардер</td>\n      <td>NaN</td>\n      <td>Психология бизнеса</td>\n      <td>Альпина</td>\n      <td>12+</td>\n      <td>2022.0</td>\n      <td>250.0</td>\n      <td>0,0</td>\n      <td>https://ndc.book24.ru/resize/410x590/iblock/ad...</td>\n      <td>\"Даже если вы усвоите лишь 10% изложенных здес...</td>\n    </tr>\n  </tbody>\n</table>\n</div>"
     },
     "execution_count": 30,
     "metadata": {},
     "output_type": "execute_result"
    }
   ],
   "source": [
    "need_sections = df_sections.query(\"section not in ['Копирайтинг', 'Популярная медицина', 'Кино', 'Языкознание', 'Русский язык']\")\n",
    "need_sections"
   ],
   "metadata": {
    "collapsed": false,
    "pycharm": {
     "name": "#%%\n"
    }
   }
  },
  {
   "cell_type": "code",
   "execution_count": 31,
   "outputs": [],
   "source": [
    "sections = need_sections['section']"
   ],
   "metadata": {
    "collapsed": false,
    "pycharm": {
     "name": "#%%\n"
    }
   }
  },
  {
   "cell_type": "code",
   "execution_count": 32,
   "outputs": [
    {
     "data": {
      "text/plain": "0      Саморазвитие и личностный рост\n2               Популярная психология\n14                Психология личности\n114           Классическая психология\n274                         Лидерство\n276               Предпринимательство\n454                Психология бизнеса\nName: section, dtype: object"
     },
     "execution_count": 32,
     "metadata": {},
     "output_type": "execute_result"
    }
   ],
   "source": [
    "sections"
   ],
   "metadata": {
    "collapsed": false,
    "pycharm": {
     "name": "#%%\n"
    }
   }
  },
  {
   "cell_type": "code",
   "execution_count": 33,
   "outputs": [
    {
     "data": {
      "text/plain": "0      Саморазвитие и личностный рост\n2               Популярная психология\n14                Психология личности\n114           Классическая психология\n274                         Лидерство\n276               Предпринимательство\n454                Психология бизнеса\nName: section, dtype: object"
     },
     "execution_count": 33,
     "metadata": {},
     "output_type": "execute_result"
    }
   ],
   "source": [
    "sections.drop_duplicates()"
   ],
   "metadata": {
    "collapsed": false,
    "pycharm": {
     "name": "#%%\n"
    }
   }
  },
  {
   "cell_type": "code",
   "execution_count": 34,
   "outputs": [],
   "source": [
    "sections.to_csv(r'/Users/dianaverevkina/Diplom_project/Diploma — копия 3/data_preparation/sections_new.csv', index=False)"
   ],
   "metadata": {
    "collapsed": false,
    "pycharm": {
     "name": "#%%\n"
    }
   }
  },
  {
   "cell_type": "code",
   "execution_count": null,
   "outputs": [],
   "source": [],
   "metadata": {
    "collapsed": false,
    "pycharm": {
     "name": "#%%\n"
    }
   }
  }
 ],
 "metadata": {
  "kernelspec": {
   "display_name": "Python 3",
   "language": "python",
   "name": "python3"
  },
  "language_info": {
   "codemirror_mode": {
    "name": "ipython",
    "version": 2
   },
   "file_extension": ".py",
   "mimetype": "text/x-python",
   "name": "python",
   "nbconvert_exporter": "python",
   "pygments_lexer": "ipython2",
   "version": "2.7.6"
  }
 },
 "nbformat": 4,
 "nbformat_minor": 0
}