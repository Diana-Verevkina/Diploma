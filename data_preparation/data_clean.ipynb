{
 "cells": [
  {
   "cell_type": "code",
   "execution_count": 2,
   "outputs": [],
   "source": [
    "import pandas as pd"
   ],
   "metadata": {
    "collapsed": false,
    "pycharm": {
     "name": "#%%\n"
    }
   }
  },
  {
   "cell_type": "markdown",
   "source": [
    "### Загрузка и первичный анализ данных после парсера (project_book.json)"
   ],
   "metadata": {
    "collapsed": false,
    "pycharm": {
     "name": "#%% md\n"
    }
   }
  },
  {
   "cell_type": "markdown",
   "source": [
    "Исходная база (после парсера)"
   ],
   "metadata": {
    "collapsed": false,
    "pycharm": {
     "name": "#%% md\n"
    }
   }
  },
  {
   "cell_type": "code",
   "execution_count": 5,
   "outputs": [
    {
     "data": {
      "text/plain": "                                                   name            author  \\\n0     Брать, давать и наслаждаться. Как оставаться в...  Татьяна Мужицкая   \n1     Роман с самим собой. Как уравновесить внутренн...  Татьяна Мужицкая   \n2                       Думай медленно... решай быстро    Даниэль Канеман   \n3     НИ СЫ. Будь уверен в своих силах и не позволяй...      Джен Синсеро   \n4     Психотрюки. 69 приемов в общении, которым не у...       Игорь Рызов   \n...                                                 ...               ...   \n1736    Счастливая жизнь без панических атак и страхов                NaN   \n1737                 Думай и богатей в годы безденежья                NaN   \n1738  Близко к сердцу. Как жить, если вы слишком чув...           Санд И.   \n1739  Занимательная кинесика, или Тайны жестов, поз,...               NaN   \n1740  Наслаждение от каждого дня. Доступная всем про...               NaN   \n\n                             section               publish    age    year  \\\n0     Саморазвитие и личностный рост                   NaN   16+   2022.0   \n1     Саморазвитие и личностный рост                   NaN   16+   2022.0   \n2              Популярная психология                   АСТ   16+   2022.0   \n3     Саморазвитие и личностный рост                   NaN   16+   2022.0   \n4     Саморазвитие и личностный рост                   NaN   12+   2022.0   \n...                              ...                   ...    ...     ...   \n1736  Саморазвитие и личностный рост  Издательские решения   16+   2016.0   \n1737  Саморазвитие и личностный рост                   NaN   16+   2018.0   \n1738  Саморазвитие и личностный рост               Альпина    NaN  2016.0   \n1739  Саморазвитие и личностный рост              Прометей    NaN  2022.0   \n1740  Саморазвитие и личностный рост                   NaN   16+   2022.0   \n\n      pages rating                                               cove  \\\n0     256.0     5   https://ndc.book24.ru/resize/410x590/iblock/3d...   \n1     304.0     5   https:https://cdn.book24.ru/v2/ITD000000001044...   \n2     656.0   4,6   https://ndc.book24.ru/resize/410x590/iblock/0a...   \n3     320.0   4,2   https://ndc.book24.ru/resize/410x590/iblock/54...   \n4     256.0     5   https://ndc.book24.ru/resize/410x590/iblock/74...   \n...     ...    ...                                                ...   \n1736  120.0   0,0   https://ndc.book24.ru/resize/410x590/iblock/28...   \n1737  192.0   0,0   https://ndc.book24.ru/resize/410x590/iblock/fe...   \n1738  158.0   0,0   https://ndc.book24.ru/resize/410x590/iblock/fe...   \n1739  480.0   0,0   https://ndc.book24.ru/resize/410x590/iblock/4c...   \n1740  240.0   0,0   https://ndc.book24.ru/resize/410x590/iblock/18...   \n\n                                            description  \n0     Чувствовать себя полным сил. Вставать каждое у...  \n1     Когда ты себя любишь, ты точно знаешь, чего хо...  \n2     Эта книга полностью изменит вашу жизнь: ведь р...  \n3     Книга полна грубоватых и прикольных советов по...  \n4     Психотрюки — это простые приемы, которые помог...  \n...                                                 ...  \n1736  Хронический стресс, тревога, приступы паники, ...  \n1737  Годы экономического спада в стране \"подкосили\"...  \n1738  Высокочувствительные люди, или «новые интровер...  \n1739  Кинесика — это молчаливый язык, язык тела, с п...  \n1740  Жизнь кажется пресной и безвкусной?Все краски ...  \n\n[1741 rows x 10 columns]",
      "text/html": "<div>\n<style scoped>\n    .dataframe tbody tr th:only-of-type {\n        vertical-align: middle;\n    }\n\n    .dataframe tbody tr th {\n        vertical-align: top;\n    }\n\n    .dataframe thead th {\n        text-align: right;\n    }\n</style>\n<table border=\"1\" class=\"dataframe\">\n  <thead>\n    <tr style=\"text-align: right;\">\n      <th></th>\n      <th>name</th>\n      <th>author</th>\n      <th>section</th>\n      <th>publish</th>\n      <th>age</th>\n      <th>year</th>\n      <th>pages</th>\n      <th>rating</th>\n      <th>cove</th>\n      <th>description</th>\n    </tr>\n  </thead>\n  <tbody>\n    <tr>\n      <th>0</th>\n      <td>Брать, давать и наслаждаться. Как оставаться в...</td>\n      <td>Татьяна Мужицкая</td>\n      <td>Саморазвитие и личностный рост</td>\n      <td>NaN</td>\n      <td>16+</td>\n      <td>2022.0</td>\n      <td>256.0</td>\n      <td>5</td>\n      <td>https://ndc.book24.ru/resize/410x590/iblock/3d...</td>\n      <td>Чувствовать себя полным сил. Вставать каждое у...</td>\n    </tr>\n    <tr>\n      <th>1</th>\n      <td>Роман с самим собой. Как уравновесить внутренн...</td>\n      <td>Татьяна Мужицкая</td>\n      <td>Саморазвитие и личностный рост</td>\n      <td>NaN</td>\n      <td>16+</td>\n      <td>2022.0</td>\n      <td>304.0</td>\n      <td>5</td>\n      <td>https:https://cdn.book24.ru/v2/ITD000000001044...</td>\n      <td>Когда ты себя любишь, ты точно знаешь, чего хо...</td>\n    </tr>\n    <tr>\n      <th>2</th>\n      <td>Думай медленно... решай быстро</td>\n      <td>Даниэль Канеман</td>\n      <td>Популярная психология</td>\n      <td>АСТ</td>\n      <td>16+</td>\n      <td>2022.0</td>\n      <td>656.0</td>\n      <td>4,6</td>\n      <td>https://ndc.book24.ru/resize/410x590/iblock/0a...</td>\n      <td>Эта книга полностью изменит вашу жизнь: ведь р...</td>\n    </tr>\n    <tr>\n      <th>3</th>\n      <td>НИ СЫ. Будь уверен в своих силах и не позволяй...</td>\n      <td>Джен Синсеро</td>\n      <td>Саморазвитие и личностный рост</td>\n      <td>NaN</td>\n      <td>16+</td>\n      <td>2022.0</td>\n      <td>320.0</td>\n      <td>4,2</td>\n      <td>https://ndc.book24.ru/resize/410x590/iblock/54...</td>\n      <td>Книга полна грубоватых и прикольных советов по...</td>\n    </tr>\n    <tr>\n      <th>4</th>\n      <td>Психотрюки. 69 приемов в общении, которым не у...</td>\n      <td>Игорь Рызов</td>\n      <td>Саморазвитие и личностный рост</td>\n      <td>NaN</td>\n      <td>12+</td>\n      <td>2022.0</td>\n      <td>256.0</td>\n      <td>5</td>\n      <td>https://ndc.book24.ru/resize/410x590/iblock/74...</td>\n      <td>Психотрюки — это простые приемы, которые помог...</td>\n    </tr>\n    <tr>\n      <th>...</th>\n      <td>...</td>\n      <td>...</td>\n      <td>...</td>\n      <td>...</td>\n      <td>...</td>\n      <td>...</td>\n      <td>...</td>\n      <td>...</td>\n      <td>...</td>\n      <td>...</td>\n    </tr>\n    <tr>\n      <th>1736</th>\n      <td>Счастливая жизнь без панических атак и страхов</td>\n      <td>NaN</td>\n      <td>Саморазвитие и личностный рост</td>\n      <td>Издательские решения</td>\n      <td>16+</td>\n      <td>2016.0</td>\n      <td>120.0</td>\n      <td>0,0</td>\n      <td>https://ndc.book24.ru/resize/410x590/iblock/28...</td>\n      <td>Хронический стресс, тревога, приступы паники, ...</td>\n    </tr>\n    <tr>\n      <th>1737</th>\n      <td>Думай и богатей в годы безденежья</td>\n      <td>NaN</td>\n      <td>Саморазвитие и личностный рост</td>\n      <td>NaN</td>\n      <td>16+</td>\n      <td>2018.0</td>\n      <td>192.0</td>\n      <td>0,0</td>\n      <td>https://ndc.book24.ru/resize/410x590/iblock/fe...</td>\n      <td>Годы экономического спада в стране \"подкосили\"...</td>\n    </tr>\n    <tr>\n      <th>1738</th>\n      <td>Близко к сердцу. Как жить, если вы слишком чув...</td>\n      <td>Санд И.</td>\n      <td>Саморазвитие и личностный рост</td>\n      <td>Альпина</td>\n      <td>NaN</td>\n      <td>2016.0</td>\n      <td>158.0</td>\n      <td>0,0</td>\n      <td>https://ndc.book24.ru/resize/410x590/iblock/fe...</td>\n      <td>Высокочувствительные люди, или «новые интровер...</td>\n    </tr>\n    <tr>\n      <th>1739</th>\n      <td>Занимательная кинесика, или Тайны жестов, поз,...</td>\n      <td>NaN</td>\n      <td>Саморазвитие и личностный рост</td>\n      <td>Прометей</td>\n      <td>NaN</td>\n      <td>2022.0</td>\n      <td>480.0</td>\n      <td>0,0</td>\n      <td>https://ndc.book24.ru/resize/410x590/iblock/4c...</td>\n      <td>Кинесика — это молчаливый язык, язык тела, с п...</td>\n    </tr>\n    <tr>\n      <th>1740</th>\n      <td>Наслаждение от каждого дня. Доступная всем про...</td>\n      <td>NaN</td>\n      <td>Саморазвитие и личностный рост</td>\n      <td>NaN</td>\n      <td>16+</td>\n      <td>2022.0</td>\n      <td>240.0</td>\n      <td>0,0</td>\n      <td>https://ndc.book24.ru/resize/410x590/iblock/18...</td>\n      <td>Жизнь кажется пресной и безвкусной?Все краски ...</td>\n    </tr>\n  </tbody>\n</table>\n<p>1741 rows × 10 columns</p>\n</div>"
     },
     "execution_count": 5,
     "metadata": {},
     "output_type": "execute_result"
    }
   ],
   "source": [
    "data = pd.read_json('project_book.json')\n",
    "data"
   ],
   "metadata": {
    "collapsed": false,
    "pycharm": {
     "name": "#%%\n"
    }
   }
  },
  {
   "cell_type": "code",
   "execution_count": 6,
   "outputs": [
    {
     "data": {
      "text/plain": "(1741, 10)"
     },
     "execution_count": 6,
     "metadata": {},
     "output_type": "execute_result"
    }
   ],
   "source": [
    "data.shape"
   ],
   "metadata": {
    "collapsed": false,
    "pycharm": {
     "name": "#%%\n"
    }
   }
  },
  {
   "cell_type": "code",
   "execution_count": 7,
   "outputs": [
    {
     "data": {
      "text/plain": "name            object\nauthor          object\nsection         object\npublish         object\nage             object\nyear           float64\npages          float64\nrating          object\ncove            object\ndescription     object\ndtype: object"
     },
     "execution_count": 7,
     "metadata": {},
     "output_type": "execute_result"
    }
   ],
   "source": [
    "data.dtypes"
   ],
   "metadata": {
    "collapsed": false,
    "pycharm": {
     "name": "#%%\n"
    }
   }
  },
  {
   "cell_type": "code",
   "execution_count": 8,
   "outputs": [
    {
     "data": {
      "text/plain": "name             0\nauthor           0\nsection          0\npublish          0\nage              0\nyear            51\npages          174\nrating           0\ncove             0\ndescription      0\ndtype: int64"
     },
     "execution_count": 8,
     "metadata": {},
     "output_type": "execute_result"
    }
   ],
   "source": [
    "data.isnull().sum()\n",
    "# отсутствие значений по полям 'year' и 'pages' не играют существенной роли"
   ],
   "metadata": {
    "collapsed": false,
    "pycharm": {
     "name": "#%%\n"
    }
   }
  },
  {
   "cell_type": "code",
   "execution_count": 9,
   "outputs": [],
   "source": [
    "uniq = []\n",
    "uniq.append(0)\n",
    "# проходим по всем книгам и помечаем книги с повторяющимися названиями (uniq[i] += 1)\n",
    "for i in range(1, 1741):\n",
    "    uniq.append(0)\n",
    "    for j in range(0, i - 1):\n",
    "        if data.name[j] == data.name[i]:\n",
    "            uniq[i] += 1"
   ],
   "metadata": {
    "collapsed": false,
    "pycharm": {
     "name": "#%%\n"
    }
   }
  },
  {
   "cell_type": "code",
   "execution_count": 10,
   "outputs": [
    {
     "data": {
      "text/plain": "[0,\n 0,\n 0,\n 0,\n 0,\n 0,\n 0,\n 0,\n 0,\n 0,\n 0,\n 0,\n 0,\n 0,\n 0,\n 0,\n 0,\n 0,\n 0,\n 0,\n 0,\n 0,\n 0,\n 0,\n 0,\n 0,\n 0,\n 0,\n 0,\n 0,\n 0,\n 0,\n 0,\n 0,\n 0,\n 0,\n 0,\n 0,\n 0,\n 0,\n 0,\n 0,\n 0,\n 1,\n 0,\n 0,\n 0,\n 0,\n 0,\n 0,\n 0,\n 0,\n 0,\n 0,\n 0,\n 0,\n 0,\n 0,\n 0,\n 0,\n 1,\n 0,\n 0,\n 0,\n 0,\n 0,\n 0,\n 0,\n 0,\n 0,\n 0,\n 0,\n 0,\n 0,\n 0,\n 0,\n 0,\n 0,\n 0,\n 0,\n 0,\n 0,\n 0,\n 0,\n 0,\n 0,\n 0,\n 0,\n 0,\n 0,\n 0,\n 0,\n 0,\n 0,\n 0,\n 1,\n 0,\n 0,\n 0,\n 0,\n 0,\n 0,\n 0,\n 0,\n 0,\n 0,\n 0,\n 0,\n 0,\n 0,\n 1,\n 0,\n 0,\n 0,\n 0,\n 0,\n 0,\n 0,\n 0,\n 0,\n 1,\n 0,\n 0,\n 0,\n 0,\n 0,\n 0,\n 0,\n 0,\n 0,\n 0,\n 1,\n 0,\n 0,\n 0,\n 2,\n 0,\n 0,\n 0,\n 0,\n 0,\n 0,\n 0,\n 0,\n 0,\n 0,\n 2,\n 0,\n 0,\n 0,\n 0,\n 0,\n 0,\n 0,\n 0,\n 0,\n 0,\n 0,\n 0,\n 0,\n 0,\n 0,\n 0,\n 0,\n 0,\n 0,\n 0,\n 0,\n 0,\n 0,\n 0,\n 0,\n 0,\n 0,\n 0,\n 0,\n 0,\n 1,\n 0,\n 3,\n 0,\n 4,\n 0,\n 0,\n 0,\n 0,\n 0,\n 0,\n 0,\n 0,\n 0,\n 0,\n 0,\n 0,\n 0,\n 0,\n 0,\n 0,\n 0,\n 0,\n 0,\n 0,\n 0,\n 1,\n 0,\n 0,\n 0,\n 0,\n 0,\n 0,\n 0,\n 0,\n 0,\n 0,\n 0,\n 0,\n 0,\n 0,\n 0,\n 0,\n 0,\n 0,\n 0,\n 0,\n 0,\n 0,\n 0,\n 0,\n 0,\n 0,\n 0,\n 0,\n 0,\n 0,\n 0,\n 0,\n 0,\n 0,\n 0,\n 0,\n 0,\n 0,\n 0,\n 0,\n 0,\n 0,\n 0,\n 0,\n 0,\n 0,\n 0,\n 0,\n 0,\n 5,\n 0,\n 0,\n 0,\n 0,\n 0,\n 0,\n 0,\n 0,\n 0,\n 0,\n 0,\n 0,\n 0,\n 0,\n 0,\n 0,\n 0,\n 0,\n 0,\n 0,\n 0,\n 0,\n 0,\n 0,\n 0,\n 0,\n 0,\n 0,\n 0,\n 0,\n 0,\n 0,\n 0,\n 0,\n 0,\n 0,\n 0,\n 0,\n 0,\n 0,\n 0,\n 0,\n 0,\n 0,\n 0,\n 0,\n 0,\n 0,\n 0,\n 0,\n 0,\n 0,\n 0,\n 0,\n 0,\n 0,\n 0,\n 0,\n 0,\n 0,\n 0,\n 0,\n 0,\n 0,\n 0,\n 0,\n 6,\n 0,\n 0,\n 0,\n 0,\n 0,\n 0,\n 0,\n 0,\n 0,\n 0,\n 0,\n 0,\n 0,\n 0,\n 0,\n 0,\n 0,\n 7,\n 7,\n 0,\n 0,\n 0,\n 0,\n 0,\n 0,\n 0,\n 0,\n 0,\n 0,\n 0,\n 0,\n 0,\n 0,\n 0,\n 0,\n 0,\n 0,\n 0,\n 0,\n 0,\n 0,\n 0,\n 0,\n 0,\n 0,\n 0,\n 0,\n 0,\n 0,\n 0,\n 0,\n 0,\n 0,\n 0,\n 0,\n 0,\n 0,\n 0,\n 0,\n 0,\n 0,\n 0,\n 0,\n 0,\n 0,\n 0,\n 0,\n 0,\n 0,\n 1,\n 0,\n 0,\n 0,\n 9,\n 0,\n 0,\n 0,\n 0,\n 0,\n 0,\n 0,\n 0,\n 0,\n 0,\n 0,\n 0,\n 0,\n 0,\n 0,\n 0,\n 0,\n 0,\n 0,\n 0,\n 0,\n 0,\n 0,\n 0,\n 0,\n 0,\n 0,\n 0,\n 0,\n 0,\n 0,\n 0,\n 0,\n 0,\n 0,\n 0,\n 0,\n 0,\n 0,\n 0,\n 0,\n 0,\n 0,\n 0,\n 0,\n 0,\n 0,\n 0,\n 0,\n 0,\n 0,\n 0,\n 0,\n 0,\n 0,\n 0,\n 0,\n 0,\n 0,\n 0,\n 0,\n 0,\n 0,\n 0,\n 0,\n 0,\n 0,\n 0,\n 0,\n 0,\n 0,\n 0,\n 0,\n 0,\n 0,\n 0,\n 0,\n 0,\n 0,\n 0,\n 0,\n 0,\n 0,\n 0,\n 0,\n 0,\n 0,\n 0,\n 1,\n 0,\n 0,\n 0,\n 0,\n 0,\n 0,\n 0,\n 0,\n 0,\n 0,\n 0,\n 0,\n 0,\n 0,\n 0,\n 0,\n 0,\n 0,\n 0,\n 0,\n 0,\n 0,\n 1,\n 0,\n 0,\n 0,\n 0,\n 0,\n 0,\n 0,\n 0,\n 0,\n 0,\n 0,\n 0,\n 0,\n 0,\n 0,\n 0,\n 0,\n 0,\n 0,\n 0,\n 0,\n 0,\n 0,\n 0,\n 0,\n 0,\n 0,\n 0,\n 0,\n 0,\n 0,\n 0,\n 0,\n 0,\n 0,\n 0,\n 0,\n 0,\n 0,\n 0,\n 0,\n 0,\n 0,\n 0,\n 0,\n 0,\n 0,\n 0,\n 0,\n 0,\n 0,\n 0,\n 0,\n 0,\n 0,\n 0,\n 0,\n 0,\n 0,\n 0,\n 0,\n 0,\n 0,\n 0,\n 0,\n 0,\n 0,\n 0,\n 0,\n 0,\n 0,\n 0,\n 0,\n 0,\n 0,\n 0,\n 0,\n 0,\n 0,\n 0,\n 0,\n 0,\n 0,\n 0,\n 0,\n 0,\n 0,\n 0,\n 0,\n 0,\n 0,\n 0,\n 0,\n 0,\n 0,\n 0,\n 0,\n 0,\n 0,\n 0,\n 0,\n 0,\n 0,\n 0,\n 0,\n 0,\n 0,\n 0,\n 0,\n 0,\n 0,\n 0,\n 0,\n 0,\n 0,\n 0,\n 0,\n 0,\n 0,\n 0,\n 0,\n 0,\n 0,\n 0,\n 0,\n 0,\n 0,\n 0,\n 0,\n 0,\n 0,\n 0,\n 0,\n 0,\n 0,\n 0,\n 0,\n 0,\n 0,\n 0,\n 0,\n 0,\n 0,\n 0,\n 10,\n 0,\n 0,\n 0,\n 0,\n 0,\n 0,\n 0,\n 0,\n 0,\n 0,\n 0,\n 0,\n 0,\n 0,\n 0,\n 0,\n 0,\n 0,\n 0,\n 0,\n 0,\n 0,\n 0,\n 0,\n 0,\n 0,\n 11,\n 0,\n 0,\n 12,\n 0,\n 0,\n 0,\n 0,\n 0,\n 0,\n 0,\n 0,\n 0,\n 0,\n 0,\n 0,\n 0,\n 0,\n 0,\n 0,\n 0,\n 0,\n 0,\n 0,\n 0,\n 0,\n 0,\n 0,\n 0,\n 0,\n 0,\n 0,\n 0,\n 0,\n 0,\n 0,\n 0,\n 0,\n 0,\n 0,\n 0,\n 0,\n 0,\n 0,\n 0,\n 0,\n 0,\n 0,\n 0,\n 0,\n 0,\n 0,\n 0,\n 0,\n 0,\n 0,\n 0,\n 0,\n 0,\n 0,\n 0,\n 0,\n 0,\n 0,\n 0,\n 0,\n 0,\n 0,\n 0,\n 0,\n 0,\n 0,\n 0,\n 0,\n 0,\n 0,\n 0,\n 0,\n 0,\n 0,\n 0,\n 0,\n 0,\n 13,\n 0,\n 0,\n 0,\n 0,\n 14,\n 0,\n 0,\n 0,\n 0,\n 1,\n 0,\n 0,\n 0,\n 0,\n 0,\n 0,\n 0,\n 0,\n 0,\n 0,\n 0,\n 0,\n 0,\n 1,\n 0,\n 0,\n 0,\n 0,\n 0,\n 0,\n 0,\n 0,\n 0,\n 0,\n 0,\n 0,\n 0,\n 0,\n 0,\n 1,\n 0,\n 0,\n 0,\n 0,\n 0,\n 0,\n 0,\n 0,\n 0,\n 0,\n 0,\n 0,\n 0,\n 0,\n 0,\n 0,\n 0,\n 0,\n 0,\n 0,\n 0,\n 0,\n 0,\n 0,\n 0,\n 0,\n 0,\n 0,\n 0,\n 0,\n 0,\n 0,\n 0,\n 0,\n 0,\n 0,\n 0,\n 0,\n 0,\n 0,\n 0,\n 0,\n 0,\n 0,\n 0,\n 0,\n 0,\n 0,\n 0,\n 0,\n 0,\n 0,\n 0,\n 0,\n 0,\n 0,\n 0,\n 0,\n 0,\n 0,\n 0,\n 0,\n 0,\n 0,\n 0,\n 0,\n 0,\n 0,\n 0,\n 0,\n 0,\n 0,\n 0,\n 0,\n 0,\n 0,\n 0,\n 0,\n 0,\n 0,\n 0,\n 0,\n 0,\n 0,\n 0,\n 0,\n 0,\n 0,\n 0,\n 0,\n 0,\n 0,\n 0,\n 0,\n 0,\n 0,\n 0,\n 0,\n 0,\n 0,\n 0,\n 0,\n 0,\n 0,\n 0,\n 15,\n 0,\n 16,\n 16,\n 17,\n 18,\n 19,\n 20,\n 21,\n 22,\n 23,\n 0,\n 25,\n 25,\n 26,\n 27,\n 28,\n 29,\n 30,\n 31,\n 32,\n 0,\n 34,\n 34,\n 35,\n 0,\n 0,\n 0,\n 0,\n 0,\n 0,\n 0,\n 0,\n 0,\n 0,\n 0,\n 0,\n 0,\n 0,\n 0,\n 0,\n 0,\n 0,\n 0,\n 0,\n 0,\n 0,\n 0,\n 0,\n 0,\n 0,\n 0,\n 0,\n 0,\n 0,\n 0,\n 0,\n 0,\n 0,\n 0,\n 0,\n 0,\n 0,\n 0,\n 0,\n 0,\n 0,\n 0,\n 0,\n 0,\n 0,\n 0,\n 0,\n 37,\n 0,\n 0,\n 0,\n 0,\n 0,\n 0,\n 0,\n 0,\n 0,\n 0,\n 0,\n 0,\n 0,\n 0,\n 0,\n 0,\n 0,\n 0,\n 0,\n ...]"
     },
     "execution_count": 10,
     "metadata": {},
     "output_type": "execute_result"
    }
   ],
   "source": [
    "uniq"
   ],
   "metadata": {
    "collapsed": false,
    "pycharm": {
     "name": "#%%\n"
    }
   }
  },
  {
   "cell_type": "code",
   "execution_count": 11,
   "outputs": [],
   "source": [
    "#заполняем список delet индексами книг, которые нужно удалить\n",
    "delet = []\n",
    "for h in range(len(uniq)):\n",
    "    if uniq[h] > 0:\n",
    "        delet.append(h)"
   ],
   "metadata": {
    "collapsed": false,
    "pycharm": {
     "name": "#%%\n"
    }
   }
  },
  {
   "cell_type": "code",
   "execution_count": 12,
   "outputs": [
    {
     "data": {
      "text/plain": "[43,\n 60,\n 95,\n 110,\n 120,\n 131,\n 135,\n 146,\n 177,\n 179,\n 181,\n 203,\n 253,\n 320,\n 338,\n 339,\n 390,\n 394,\n 483,\n 506,\n 651,\n 678,\n 681,\n 761,\n 766,\n 771,\n 785,\n 801,\n 907,\n 909,\n 910,\n 911,\n 912,\n 913,\n 914,\n 915,\n 916,\n 917,\n 919,\n 920,\n 921,\n 922,\n 923,\n 924,\n 925,\n 926,\n 927,\n 929,\n 930,\n 931,\n 980,\n 1016,\n 1111,\n 1182,\n 1202,\n 1217,\n 1235,\n 1237,\n 1241,\n 1242,\n 1245,\n 1246,\n 1247,\n 1249,\n 1250,\n 1251,\n 1252,\n 1253,\n 1254,\n 1275,\n 1293,\n 1295,\n 1349,\n 1364,\n 1391,\n 1397,\n 1398,\n 1409,\n 1410,\n 1411,\n 1417,\n 1427,\n 1434,\n 1439,\n 1441,\n 1451,\n 1452,\n 1463,\n 1464,\n 1466,\n 1468,\n 1474,\n 1479,\n 1482,\n 1491,\n 1492,\n 1497,\n 1510,\n 1518,\n 1522,\n 1524,\n 1542,\n 1570,\n 1603,\n 1604,\n 1613,\n 1628,\n 1636,\n 1648,\n 1671,\n 1690,\n 1702,\n 1715,\n 1720]"
     },
     "execution_count": 12,
     "metadata": {},
     "output_type": "execute_result"
    }
   ],
   "source": [
    "delet"
   ],
   "metadata": {
    "collapsed": false,
    "pycharm": {
     "name": "#%%\n"
    }
   }
  },
  {
   "cell_type": "code",
   "execution_count": 13,
   "outputs": [
    {
     "data": {
      "text/plain": "114"
     },
     "execution_count": 13,
     "metadata": {},
     "output_type": "execute_result"
    }
   ],
   "source": [
    "len(delet)"
   ],
   "metadata": {
    "collapsed": false,
    "pycharm": {
     "name": "#%%\n"
    }
   }
  },
  {
   "cell_type": "code",
   "execution_count": 14,
   "outputs": [
    {
     "data": {
      "text/plain": "(1741, 10)"
     },
     "execution_count": 14,
     "metadata": {},
     "output_type": "execute_result"
    }
   ],
   "source": [
    "data_uniq = data\n",
    "data_uniq.shape"
   ],
   "metadata": {
    "collapsed": false,
    "pycharm": {
     "name": "#%%\n"
    }
   }
  },
  {
   "cell_type": "code",
   "execution_count": 15,
   "outputs": [
    {
     "data": {
      "text/plain": "(1627, 10)"
     },
     "execution_count": 15,
     "metadata": {},
     "output_type": "execute_result"
    }
   ],
   "source": [
    "#удаляем повторяющиеся экземпляры книг\n",
    "for i in delet:\n",
    "    data_uniq = data_uniq.drop(index=i)\n",
    "data_uniq.shape"
   ],
   "metadata": {
    "collapsed": false,
    "pycharm": {
     "name": "#%%\n"
    }
   }
  },
  {
   "cell_type": "markdown",
   "source": [
    " ## Сохранение книг без повторяющихся экземпляров"
   ],
   "metadata": {
    "collapsed": false,
    "pycharm": {
     "name": "#%% md\n"
    }
   }
  },
  {
   "cell_type": "code",
   "execution_count": 17,
   "outputs": [],
   "source": [
    "data_uniq.to_csv(r'/Users/dianaverevkina/Diplom_project/Diploma — копия 3/data_preparation/data_uniq.csv', index=False)"
   ],
   "metadata": {
    "collapsed": false,
    "pycharm": {
     "name": "#%%\n"
    }
   }
  }
 ],
 "metadata": {
  "kernelspec": {
   "display_name": "Python 3",
   "language": "python",
   "name": "python3"
  },
  "language_info": {
   "codemirror_mode": {
    "name": "ipython",
    "version": 2
   },
   "file_extension": ".py",
   "mimetype": "text/x-python",
   "name": "python",
   "nbconvert_exporter": "python",
   "pygments_lexer": "ipython2",
   "version": "2.7.6"
  }
 },
 "nbformat": 4,
 "nbformat_minor": 0
}